{
 "cells": [
  {
   "cell_type": "markdown",
   "metadata": {},
   "source": [
    "# Sparkify Project Workspace\n",
    "\n",
    "This is the final project of my Udacity Nanodegree as Data Scientist. Goal of the project is to predict user churn of an online music streaming service using machine learning algorithms. \n",
    "\n",
    "Basis of the project is 12 GB dataset containing all information about user interactions with the online streaming service. The data is stored in a AWS Simple Storage Service (S3) bucket in JSON format.\n",
    "Datasets of such a large scale are challenging to process on a single computer and are therefore referred to as big data. \n",
    "\n",
    "I will use Apache Spark to work with the full dataset. Apache Spark is a popular tool for large scale data processing. It allows to efficiently spread data and computations across a network of distributed computers, called clusters. Each cluster has nodes (computers) that do the computations in parallel.\n",
    "This workspace contains a tiny subset (128MB) of the full dataset available. I will explore the smaller subset with descriptive statistics using Spark before creating a Spark machine learning model based on the full dataset. The full dataset will be processed in Amazon Web Services (AWS) with an Elastic Map Reduce (EMR) cluster of 3 m5.xlarge machines. \n",
    "\n",
    "The project is structured following CRISP-DM, the Cross Industry Process for Data Mining. These are the steps:\n",
    "\n",
    "- [1. Business Understanding](#BU)\n",
    "- [2. Data Understanding](#DU)\n",
    "- [3. Prepare Data](#prepare)\n",
    "- [4. Data Modeling](#modeling)\n",
    "- [5. Evaluate the Results](#evaluate)\n",
    "- [6. Deploy](#deploy)"
   ]
  },
  {
   "cell_type": "markdown",
   "metadata": {},
   "source": [
    "### Load libraries, create Spark session and import data "
   ]
  },
  {
   "cell_type": "code",
   "execution_count": 1,
   "metadata": {},
   "outputs": [],
   "source": [
    "# import libraries for Spark Session\n",
    "import pyspark\n",
    "from pyspark import SparkConf\n",
    "from pyspark.sql import SparkSession\n",
    "\n",
    "# import libraries for sql actions\n",
    "from pyspark.sql.functions import isnan, count, when, col, desc, udf, col, sort_array, asc, avg, countDistinct\n",
    "from pyspark.sql.functions import sum as Fsum\n",
    "from pyspark.sql.window import Window\n",
    "from pyspark.sql.types import IntegerType\n",
    "\n",
    "from pyspark.sql.types import StringType\n",
    "from pyspark.sql.types import IntegerType\n",
    "from pyspark.sql.functions import desc\n",
    "from pyspark.sql.functions import asc\n",
    "from pyspark.sql.functions import sum as Fsum\n",
    "\n",
    "# other non-spark libraries\n",
    "\n",
    "import datetime\n",
    "import re\n",
    "import numpy as np\n",
    "import pandas as pd\n",
    "%matplotlib inline\n",
    "import matplotlib.pyplot as plt\n",
    "import seaborn as sns\n",
    "\n",
    "# Spark ML libraries\n",
    "\n",
    "from pyspark.ml.feature import RegexTokenizer, VectorAssembler, Normalizer, StandardScaler"
   ]
  },
  {
   "cell_type": "code",
   "execution_count": 2,
   "metadata": {},
   "outputs": [],
   "source": [
    "# create a Spark session\n",
    "spark = SparkSession \\\n",
    "    .builder \\\n",
    "    .appName(\"Sparkify\") \\\n",
    "    .getOrCreate()"
   ]
  },
  {
   "cell_type": "code",
   "execution_count": 3,
   "metadata": {},
   "outputs": [
    {
     "data": {
      "text/plain": [
       "[('spark.rdd.compress', 'True'),\n",
       " ('spark.app.id', 'local-1609856469382'),\n",
       " ('spark.app.name', 'Sparkify'),\n",
       " ('spark.serializer.objectStreamReset', '100'),\n",
       " ('spark.master', 'local[*]'),\n",
       " ('spark.submit.pyFiles', ''),\n",
       " ('spark.executor.id', 'driver'),\n",
       " ('spark.submit.deployMode', 'client'),\n",
       " ('spark.driver.port', '51098'),\n",
       " ('spark.ui.showConsoleProgress', 'true'),\n",
       " ('spark.driver.host', '192.168.1.75')]"
      ]
     },
     "execution_count": 3,
     "metadata": {},
     "output_type": "execute_result"
    }
   ],
   "source": [
    "# view information about spark configuration\n",
    "spark.sparkContext.getConf().getAll()"
   ]
  },
  {
   "cell_type": "code",
   "execution_count": 4,
   "metadata": {},
   "outputs": [],
   "source": [
    "# define path and load data\n",
    "path = 'data/mini_sparkify_event_data.json'\n",
    "user_log = spark.read.json(path)"
   ]
  },
  {
   "cell_type": "markdown",
   "metadata": {},
   "source": [
    "In this workspace, the mini-dataset file is `mini_sparkify_event_data.json`."
   ]
  },
  {
   "cell_type": "markdown",
   "metadata": {},
   "source": [
    "<a id='BU'></a>\n",
    "## 1. Business Understanding"
   ]
  },
  {
   "cell_type": "markdown",
   "metadata": {},
   "source": [
    "Sparkify is a (fictional) music streaming service with a business case similar to Spotify. The service can be used on two levels, free tier or premium tier. Both levels of service generate revenue for Sparkify. The free tier service is financed by advertisement in between the songs, the premium tier consists of a monthly or yearly subscription fee to have an advertisement free experience. \n",
    "At any moment the user can decide to downgrade from paid/premium to free, upgrade from free to paid/premium or to cancel from the service completely.\n",
    "    \n",
    "Customer churn is when a customer unsubscribes from a service, ceases to purchase a product or stops engaging with a service [[1](https://www.retentionscience.com/blog/why-measuring-your-customer-churn-rate-increases-revenue/)]. In the case of the music streaming service of this project I will define churn as `Cancellation Confirmation` events, which happen for both paid and free tier users.\n",
    "\n",
    "Usually it is more expensive for a business to acquire new customers than retaining existing customers. Statistics vary from industry to industry, but research indicates that it may cost up to 5 times more to acquire a new customer than to keep an existing one [[2](https://www.forbes.com/sites/jiawertz/2018/09/12/dont-spend-5-times-more-attracting-new-customers-nurture-the-existing-ones/?sh=36d7a6225a8e)].\n",
    "\n",
    "To prevent churn candidates special discounts or other costly measures are offered to customers. These measures usually lower the revenue. The goal is to identify users who are about to churn ahead of time and only target them with marketing campaigns. \n",
    "Churn prediction is an important classification use case for streaming services such as Netflix, Spotify or Apple Music. Companies that can predict customers who are about to churn ahead of time can implement a more effective customer retention strategy."
   ]
  },
  {
   "cell_type": "markdown",
   "metadata": {},
   "source": [
    "<a id='DU'></a>\n",
    "## 2. Data Understanding"
   ]
  },
  {
   "cell_type": "markdown",
   "metadata": {},
   "source": [
    "Let's look into the available columns of the data subset (128MB) and their meaning:"
   ]
  },
  {
   "cell_type": "code",
   "execution_count": 5,
   "metadata": {},
   "outputs": [
    {
     "name": "stdout",
     "output_type": "stream",
     "text": [
      "root\n",
      " |-- artist: string (nullable = true)\n",
      " |-- auth: string (nullable = true)\n",
      " |-- firstName: string (nullable = true)\n",
      " |-- gender: string (nullable = true)\n",
      " |-- itemInSession: long (nullable = true)\n",
      " |-- lastName: string (nullable = true)\n",
      " |-- length: double (nullable = true)\n",
      " |-- level: string (nullable = true)\n",
      " |-- location: string (nullable = true)\n",
      " |-- method: string (nullable = true)\n",
      " |-- page: string (nullable = true)\n",
      " |-- registration: long (nullable = true)\n",
      " |-- sessionId: long (nullable = true)\n",
      " |-- song: string (nullable = true)\n",
      " |-- status: long (nullable = true)\n",
      " |-- ts: long (nullable = true)\n",
      " |-- userAgent: string (nullable = true)\n",
      " |-- userId: string (nullable = true)\n",
      "\n"
     ]
    }
   ],
   "source": [
    "# check schema of object\n",
    "user_log.printSchema()"
   ]
  },
  {
   "cell_type": "code",
   "execution_count": 6,
   "metadata": {},
   "outputs": [
    {
     "data": {
      "text/plain": [
       "[Row(artist='Martha Tilston', auth='Logged In', firstName='Colin', gender='M', itemInSession=50, lastName='Freeman', length=277.89016, level='paid', location='Bakersfield, CA', method='PUT', page='NextSong', registration=1538173362000, sessionId=29, song='Rockpools', status=200, ts=1538352117000, userAgent='Mozilla/5.0 (Windows NT 6.1; WOW64; rv:31.0) Gecko/20100101 Firefox/31.0', userId='30'),\n",
       " Row(artist='Five Iron Frenzy', auth='Logged In', firstName='Micah', gender='M', itemInSession=79, lastName='Long', length=236.09424, level='free', location='Boston-Cambridge-Newton, MA-NH', method='PUT', page='NextSong', registration=1538331630000, sessionId=8, song='Canada', status=200, ts=1538352180000, userAgent='\"Mozilla/5.0 (Windows NT 6.1; WOW64) AppleWebKit/537.36 (KHTML, like Gecko) Chrome/37.0.2062.103 Safari/537.36\"', userId='9')]"
      ]
     },
     "execution_count": 6,
     "metadata": {},
     "output_type": "execute_result"
    }
   ],
   "source": [
    "# look at first two rows to get an idea\n",
    "user_log.head(n=2)"
   ]
  },
  {
   "cell_type": "code",
   "execution_count": 7,
   "metadata": {},
   "outputs": [
    {
     "name": "stdout",
     "output_type": "stream",
     "text": [
      "The dataset contains 286500 rows\n"
     ]
    }
   ],
   "source": [
    "# check length of dataset\n",
    "print('The dataset contains {} rows'.format(user_log.count()))"
   ]
  },
  {
   "cell_type": "markdown",
   "metadata": {},
   "source": [
    "#### Column 'artist'"
   ]
  },
  {
   "cell_type": "code",
   "execution_count": 8,
   "metadata": {},
   "outputs": [
    {
     "name": "stdout",
     "output_type": "stream",
     "text": [
      "There are 17656 unique artists in the dataset.\n"
     ]
    }
   ],
   "source": [
    "# count unique artists in dataset\n",
    "unique_artists = user_log.select('artist').dropDuplicates().count()\n",
    "\n",
    "print('There are {} unique artists in the dataset.'.format(unique_artists))"
   ]
  },
  {
   "cell_type": "code",
   "execution_count": 9,
   "metadata": {},
   "outputs": [
    {
     "name": "stdout",
     "output_type": "stream",
     "text": [
      "+--------------------+-----+\n",
      "|              artist|count|\n",
      "+--------------------+-----+\n",
      "|                null|58392|\n",
      "|       Kings Of Leon| 1841|\n",
      "|            Coldplay| 1813|\n",
      "|Florence + The Ma...| 1236|\n",
      "|       Dwight Yoakam| 1135|\n",
      "|            BjÃÂ¶rk| 1133|\n",
      "|      The Black Keys| 1125|\n",
      "|                Muse| 1090|\n",
      "|       Justin Bieber| 1044|\n",
      "|        Jack Johnson| 1007|\n",
      "|              Eminem|  953|\n",
      "|           Radiohead|  884|\n",
      "|     Alliance Ethnik|  876|\n",
      "|               Train|  854|\n",
      "|        Taylor Swift|  840|\n",
      "|         OneRepublic|  828|\n",
      "|         The Killers|  822|\n",
      "|         Linkin Park|  787|\n",
      "|         Evanescence|  781|\n",
      "|            Harmonia|  729|\n",
      "+--------------------+-----+\n",
      "only showing top 20 rows\n",
      "\n"
     ]
    }
   ],
   "source": [
    "# list artists by occurance\n",
    "user_log.select(['artist', 'song']).groupby('artist').count().orderBy('count', ascending=False).show()"
   ]
  },
  {
   "cell_type": "markdown",
   "metadata": {},
   "source": [
    "Null is the most common value in the dataset for the column artist. I will have to investigate if these rows are valid or if they should be dropped."
   ]
  },
  {
   "cell_type": "markdown",
   "metadata": {},
   "source": [
    "#### Column 'auth'"
   ]
  },
  {
   "cell_type": "code",
   "execution_count": 10,
   "metadata": {},
   "outputs": [
    {
     "name": "stdout",
     "output_type": "stream",
     "text": [
      "+----------+------+\n",
      "|      auth| count|\n",
      "+----------+------+\n",
      "| Logged In|278102|\n",
      "|Logged Out|  8249|\n",
      "|     Guest|    97|\n",
      "| Cancelled|    52|\n",
      "+----------+------+\n",
      "\n"
     ]
    }
   ],
   "source": [
    "# list unique values in authentication column by occurances\n",
    "user_log.select(['auth', 'userId']).groupby('auth').count().orderBy('count', ascending=False).show()"
   ]
  },
  {
   "cell_type": "code",
   "execution_count": 11,
   "metadata": {},
   "outputs": [
    {
     "name": "stdout",
     "output_type": "stream",
     "text": [
      "+------+-----+---------+------+-------------+--------+------+-----+--------+------+-----+------------+---------+----+------+-------------+---------+------+\n",
      "|artist| auth|firstName|gender|itemInSession|lastName|length|level|location|method| page|registration|sessionId|song|status|           ts|userAgent|userId|\n",
      "+------+-----+---------+------+-------------+--------+------+-----+--------+------+-----+------------+---------+----+------+-------------+---------+------+\n",
      "|  null|Guest|     null|  null|            0|    null|  null| free|    null|   GET|Error|        null|      151|null|   404|1540841775000|     null|      |\n",
      "|  null|Guest|     null|  null|            1|    null|  null| free|    null|   GET| Home|        null|      151|null|   200|1540841817000|     null|      |\n",
      "+------+-----+---------+------+-------------+--------+------+-----+--------+------+-----+------------+---------+----+------+-------------+---------+------+\n",
      "only showing top 2 rows\n",
      "\n"
     ]
    }
   ],
   "source": [
    "# look into sample rows of authentication status guest\n",
    "user_log.filter('auth = \"Guest\"').show(n=2)"
   ]
  },
  {
   "cell_type": "markdown",
   "metadata": {},
   "source": [
    "It is possible to interact with Sparkify as a guest. These rows can be dropped, as it is not possible to assign the user interactions of guests to a userId."
   ]
  },
  {
   "cell_type": "code",
   "execution_count": 12,
   "metadata": {},
   "outputs": [
    {
     "name": "stdout",
     "output_type": "stream",
     "text": [
      "+------+---------+---------+------+-------------+--------+------+-----+--------------------+------+--------------------+-------------+---------+----+------+-------------+--------------------+------+\n",
      "|artist|     auth|firstName|gender|itemInSession|lastName|length|level|            location|method|                page| registration|sessionId|song|status|           ts|           userAgent|userId|\n",
      "+------+---------+---------+------+-------------+--------+------+-----+--------------------+------+--------------------+-------------+---------+----+------+-------------+--------------------+------+\n",
      "|  null|Cancelled|   Adriel|     M|          104| Mendoza|  null| paid|  Kansas City, MO-KS|   GET|Cancellation Conf...|1535623466000|      514|null|   200|1538943990000|\"Mozilla/5.0 (Mac...|    18|\n",
      "|  null|Cancelled|    Diego|     M|           56|   Mckee|  null| paid|Phoenix-Mesa-Scot...|   GET|Cancellation Conf...|1537167593000|      540|null|   200|1539033046000|\"Mozilla/5.0 (iPh...|    32|\n",
      "+------+---------+---------+------+-------------+--------+------+-----+--------------------+------+--------------------+-------------+---------+----+------+-------------+--------------------+------+\n",
      "only showing top 2 rows\n",
      "\n"
     ]
    }
   ],
   "source": [
    "# look into sample rows of authentication status guest\n",
    "user_log.filter('auth = \"Cancelled\"').show(n=2)"
   ]
  },
  {
   "cell_type": "markdown",
   "metadata": {},
   "source": [
    "The rows with authentication cancelled seem to be valid."
   ]
  },
  {
   "cell_type": "markdown",
   "metadata": {},
   "source": [
    "#### Columns 'gender' and 'userId'"
   ]
  },
  {
   "cell_type": "code",
   "execution_count": 13,
   "metadata": {},
   "outputs": [
    {
     "name": "stdout",
     "output_type": "stream",
     "text": [
      "+------+------+\n",
      "|gender| count|\n",
      "+------+------+\n",
      "|     F|154578|\n",
      "|     M|123576|\n",
      "|  null|  8346|\n",
      "+------+------+\n",
      "\n"
     ]
    }
   ],
   "source": [
    "# show unique possible values of column 'gender' and occurances\n",
    "user_log.select(['gender', 'userId']).groupby('gender').count().orderBy('count', ascending=False).show()"
   ]
  },
  {
   "cell_type": "markdown",
   "metadata": {},
   "source": [
    "To see how many users are of which gender we have to look at unique userIds. Then we can answer if the dataset is balanced regarding gender."
   ]
  },
  {
   "cell_type": "code",
   "execution_count": 14,
   "metadata": {},
   "outputs": [
    {
     "name": "stdout",
     "output_type": "stream",
     "text": [
      "There are 226 unique users by userId in the dataset. \n",
      "Of those users 121 are male and 104 are female users. \n",
      "There are 0 userId's where the gender is not known\n"
     ]
    }
   ],
   "source": [
    "# check if dataset is balanced regarding gender of userId's\n",
    "\n",
    "unique_users = user_log.select('userId').dropDuplicates().count()\n",
    "\n",
    "male_users = user_log.select('userId').dropDuplicates().filter('gender = \"M\"').count()\n",
    "female_users = user_log.select('userId').dropDuplicates().filter('gender = \"F\"').count()\n",
    "unknown_gender_users = user_log.select('userId').dropDuplicates().filter('gender = \"null\"').count()\n",
    "\n",
    "print('There are {} unique users by userId in the dataset. \\nOf those users {} are male and {} are \\\n",
    "female users. \\nThere are {} userId\\'s where the gender is not known'.format(\n",
    "unique_users, male_users, female_users, unknown_gender_users))"
   ]
  },
  {
   "cell_type": "markdown",
   "metadata": {},
   "source": [
    "The dataset is more or less balanced regarding gender of users. The null values in gender are not present when filtering for unique userId's."
   ]
  },
  {
   "cell_type": "markdown",
   "metadata": {},
   "source": [
    "#### Columns 'itemInSession', 'sessionId', 'song', 'ts'  and 'length'"
   ]
  },
  {
   "cell_type": "code",
   "execution_count": 15,
   "metadata": {},
   "outputs": [
    {
     "name": "stdout",
     "output_type": "stream",
     "text": [
      "+-------------+------+---------+-------------+--------+--------------------+---------+---------+\n",
      "|itemInSession|userId|sessionId|           ts|    page|                song|firstName|   length|\n",
      "+-------------+------+---------+-------------+--------+--------------------+---------+---------+\n",
      "|            0|    18|      242|1538499917000|    Home|                null|   Adriel|     null|\n",
      "|            1|    18|      242|1538499933000|NextSong|A Beggar On A Bea...|   Adriel|275.12118|\n",
      "|            2|    18|      242|1538500208000|NextSong|...slowdance On T...|   Adriel|268.32934|\n",
      "|            3|    18|      242|1538500476000|NextSong|       St. Apollonia|   Adriel|178.72934|\n",
      "|            4|    18|      242|1538500654000|NextSong|      Drunk Stripper|   Adriel|188.76036|\n",
      "|            5|    18|      242|1538500842000|NextSong|In League With Satan|   Adriel|167.91465|\n",
      "|            6|    18|      242|1538500856000|Settings|                null|   Adriel|     null|\n",
      "|            7|    18|      242|1538501009000|NextSong|           The Quest|   Adriel|331.38893|\n",
      "|            8|    18|      242|1538501340000|NextSong|    Waking The Demon|   Adriel|247.69261|\n",
      "|            9|    18|      242|1538501587000|NextSong|Why Do You Let Me...|   Adriel|153.52118|\n",
      "|           10|    18|      242|1538501740000|NextSong|High (Album Version)|   Adriel|244.13995|\n",
      "|           11|    18|      242|1538501984000|NextSong|Remember Me_ I'm ...|   Adriel|140.64281|\n",
      "|           12|    18|      242|1538502021000|Settings|                null|   Adriel|     null|\n",
      "|           13|    18|      242|1538502124000|NextSong|          Continents|   Adriel|232.56771|\n",
      "|           14|    18|      242|1538502356000|NextSong|               Girls|   Adriel|270.23628|\n",
      "|           15|    18|      242|1538502626000|NextSong|       What If I Do?|   Adriel|302.91546|\n",
      "|           16|    18|      242|1538502928000|NextSong|       Soulful Dress|   Adriel|169.50812|\n",
      "|           17|    18|      242|1538503097000|NextSong|        Eenie Meenie|   Adriel| 201.9522|\n",
      "|           18|    18|      242|1538503298000|NextSong|          Kabul Shit|   Adriel|223.97342|\n",
      "|           19|    18|      242|1538503521000|NextSong|Catch You Baby (S...|   Adriel|181.21098|\n",
      "+-------------+------+---------+-------------+--------+--------------------+---------+---------+\n",
      "only showing top 20 rows\n",
      "\n"
     ]
    }
   ],
   "source": [
    "# look at behaviour of values in itemInSession for one user as example\n",
    "user_log.select(['itemInSession', 'userId', 'sessionId', 'ts', 'page', 'song', \n",
    "                 'firstName', 'length']).filter('userId = \"18\"').show()"
   ]
  },
  {
   "cell_type": "markdown",
   "metadata": {},
   "source": [
    "The values in column itemInSession count the interactions which happend for one user during the same sessionId. The value in column length describes the duration of time the song was played and therefore is null for all  page events other than NextSong. Ts stands for timestamp."
   ]
  },
  {
   "cell_type": "markdown",
   "metadata": {},
   "source": [
    "#### Column 'level'"
   ]
  },
  {
   "cell_type": "code",
   "execution_count": 16,
   "metadata": {},
   "outputs": [
    {
     "name": "stdout",
     "output_type": "stream",
     "text": [
      "+-----+-----+\n",
      "|level|count|\n",
      "+-----+-----+\n",
      "| free|  196|\n",
      "| paid|  166|\n",
      "+-----+-----+\n",
      "\n"
     ]
    }
   ],
   "source": [
    "# show unique possible values of column 'level'\n",
    "user_log.select(['level', 'userId']).dropDuplicates().groupby('level').count().orderBy('count', ascending=False).show()"
   ]
  },
  {
   "cell_type": "markdown",
   "metadata": {},
   "source": [
    "There are 196 unique userIds of free tier and 166 of paid tier users."
   ]
  },
  {
   "cell_type": "markdown",
   "metadata": {},
   "source": [
    "#### Column 'location'"
   ]
  },
  {
   "cell_type": "code",
   "execution_count": 17,
   "metadata": {},
   "outputs": [
    {
     "name": "stdout",
     "output_type": "stream",
     "text": [
      "+---------------------------------+\n",
      "|location                         |\n",
      "+---------------------------------+\n",
      "|null                             |\n",
      "|Albany, OR                       |\n",
      "|Albany-Schenectady-Troy, NY      |\n",
      "|Alexandria, LA                   |\n",
      "|Allentown-Bethlehem-Easton, PA-NJ|\n",
      "|Anchorage, AK                    |\n",
      "|Atlanta-Sandy Springs-Roswell, GA|\n",
      "|Atlantic City-Hammonton, NJ      |\n",
      "+---------------------------------+\n",
      "only showing top 8 rows\n",
      "\n"
     ]
    }
   ],
   "source": [
    "# show unique possible values of column 'location'\n",
    "user_log.select('location').dropDuplicates().sort('location').show(n=8, truncate=False)"
   ]
  },
  {
   "cell_type": "code",
   "execution_count": 18,
   "metadata": {},
   "outputs": [
    {
     "name": "stdout",
     "output_type": "stream",
     "text": [
      "+------+---------------+\n",
      "|userId|count(location)|\n",
      "+------+---------------+\n",
      "|   125|              1|\n",
      "|   155|              1|\n",
      "|    54|              1|\n",
      "+------+---------------+\n",
      "only showing top 3 rows\n",
      "\n"
     ]
    }
   ],
   "source": [
    "# check the highest count of unique locations per userId\n",
    "user_log.select(['userId', 'location']).groupby(\n",
    "    'userId').agg(countDistinct('location')).orderBy('count(location)', ascending=False).show(n=3)"
   ]
  },
  {
   "cell_type": "markdown",
   "metadata": {},
   "source": [
    "In the dataset users always access the streaming service from the same location."
   ]
  },
  {
   "cell_type": "markdown",
   "metadata": {},
   "source": [
    "#### Column 'method'"
   ]
  },
  {
   "cell_type": "code",
   "execution_count": 19,
   "metadata": {},
   "outputs": [
    {
     "name": "stdout",
     "output_type": "stream",
     "text": [
      "+------+------+\n",
      "|method| count|\n",
      "+------+------+\n",
      "|   PUT|261064|\n",
      "|   GET| 25436|\n",
      "+------+------+\n",
      "\n"
     ]
    }
   ],
   "source": [
    "# show unique possible values of column 'method'\n",
    "user_log.select(['method', 'userId']).groupby('method').count().orderBy('count', ascending=False).show()"
   ]
  },
  {
   "cell_type": "markdown",
   "metadata": {},
   "source": [
    "#### Column 'page'"
   ]
  },
  {
   "cell_type": "code",
   "execution_count": 20,
   "metadata": {},
   "outputs": [
    {
     "name": "stdout",
     "output_type": "stream",
     "text": [
      "+--------------------+------+\n",
      "|                page| count|\n",
      "+--------------------+------+\n",
      "|            NextSong|228108|\n",
      "|                Home| 14457|\n",
      "|           Thumbs Up| 12551|\n",
      "|     Add to Playlist|  6526|\n",
      "|          Add Friend|  4277|\n",
      "|         Roll Advert|  3933|\n",
      "|               Login|  3241|\n",
      "|              Logout|  3226|\n",
      "|         Thumbs Down|  2546|\n",
      "|           Downgrade|  2055|\n",
      "|                Help|  1726|\n",
      "|            Settings|  1514|\n",
      "|               About|   924|\n",
      "|             Upgrade|   499|\n",
      "|       Save Settings|   310|\n",
      "|               Error|   258|\n",
      "|      Submit Upgrade|   159|\n",
      "|    Submit Downgrade|    63|\n",
      "|              Cancel|    52|\n",
      "|Cancellation Conf...|    52|\n",
      "+--------------------+------+\n",
      "only showing top 20 rows\n",
      "\n"
     ]
    }
   ],
   "source": [
    "# show unique possible values of column 'page'\n",
    "user_log.select(['page', 'userId']).groupby('page').count().orderBy('count', ascending=False).show()"
   ]
  },
  {
   "cell_type": "markdown",
   "metadata": {},
   "source": [
    "The most called page is NextSong which is the main function of the streaming service. The Home page is the page the user enters when starting a streaming session. "
   ]
  },
  {
   "cell_type": "markdown",
   "metadata": {},
   "source": [
    "#### Column 'registration'"
   ]
  },
  {
   "cell_type": "code",
   "execution_count": 21,
   "metadata": {},
   "outputs": [
    {
     "name": "stdout",
     "output_type": "stream",
     "text": [
      "+------+-------------------+\n",
      "|userId|count(registration)|\n",
      "+------+-------------------+\n",
      "|    73|                  1|\n",
      "|    87|                  1|\n",
      "|   125|                  1|\n",
      "+------+-------------------+\n",
      "only showing top 3 rows\n",
      "\n"
     ]
    }
   ],
   "source": [
    "# look at behaviour of values in itemInSession for one user as example\n",
    "user_log.select(['userId', 'registration']).groupby(\n",
    "    'userId').agg(countDistinct('registration')).orderBy('count(registration)', ascending=False).show(n=3)"
   ]
  },
  {
   "cell_type": "markdown",
   "metadata": {},
   "source": [
    "It seems like every userId has exactly one registration."
   ]
  },
  {
   "cell_type": "markdown",
   "metadata": {},
   "source": [
    "#### Column 'userAgent'"
   ]
  },
  {
   "cell_type": "code",
   "execution_count": 22,
   "metadata": {},
   "outputs": [
    {
     "name": "stdout",
     "output_type": "stream",
     "text": [
      "+--------------------------------------------------------------------------------------------------------------------------+\n",
      "|userAgent                                                                                                                 |\n",
      "+--------------------------------------------------------------------------------------------------------------------------+\n",
      "|\"Mozilla/5.0 (Macintosh; Intel Mac OS X 10_8_5) AppleWebKit/537.36 (KHTML, like Gecko) Chrome/36.0.1985.143 Safari/537.36\"|\n",
      "|\"Mozilla/5.0 (Windows NT 5.1) AppleWebKit/537.36 (KHTML, like Gecko) Chrome/36.0.1985.143 Safari/537.36\"                  |\n",
      "|Mozilla/5.0 (X11; Ubuntu; Linux i686; rv:31.0) Gecko/20100101 Firefox/31.0                                                |\n",
      "|\"Mozilla/5.0 (Macintosh; Intel Mac OS X 10_9_4) AppleWebKit/537.36 (KHTML, like Gecko) Chrome/36.0.1985.125 Safari/537.36\"|\n",
      "|\"Mozilla/5.0 (Macintosh; Intel Mac OS X 10_9_4) AppleWebKit/537.36 (KHTML, like Gecko) Chrome/35.0.1916.153 Safari/537.36\"|\n",
      "+--------------------------------------------------------------------------------------------------------------------------+\n",
      "only showing top 5 rows\n",
      "\n"
     ]
    }
   ],
   "source": [
    "# show unique possible values of column 'userAgent'\n",
    "user_log.select('userAgent').dropDuplicates().show(n=5, truncate=False)"
   ]
  },
  {
   "cell_type": "markdown",
   "metadata": {},
   "source": [
    "The column user agent describes the software used to access the streaming service. Examples are Mac OS X with Safari, Windows or Ubuntu."
   ]
  },
  {
   "cell_type": "markdown",
   "metadata": {},
   "source": [
    "### Clean Dataset\n",
    "Clean the dataset, checking for invalid or missing data - for example, records without userids or sessionids. "
   ]
  },
  {
   "cell_type": "code",
   "execution_count": 23,
   "metadata": {},
   "outputs": [
    {
     "data": {
      "text/plain": [
       "286500"
      ]
     },
     "execution_count": 23,
     "metadata": {},
     "output_type": "execute_result"
    }
   ],
   "source": [
    "# count rows \n",
    "user_log.count()"
   ]
  },
  {
   "cell_type": "code",
   "execution_count": 24,
   "metadata": {},
   "outputs": [],
   "source": [
    "# drop any record with NANs in user ID OR session ID and save to new object\n",
    "user_log_valid = user_log.dropna(how = 'any', subset = ['userId', 'sessionId'])"
   ]
  },
  {
   "cell_type": "code",
   "execution_count": 25,
   "metadata": {},
   "outputs": [
    {
     "data": {
      "text/plain": [
       "286500"
      ]
     },
     "execution_count": 25,
     "metadata": {},
     "output_type": "execute_result"
    }
   ],
   "source": [
    "# check amount of  records\n",
    "user_log_valid.count()"
   ]
  },
  {
   "cell_type": "markdown",
   "metadata": {},
   "source": [
    "It turns out there are no missing values in the userID or session columns."
   ]
  },
  {
   "cell_type": "code",
   "execution_count": 26,
   "metadata": {},
   "outputs": [
    {
     "name": "stdout",
     "output_type": "stream",
     "text": [
      "+------+\n",
      "|userId|\n",
      "+------+\n",
      "|      |\n",
      "|    10|\n",
      "|   100|\n",
      "|100001|\n",
      "|100002|\n",
      "|100003|\n",
      "|100004|\n",
      "|100005|\n",
      "+------+\n",
      "only showing top 8 rows\n",
      "\n"
     ]
    }
   ],
   "source": [
    "# show unique user IDs\n",
    "user_log.select('userId').dropDuplicates().sort('userId').show(n=8)"
   ]
  },
  {
   "cell_type": "markdown",
   "metadata": {},
   "source": [
    "But there are userID values that are empty strings."
   ]
  },
  {
   "cell_type": "code",
   "execution_count": 27,
   "metadata": {},
   "outputs": [],
   "source": [
    "# drop empty user IDs\n",
    "user_log_valid = user_log_valid.filter(user_log_valid['userId'] != '')"
   ]
  },
  {
   "cell_type": "code",
   "execution_count": 28,
   "metadata": {},
   "outputs": [
    {
     "data": {
      "text/plain": [
       "278154"
      ]
     },
     "execution_count": 28,
     "metadata": {},
     "output_type": "execute_result"
    }
   ],
   "source": [
    "# check if now less than 286500 records\n",
    "user_log_valid.count()"
   ]
  },
  {
   "cell_type": "code",
   "execution_count": 29,
   "metadata": {},
   "outputs": [
    {
     "name": "stdout",
     "output_type": "stream",
     "text": [
      "+---------+------+\n",
      "|     auth| count|\n",
      "+---------+------+\n",
      "|Logged In|278102|\n",
      "|Cancelled|    52|\n",
      "+---------+------+\n",
      "\n"
     ]
    }
   ],
   "source": [
    "# check if guest entries are dropped all\n",
    "user_log_valid.select(['auth', 'userId']).groupby('auth').count().orderBy('count', ascending=False).show()"
   ]
  },
  {
   "cell_type": "code",
   "execution_count": 30,
   "metadata": {},
   "outputs": [
    {
     "name": "stdout",
     "output_type": "stream",
     "text": [
      "8346 Rows without userId were dropped. This were the users with authentification status \"Logged Out\" (8249) and \"Guest\" (97). Resulting into 278154 rows in the cleaned dataset.\n"
     ]
    }
   ],
   "source": [
    "# calculate amount of users dropped\n",
    "amount_users_dropped = user_log.count() - user_log_valid.count()\n",
    "amount_logged_out = user_log.select('auth').filter('auth = \"Logged Out\"').count()\n",
    "amount_guest = user_log.select('auth').filter('auth = \"Guest\"').count()\n",
    "amount_rows = user_log_valid.count()\n",
    "\n",
    "print('{} Rows without userId were dropped. This were the users with authentification status \"Logged Out\" ({}) \\\n",
    "and \"Guest\" ({}). Resulting into {} rows in the cleaned dataset.'.format(\n",
    "    amount_users_dropped, amount_logged_out, amount_guest, amount_rows))"
   ]
  },
  {
   "cell_type": "markdown",
   "metadata": {},
   "source": [
    "<a id='prepare'></a>\n",
    "## 3. Prepare Data"
   ]
  },
  {
   "cell_type": "markdown",
   "metadata": {},
   "source": [
    "### Define Churn\n",
    "\n",
    "Create a column `Churn` to use as the label for model. Using the `Cancellation Confirmation` events to define  churn, which happen for both paid and free users. Additionally look into the `Downgrade` events."
   ]
  },
  {
   "cell_type": "code",
   "execution_count": 31,
   "metadata": {},
   "outputs": [
    {
     "name": "stdout",
     "output_type": "stream",
     "text": [
      "+------+---------+---------+------+-------------+--------+------+-----+--------------------+------+--------------------+-------------+---------+----+------+-------------+--------------------+------+\n",
      "|artist|     auth|firstName|gender|itemInSession|lastName|length|level|            location|method|                page| registration|sessionId|song|status|           ts|           userAgent|userId|\n",
      "+------+---------+---------+------+-------------+--------+------+-----+--------------------+------+--------------------+-------------+---------+----+------+-------------+--------------------+------+\n",
      "|  null|Cancelled|   Adriel|     M|          104| Mendoza|  null| paid|  Kansas City, MO-KS|   GET|Cancellation Conf...|1535623466000|      514|null|   200|1538943990000|\"Mozilla/5.0 (Mac...|    18|\n",
      "|  null|Cancelled|    Diego|     M|           56|   Mckee|  null| paid|Phoenix-Mesa-Scot...|   GET|Cancellation Conf...|1537167593000|      540|null|   200|1539033046000|\"Mozilla/5.0 (iPh...|    32|\n",
      "|  null|Cancelled|    Mason|     M|           10|    Hart|  null| free|  Corpus Christi, TX|   GET|Cancellation Conf...|1533157139000|      174|null|   200|1539318918000|\"Mozilla/5.0 (Mac...|   125|\n",
      "+------+---------+---------+------+-------------+--------+------+-----+--------------------+------+--------------------+-------------+---------+----+------+-------------+--------------------+------+\n",
      "only showing top 3 rows\n",
      "\n"
     ]
    }
   ],
   "source": [
    "# show records where downgrade was submitted (churn)\n",
    "user_log_valid.filter(\"page = 'Cancellation Confirmation'\").show(n=3)"
   ]
  },
  {
   "cell_type": "code",
   "execution_count": 32,
   "metadata": {},
   "outputs": [
    {
     "name": "stdout",
     "output_type": "stream",
     "text": [
      "+------+\n",
      "|userID|\n",
      "+------+\n",
      "|    18|\n",
      "|    32|\n",
      "|   125|\n",
      "|   105|\n",
      "|    17|\n",
      "|   143|\n",
      "|   101|\n",
      "|   129|\n",
      "+------+\n",
      "only showing top 8 rows\n",
      "\n"
     ]
    }
   ],
   "source": [
    "# Find users who had event 'Cancellation Confirmation'\n",
    "user_log_valid.select('userID').where(user_log.page == 'Cancellation Confirmation').show(n=8)"
   ]
  },
  {
   "cell_type": "code",
   "execution_count": 33,
   "metadata": {
    "scrolled": true
   },
   "outputs": [
    {
     "data": {
      "text/plain": [
       "[Row(userId='101', firstname='Alex', page='Home', level='free', song=None, sessionId=100),\n",
       " Row(userId='101', firstname='Alex', page='Help', level='free', song=None, sessionId=100),\n",
       " Row(userId='101', firstname='Alex', page='Add Friend', level='free', song=None, sessionId=100),\n",
       " Row(userId='101', firstname='Alex', page='Home', level='free', song=None, sessionId=100),\n",
       " Row(userId='101', firstname='Alex', page='Roll Advert', level='free', song=None, sessionId=100),\n",
       " Row(userId='101', firstname='Alex', page='Roll Advert', level='free', song=None, sessionId=100),\n",
       " Row(userId='101', firstname='Alex', page='Thumbs Up', level='free', song=None, sessionId=100),\n",
       " Row(userId='101', firstname='Alex', page='Roll Advert', level='free', song=None, sessionId=100),\n",
       " Row(userId='101', firstname='Alex', page='Roll Advert', level='free', song=None, sessionId=100),\n",
       " Row(userId='101', firstname='Alex', page='Thumbs Up', level='free', song=None, sessionId=100),\n",
       " Row(userId='101', firstname='Alex', page='Roll Advert', level='free', song=None, sessionId=100),\n",
       " Row(userId='101', firstname='Alex', page='Home', level='free', song=None, sessionId=100),\n",
       " Row(userId='101', firstname='Alex', page='Logout', level='free', song=None, sessionId=100),\n",
       " Row(userId='101', firstname='Alex', page='Home', level='free', song=None, sessionId=268),\n",
       " Row(userId='101', firstname='Alex', page='Roll Advert', level='free', song=None, sessionId=268),\n",
       " Row(userId='101', firstname='Alex', page='Roll Advert', level='free', song=None, sessionId=268),\n",
       " Row(userId='101', firstname='Alex', page='Thumbs Down', level='free', song=None, sessionId=312),\n",
       " Row(userId='101', firstname='Alex', page='Add to Playlist', level='free', song=None, sessionId=312),\n",
       " Row(userId='101', firstname='Alex', page='About', level='free', song=None, sessionId=312),\n",
       " Row(userId='101', firstname='Alex', page='Home', level='free', song=None, sessionId=312),\n",
       " Row(userId='101', firstname='Alex', page='Upgrade', level='free', song=None, sessionId=312),\n",
       " Row(userId='101', firstname='Alex', page='Submit Upgrade', level='free', song=None, sessionId=312),\n",
       " Row(userId='101', firstname='Alex', page='Home', level='paid', song=None, sessionId=312),\n",
       " Row(userId='101', firstname='Alex', page='Thumbs Up', level='paid', song=None, sessionId=312),\n",
       " Row(userId='101', firstname='Alex', page='Add to Playlist', level='paid', song=None, sessionId=312),\n",
       " Row(userId='101', firstname='Alex', page='Home', level='paid', song=None, sessionId=312),\n",
       " Row(userId='101', firstname='Alex', page='Thumbs Down', level='paid', song=None, sessionId=312),\n",
       " Row(userId='101', firstname='Alex', page='Settings', level='paid', song=None, sessionId=312),\n",
       " Row(userId='101', firstname='Alex', page='Add to Playlist', level='paid', song=None, sessionId=312),\n",
       " Row(userId='101', firstname='Alex', page='Add Friend', level='paid', song=None, sessionId=312),\n",
       " Row(userId='101', firstname='Alex', page='Thumbs Up', level='paid', song=None, sessionId=312),\n",
       " Row(userId='101', firstname='Alex', page='Logout', level='paid', song=None, sessionId=312),\n",
       " Row(userId='101', firstname='Alex', page='Home', level='paid', song=None, sessionId=312),\n",
       " Row(userId='101', firstname='Alex', page='Home', level='paid', song=None, sessionId=312),\n",
       " Row(userId='101', firstname='Alex', page='Thumbs Up', level='paid', song=None, sessionId=312),\n",
       " Row(userId='101', firstname='Alex', page='Logout', level='paid', song=None, sessionId=312),\n",
       " Row(userId='101', firstname='Alex', page='Home', level='paid', song=None, sessionId=312),\n",
       " Row(userId='101', firstname='Alex', page='Thumbs Up', level='paid', song=None, sessionId=312),\n",
       " Row(userId='101', firstname='Alex', page='Add Friend', level='paid', song=None, sessionId=312),\n",
       " Row(userId='101', firstname='Alex', page='Downgrade', level='paid', song=None, sessionId=312),\n",
       " Row(userId='101', firstname='Alex', page='Downgrade', level='paid', song=None, sessionId=312),\n",
       " Row(userId='101', firstname='Alex', page='Logout', level='paid', song=None, sessionId=312),\n",
       " Row(userId='101', firstname='Alex', page='Home', level='paid', song=None, sessionId=312),\n",
       " Row(userId='101', firstname='Alex', page='Home', level='paid', song=None, sessionId=312),\n",
       " Row(userId='101', firstname='Alex', page='Add to Playlist', level='paid', song=None, sessionId=312),\n",
       " Row(userId='101', firstname='Alex', page='Thumbs Up', level='paid', song=None, sessionId=312),\n",
       " Row(userId='101', firstname='Alex', page='Add to Playlist', level='paid', song=None, sessionId=312),\n",
       " Row(userId='101', firstname='Alex', page='Add Friend', level='paid', song=None, sessionId=312),\n",
       " Row(userId='101', firstname='Alex', page='Help', level='paid', song=None, sessionId=312),\n",
       " Row(userId='101', firstname='Alex', page='Thumbs Down', level='paid', song=None, sessionId=312),\n",
       " Row(userId='101', firstname='Alex', page='Add to Playlist', level='paid', song=None, sessionId=387),\n",
       " Row(userId='101', firstname='Alex', page='Thumbs Up', level='paid', song=None, sessionId=387),\n",
       " Row(userId='101', firstname='Alex', page='Thumbs Up', level='paid', song=None, sessionId=387),\n",
       " Row(userId='101', firstname='Alex', page='Downgrade', level='paid', song=None, sessionId=387),\n",
       " Row(userId='101', firstname='Alex', page='Home', level='paid', song=None, sessionId=387),\n",
       " Row(userId='101', firstname='Alex', page='Downgrade', level='paid', song=None, sessionId=387),\n",
       " Row(userId='101', firstname='Alex', page='Add to Playlist', level='paid', song=None, sessionId=387),\n",
       " Row(userId='101', firstname='Alex', page='Thumbs Up', level='paid', song=None, sessionId=387),\n",
       " Row(userId='101', firstname='Alex', page='Add to Playlist', level='paid', song=None, sessionId=387),\n",
       " Row(userId='101', firstname='Alex', page='Add to Playlist', level='paid', song=None, sessionId=387),\n",
       " Row(userId='101', firstname='Alex', page='Logout', level='paid', song=None, sessionId=387),\n",
       " Row(userId='101', firstname='Alex', page='Home', level='paid', song=None, sessionId=387),\n",
       " Row(userId='101', firstname='Alex', page='Thumbs Up', level='paid', song=None, sessionId=387),\n",
       " Row(userId='101', firstname='Alex', page='Home', level='paid', song=None, sessionId=387),\n",
       " Row(userId='101', firstname='Alex', page='Thumbs Up', level='paid', song=None, sessionId=387),\n",
       " Row(userId='101', firstname='Alex', page='Add to Playlist', level='paid', song=None, sessionId=387),\n",
       " Row(userId='101', firstname='Alex', page='Thumbs Up', level='paid', song=None, sessionId=387),\n",
       " Row(userId='101', firstname='Alex', page='Add Friend', level='paid', song=None, sessionId=490),\n",
       " Row(userId='101', firstname='Alex', page='Add Friend', level='paid', song=None, sessionId=490),\n",
       " Row(userId='101', firstname='Alex', page='Logout', level='paid', song=None, sessionId=496),\n",
       " Row(userId='101', firstname='Alex', page='Home', level='paid', song=None, sessionId=496),\n",
       " Row(userId='101', firstname='Alex', page='Thumbs Up', level='paid', song=None, sessionId=496),\n",
       " Row(userId='101', firstname='Alex', page='Add to Playlist', level='paid', song=None, sessionId=496),\n",
       " Row(userId='101', firstname='Alex', page='Thumbs Up', level='paid', song=None, sessionId=496),\n",
       " Row(userId='101', firstname='Alex', page='Thumbs Up', level='paid', song=None, sessionId=496),\n",
       " Row(userId='101', firstname='Alex', page='Downgrade', level='paid', song=None, sessionId=496),\n",
       " Row(userId='101', firstname='Alex', page='Add Friend', level='paid', song=None, sessionId=496),\n",
       " Row(userId='101', firstname='Alex', page='Add Friend', level='paid', song=None, sessionId=496),\n",
       " Row(userId='101', firstname='Alex', page='Thumbs Up', level='paid', song=None, sessionId=496),\n",
       " Row(userId='101', firstname='Alex', page='Logout', level='paid', song=None, sessionId=496),\n",
       " Row(userId='101', firstname='Alex', page='Home', level='paid', song=None, sessionId=496),\n",
       " Row(userId='101', firstname='Alex', page='Logout', level='paid', song=None, sessionId=496),\n",
       " Row(userId='101', firstname='Alex', page='Home', level='paid', song=None, sessionId=496),\n",
       " Row(userId='101', firstname='Alex', page='Add Friend', level='paid', song=None, sessionId=496),\n",
       " Row(userId='101', firstname='Alex', page='Help', level='paid', song=None, sessionId=496),\n",
       " Row(userId='101', firstname='Alex', page='Error', level='paid', song=None, sessionId=496),\n",
       " Row(userId='101', firstname='Alex', page='Thumbs Up', level='paid', song=None, sessionId=496),\n",
       " Row(userId='101', firstname='Alex', page='Add to Playlist', level='paid', song=None, sessionId=496),\n",
       " Row(userId='101', firstname='Alex', page='Thumbs Up', level='paid', song=None, sessionId=496),\n",
       " Row(userId='101', firstname='Alex', page='Thumbs Up', level='paid', song=None, sessionId=496),\n",
       " Row(userId='101', firstname='Alex', page='Help', level='paid', song=None, sessionId=496),\n",
       " Row(userId='101', firstname='Alex', page='Thumbs Up', level='paid', song=None, sessionId=496),\n",
       " Row(userId='101', firstname='Alex', page='Thumbs Up', level='paid', song=None, sessionId=496),\n",
       " Row(userId='101', firstname='Alex', page='Help', level='paid', song=None, sessionId=496),\n",
       " Row(userId='101', firstname='Alex', page='Thumbs Up', level='paid', song=None, sessionId=496),\n",
       " Row(userId='101', firstname='Alex', page='Add Friend', level='paid', song=None, sessionId=496),\n",
       " Row(userId='101', firstname='Alex', page='Add Friend', level='paid', song=None, sessionId=496),\n",
       " Row(userId='101', firstname='Alex', page='Add Friend', level='paid', song=None, sessionId=496),\n",
       " Row(userId='101', firstname='Alex', page='Thumbs Up', level='paid', song=None, sessionId=496),\n",
       " Row(userId='101', firstname='Alex', page='Add to Playlist', level='paid', song=None, sessionId=496),\n",
       " Row(userId='101', firstname='Alex', page='Thumbs Up', level='paid', song=None, sessionId=496),\n",
       " Row(userId='101', firstname='Alex', page='Add to Playlist', level='paid', song=None, sessionId=496),\n",
       " Row(userId='101', firstname='Alex', page='Help', level='paid', song=None, sessionId=496),\n",
       " Row(userId='101', firstname='Alex', page='Thumbs Down', level='paid', song=None, sessionId=496),\n",
       " Row(userId='101', firstname='Alex', page='Thumbs Up', level='paid', song=None, sessionId=496),\n",
       " Row(userId='101', firstname='Alex', page='Add to Playlist', level='paid', song=None, sessionId=496),\n",
       " Row(userId='101', firstname='Alex', page='Thumbs Up', level='paid', song=None, sessionId=496),\n",
       " Row(userId='101', firstname='Alex', page='Add to Playlist', level='paid', song=None, sessionId=496),\n",
       " Row(userId='101', firstname='Alex', page='Thumbs Up', level='paid', song=None, sessionId=496),\n",
       " Row(userId='101', firstname='Alex', page='Add to Playlist', level='paid', song=None, sessionId=496),\n",
       " Row(userId='101', firstname='Alex', page='Home', level='paid', song=None, sessionId=496),\n",
       " Row(userId='101', firstname='Alex', page='Home', level='paid', song=None, sessionId=496),\n",
       " Row(userId='101', firstname='Alex', page='Home', level='paid', song=None, sessionId=496),\n",
       " Row(userId='101', firstname='Alex', page='Add Friend', level='paid', song=None, sessionId=496),\n",
       " Row(userId='101', firstname='Alex', page='Thumbs Up', level='paid', song=None, sessionId=496),\n",
       " Row(userId='101', firstname='Alex', page='Add to Playlist', level='paid', song=None, sessionId=496),\n",
       " Row(userId='101', firstname='Alex', page='Add to Playlist', level='paid', song=None, sessionId=496),\n",
       " Row(userId='101', firstname='Alex', page='Add Friend', level='paid', song=None, sessionId=496),\n",
       " Row(userId='101', firstname='Alex', page='Add Friend', level='paid', song=None, sessionId=496),\n",
       " Row(userId='101', firstname='Alex', page='Thumbs Up', level='paid', song=None, sessionId=496),\n",
       " Row(userId='101', firstname='Alex', page='Thumbs Up', level='paid', song=None, sessionId=496),\n",
       " Row(userId='101', firstname='Alex', page='Thumbs Down', level='paid', song=None, sessionId=496),\n",
       " Row(userId='101', firstname='Alex', page='Error', level='paid', song=None, sessionId=496),\n",
       " Row(userId='101', firstname='Alex', page='Help', level='paid', song=None, sessionId=496),\n",
       " Row(userId='101', firstname='Alex', page='Help', level='paid', song=None, sessionId=496),\n",
       " Row(userId='101', firstname='Alex', page='Thumbs Up', level='paid', song=None, sessionId=496),\n",
       " Row(userId='101', firstname='Alex', page='Home', level='paid', song=None, sessionId=496),\n",
       " Row(userId='101', firstname='Alex', page='Add to Playlist', level='paid', song=None, sessionId=496),\n",
       " Row(userId='101', firstname='Alex', page='Thumbs Up', level='paid', song=None, sessionId=496),\n",
       " Row(userId='101', firstname='Alex', page='Thumbs Up', level='paid', song=None, sessionId=496),\n",
       " Row(userId='101', firstname='Alex', page='Settings', level='paid', song=None, sessionId=496),\n",
       " Row(userId='101', firstname='Alex', page='Home', level='paid', song=None, sessionId=496),\n",
       " Row(userId='101', firstname='Alex', page='Thumbs Up', level='paid', song=None, sessionId=496),\n",
       " Row(userId='101', firstname='Alex', page='Thumbs Down', level='paid', song=None, sessionId=496),\n",
       " Row(userId='101', firstname='Alex', page='Thumbs Up', level='paid', song=None, sessionId=496),\n",
       " Row(userId='101', firstname='Alex', page='Add to Playlist', level='paid', song=None, sessionId=496),\n",
       " Row(userId='101', firstname='Alex', page='Home', level='paid', song=None, sessionId=496),\n",
       " Row(userId='101', firstname='Alex', page='Add to Playlist', level='paid', song=None, sessionId=496),\n",
       " Row(userId='101', firstname='Alex', page='Thumbs Down', level='paid', song=None, sessionId=496),\n",
       " Row(userId='101', firstname='Alex', page='Logout', level='paid', song=None, sessionId=496),\n",
       " Row(userId='101', firstname='Alex', page='Home', level='paid', song=None, sessionId=635),\n",
       " Row(userId='101', firstname='Alex', page='Add Friend', level='paid', song=None, sessionId=635),\n",
       " Row(userId='101', firstname='Alex', page='Logout', level='paid', song=None, sessionId=635),\n",
       " Row(userId='101', firstname='Alex', page='Home', level='paid', song=None, sessionId=635),\n",
       " Row(userId='101', firstname='Alex', page='Thumbs Up', level='paid', song=None, sessionId=635),\n",
       " Row(userId='101', firstname='Alex', page='Home', level='paid', song=None, sessionId=635),\n",
       " Row(userId='101', firstname='Alex', page='Thumbs Up', level='paid', song=None, sessionId=635),\n",
       " Row(userId='101', firstname='Alex', page='Thumbs Up', level='paid', song=None, sessionId=635),\n",
       " Row(userId='101', firstname='Alex', page='Add Friend', level='paid', song=None, sessionId=635),\n",
       " Row(userId='101', firstname='Alex', page='Add Friend', level='paid', song=None, sessionId=635),\n",
       " Row(userId='101', firstname='Alex', page='Add Friend', level='paid', song=None, sessionId=635),\n",
       " Row(userId='101', firstname='Alex', page='Logout', level='paid', song=None, sessionId=635),\n",
       " Row(userId='101', firstname='Alex', page='Home', level='paid', song=None, sessionId=635),\n",
       " Row(userId='101', firstname='Alex', page='Add Friend', level='paid', song=None, sessionId=635),\n",
       " Row(userId='101', firstname='Alex', page='Home', level='paid', song=None, sessionId=635),\n",
       " Row(userId='101', firstname='Alex', page='Settings', level='paid', song=None, sessionId=635),\n",
       " Row(userId='101', firstname='Alex', page='Save Settings', level='paid', song=None, sessionId=635),\n",
       " Row(userId='101', firstname='Alex', page='Home', level='paid', song=None, sessionId=635),\n",
       " Row(userId='101', firstname='Alex', page='Thumbs Up', level='paid', song=None, sessionId=635),\n",
       " Row(userId='101', firstname='Alex', page='Thumbs Up', level='paid', song=None, sessionId=635),\n",
       " Row(userId='101', firstname='Alex', page='Thumbs Up', level='paid', song=None, sessionId=635),\n",
       " Row(userId='101', firstname='Alex', page='Add to Playlist', level='paid', song=None, sessionId=635),\n",
       " Row(userId='101', firstname='Alex', page='Logout', level='paid', song=None, sessionId=635),\n",
       " Row(userId='101', firstname='Alex', page='Home', level='paid', song=None, sessionId=635),\n",
       " Row(userId='101', firstname='Alex', page='Add to Playlist', level='paid', song=None, sessionId=635),\n",
       " Row(userId='101', firstname='Alex', page='Logout', level='paid', song=None, sessionId=635),\n",
       " Row(userId='101', firstname='Alex', page='Home', level='paid', song=None, sessionId=635),\n",
       " Row(userId='101', firstname='Alex', page='Thumbs Up', level='paid', song=None, sessionId=635),\n",
       " Row(userId='101', firstname='Alex', page='Thumbs Down', level='paid', song=None, sessionId=635),\n",
       " Row(userId='101', firstname='Alex', page='Settings', level='paid', song=None, sessionId=635),\n",
       " Row(userId='101', firstname='Alex', page='Downgrade', level='paid', song=None, sessionId=635),\n",
       " Row(userId='101', firstname='Alex', page='Logout', level='paid', song=None, sessionId=635),\n",
       " Row(userId='101', firstname='Alex', page='Home', level='paid', song=None, sessionId=635),\n",
       " Row(userId='101', firstname='Alex', page='Add to Playlist', level='paid', song=None, sessionId=635),\n",
       " Row(userId='101', firstname='Alex', page='Home', level='paid', song=None, sessionId=635),\n",
       " Row(userId='101', firstname='Alex', page='Thumbs Down', level='paid', song=None, sessionId=635),\n",
       " Row(userId='101', firstname='Alex', page='Add to Playlist', level='paid', song=None, sessionId=635),\n",
       " Row(userId='101', firstname='Alex', page='Add to Playlist', level='paid', song=None, sessionId=635),\n",
       " Row(userId='101', firstname='Alex', page='Home', level='paid', song=None, sessionId=635),\n",
       " Row(userId='101', firstname='Alex', page='Home', level='paid', song=None, sessionId=635),\n",
       " Row(userId='101', firstname='Alex', page='Add to Playlist', level='paid', song=None, sessionId=635),\n",
       " Row(userId='101', firstname='Alex', page='Thumbs Down', level='paid', song=None, sessionId=635),\n",
       " Row(userId='101', firstname='Alex', page='Downgrade', level='paid', song=None, sessionId=635),\n",
       " Row(userId='101', firstname='Alex', page='Downgrade', level='paid', song=None, sessionId=635),\n",
       " Row(userId='101', firstname='Alex', page='Thumbs Up', level='paid', song=None, sessionId=635),\n",
       " Row(userId='101', firstname='Alex', page='Home', level='paid', song=None, sessionId=635),\n",
       " Row(userId='101', firstname='Alex', page='Thumbs Up', level='paid', song=None, sessionId=635),\n",
       " Row(userId='101', firstname='Alex', page='Home', level='paid', song=None, sessionId=635),\n",
       " Row(userId='101', firstname='Alex', page='Logout', level='paid', song=None, sessionId=635),\n",
       " Row(userId='101', firstname='Alex', page='Home', level='paid', song=None, sessionId=635),\n",
       " Row(userId='101', firstname='Alex', page='Thumbs Up', level='paid', song=None, sessionId=635),\n",
       " Row(userId='101', firstname='Alex', page='Downgrade', level='paid', song=None, sessionId=635),\n",
       " Row(userId='101', firstname='Alex', page='Thumbs Up', level='paid', song=None, sessionId=635),\n",
       " Row(userId='101', firstname='Alex', page='Thumbs Up', level='paid', song=None, sessionId=635),\n",
       " Row(userId='101', firstname='Alex', page='Thumbs Up', level='paid', song=None, sessionId=635),\n",
       " Row(userId='101', firstname='Alex', page='Thumbs Up', level='paid', song=None, sessionId=635),\n",
       " Row(userId='101', firstname='Alex', page='Downgrade', level='paid', song=None, sessionId=635),\n",
       " Row(userId='101', firstname='Alex', page='Downgrade', level='paid', song=None, sessionId=635),\n",
       " Row(userId='101', firstname='Alex', page='Downgrade', level='paid', song=None, sessionId=635),\n",
       " Row(userId='101', firstname='Alex', page='Home', level='paid', song=None, sessionId=635),\n",
       " Row(userId='101', firstname='Alex', page='Add to Playlist', level='paid', song=None, sessionId=635),\n",
       " Row(userId='101', firstname='Alex', page='Thumbs Up', level='paid', song=None, sessionId=635),\n",
       " Row(userId='101', firstname='Alex', page='Add to Playlist', level='paid', song=None, sessionId=635),\n",
       " Row(userId='101', firstname='Alex', page='Add to Playlist', level='paid', song=None, sessionId=635),\n",
       " Row(userId='101', firstname='Alex', page='Add to Playlist', level='paid', song=None, sessionId=635),\n",
       " Row(userId='101', firstname='Alex', page='Logout', level='paid', song=None, sessionId=635),\n",
       " Row(userId='101', firstname='Alex', page='Home', level='paid', song=None, sessionId=635),\n",
       " Row(userId='101', firstname='Alex', page='Help', level='paid', song=None, sessionId=635),\n",
       " Row(userId='101', firstname='Alex', page='Downgrade', level='paid', song=None, sessionId=635),\n",
       " Row(userId='101', firstname='Alex', page='Logout', level='paid', song=None, sessionId=635),\n",
       " Row(userId='101', firstname='Alex', page='Home', level='paid', song=None, sessionId=635),\n",
       " Row(userId='101', firstname='Alex', page='Thumbs Down', level='paid', song=None, sessionId=635),\n",
       " Row(userId='101', firstname='Alex', page='Logout', level='paid', song=None, sessionId=635),\n",
       " Row(userId='101', firstname='Alex', page='Home', level='paid', song=None, sessionId=635),\n",
       " Row(userId='101', firstname='Alex', page='Home', level='paid', song=None, sessionId=635),\n",
       " Row(userId='101', firstname='Alex', page='Thumbs Down', level='paid', song=None, sessionId=635),\n",
       " Row(userId='101', firstname='Alex', page='Settings', level='paid', song=None, sessionId=635),\n",
       " Row(userId='101', firstname='Alex', page='Save Settings', level='paid', song=None, sessionId=635),\n",
       " Row(userId='101', firstname='Alex', page='Home', level='paid', song=None, sessionId=635),\n",
       " Row(userId='101', firstname='Alex', page='Logout', level='paid', song=None, sessionId=635),\n",
       " Row(userId='101', firstname='Alex', page='Home', level='paid', song=None, sessionId=635),\n",
       " Row(userId='101', firstname='Alex', page='Add to Playlist', level='paid', song=None, sessionId=635),\n",
       " Row(userId='101', firstname='Alex', page='Thumbs Up', level='paid', song=None, sessionId=635),\n",
       " Row(userId='101', firstname='Alex', page='Thumbs Up', level='paid', song=None, sessionId=635),\n",
       " Row(userId='101', firstname='Alex', page='Add to Playlist', level='paid', song=None, sessionId=635),\n",
       " Row(userId='101', firstname='Alex', page='Thumbs Up', level='paid', song=None, sessionId=635),\n",
       " Row(userId='101', firstname='Alex', page='Thumbs Up', level='paid', song=None, sessionId=635),\n",
       " Row(userId='101', firstname='Alex', page='Thumbs Up', level='paid', song=None, sessionId=635),\n",
       " Row(userId='101', firstname='Alex', page='Add to Playlist', level='paid', song=None, sessionId=635),\n",
       " Row(userId='101', firstname='Alex', page='Settings', level='paid', song=None, sessionId=635),\n",
       " Row(userId='101', firstname='Alex', page='Logout', level='paid', song=None, sessionId=635),\n",
       " Row(userId='101', firstname='Alex', page='Home', level='paid', song=None, sessionId=635),\n",
       " Row(userId='101', firstname='Alex', page='Home', level='paid', song=None, sessionId=635),\n",
       " Row(userId='101', firstname='Alex', page='Thumbs Up', level='paid', song=None, sessionId=635),\n",
       " Row(userId='101', firstname='Alex', page='Home', level='paid', song=None, sessionId=635),\n",
       " Row(userId='101', firstname='Alex', page='Home', level='paid', song=None, sessionId=635),\n",
       " Row(userId='101', firstname='Alex', page='Add to Playlist', level='paid', song=None, sessionId=635),\n",
       " Row(userId='101', firstname='Alex', page='Thumbs Up', level='paid', song=None, sessionId=635),\n",
       " Row(userId='101', firstname='Alex', page='Home', level='paid', song=None, sessionId=635),\n",
       " Row(userId='101', firstname='Alex', page='Thumbs Up', level='paid', song=None, sessionId=635),\n",
       " Row(userId='101', firstname='Alex', page='Home', level='paid', song=None, sessionId=635),\n",
       " Row(userId='101', firstname='Alex', page='Add Friend', level='paid', song=None, sessionId=635),\n",
       " Row(userId='101', firstname='Alex', page='Home', level='paid', song=None, sessionId=635),\n",
       " Row(userId='101', firstname='Alex', page='Thumbs Down', level='paid', song=None, sessionId=635),\n",
       " Row(userId='101', firstname='Alex', page='Downgrade', level='paid', song=None, sessionId=635),\n",
       " Row(userId='101', firstname='Alex', page='Add to Playlist', level='paid', song=None, sessionId=635),\n",
       " Row(userId='101', firstname='Alex', page='Downgrade', level='paid', song=None, sessionId=635),\n",
       " Row(userId='101', firstname='Alex', page='Home', level='paid', song=None, sessionId=635),\n",
       " Row(userId='101', firstname='Alex', page='Roll Advert', level='paid', song=None, sessionId=635),\n",
       " Row(userId='101', firstname='Alex', page='Add to Playlist', level='paid', song=None, sessionId=635),\n",
       " Row(userId='101', firstname='Alex', page='Thumbs Up', level='paid', song=None, sessionId=635),\n",
       " Row(userId='101', firstname='Alex', page='Add to Playlist', level='paid', song=None, sessionId=635),\n",
       " Row(userId='101', firstname='Alex', page='Thumbs Up', level='paid', song=None, sessionId=635),\n",
       " Row(userId='101', firstname='Alex', page='Home', level='paid', song=None, sessionId=635),\n",
       " Row(userId='101', firstname='Alex', page='Add to Playlist', level='paid', song=None, sessionId=635),\n",
       " Row(userId='101', firstname='Alex', page='Home', level='paid', song=None, sessionId=635),\n",
       " Row(userId='101', firstname='Alex', page='Thumbs Up', level='paid', song=None, sessionId=635),\n",
       " Row(userId='101', firstname='Alex', page='Add to Playlist', level='paid', song=None, sessionId=635),\n",
       " Row(userId='101', firstname='Alex', page='Logout', level='paid', song=None, sessionId=635),\n",
       " Row(userId='101', firstname='Alex', page='Home', level='paid', song=None, sessionId=635),\n",
       " Row(userId='101', firstname='Alex', page='Home', level='paid', song=None, sessionId=635),\n",
       " Row(userId='101', firstname='Alex', page='Add to Playlist', level='paid', song=None, sessionId=635),\n",
       " Row(userId='101', firstname='Alex', page='Thumbs Up', level='paid', song=None, sessionId=635),\n",
       " Row(userId='101', firstname='Alex', page='Add to Playlist', level='paid', song=None, sessionId=635),\n",
       " Row(userId='101', firstname='Alex', page='Logout', level='paid', song=None, sessionId=635),\n",
       " Row(userId='101', firstname='Alex', page='Home', level='paid', song=None, sessionId=635),\n",
       " Row(userId='101', firstname='Alex', page='Home', level='paid', song=None, sessionId=635),\n",
       " Row(userId='101', firstname='Alex', page='Thumbs Up', level='paid', song=None, sessionId=635),\n",
       " Row(userId='101', firstname='Alex', page='Thumbs Up', level='paid', song=None, sessionId=635),\n",
       " Row(userId='101', firstname='Alex', page='Add to Playlist', level='paid', song=None, sessionId=635),\n",
       " Row(userId='101', firstname='Alex', page='Thumbs Up', level='paid', song=None, sessionId=635),\n",
       " Row(userId='101', firstname='Alex', page='Home', level='paid', song=None, sessionId=635),\n",
       " Row(userId='101', firstname='Alex', page='Thumbs Up', level='paid', song=None, sessionId=635),\n",
       " Row(userId='101', firstname='Alex', page='Thumbs Up', level='paid', song=None, sessionId=635),\n",
       " Row(userId='101', firstname='Alex', page='Downgrade', level='paid', song=None, sessionId=635),\n",
       " Row(userId='101', firstname='Alex', page='Thumbs Up', level='paid', song=None, sessionId=635),\n",
       " Row(userId='101', firstname='Alex', page='About', level='paid', song=None, sessionId=635),\n",
       " Row(userId='101', firstname='Alex', page='Home', level='paid', song=None, sessionId=635),\n",
       " Row(userId='101', firstname='Alex', page='Help', level='paid', song=None, sessionId=635),\n",
       " Row(userId='101', firstname='Alex', page='Downgrade', level='paid', song=None, sessionId=635),\n",
       " Row(userId='101', firstname='Alex', page='Thumbs Up', level='paid', song=None, sessionId=635),\n",
       " Row(userId='101', firstname='Alex', page='Thumbs Down', level='paid', song=None, sessionId=635),\n",
       " Row(userId='101', firstname='Alex', page='Thumbs Up', level='paid', song=None, sessionId=635),\n",
       " Row(userId='101', firstname='Alex', page='Add to Playlist', level='paid', song=None, sessionId=635),\n",
       " Row(userId='101', firstname='Alex', page='Thumbs Down', level='paid', song=None, sessionId=635),\n",
       " Row(userId='101', firstname='Alex', page='Home', level='paid', song=None, sessionId=635),\n",
       " Row(userId='101', firstname='Alex', page='Home', level='paid', song=None, sessionId=635),\n",
       " Row(userId='101', firstname='Alex', page='Home', level='paid', song=None, sessionId=747),\n",
       " Row(userId='101', firstname='Alex', page='Thumbs Up', level='paid', song=None, sessionId=747),\n",
       " Row(userId='101', firstname='Alex', page='Thumbs Up', level='paid', song=None, sessionId=747),\n",
       " Row(userId='101', firstname='Alex', page='Add to Playlist', level='paid', song=None, sessionId=747),\n",
       " Row(userId='101', firstname='Alex', page='Thumbs Up', level='paid', song=None, sessionId=747),\n",
       " Row(userId='101', firstname='Alex', page='Add to Playlist', level='paid', song=None, sessionId=747),\n",
       " Row(userId='101', firstname='Alex', page='Home', level='paid', song=None, sessionId=747),\n",
       " Row(userId='101', firstname='Alex', page='Add to Playlist', level='paid', song=None, sessionId=747),\n",
       " Row(userId='101', firstname='Alex', page='Home', level='paid', song=None, sessionId=747),\n",
       " Row(userId='101', firstname='Alex', page='Add to Playlist', level='paid', song=None, sessionId=747),\n",
       " Row(userId='101', firstname='Alex', page='Add to Playlist', level='paid', song=None, sessionId=747),\n",
       " Row(userId='101', firstname='Alex', page='Thumbs Up', level='paid', song=None, sessionId=813),\n",
       " Row(userId='101', firstname='Alex', page='Add to Playlist', level='paid', song=None, sessionId=813),\n",
       " Row(userId='101', firstname='Alex', page='Add to Playlist', level='paid', song=None, sessionId=813),\n",
       " Row(userId='101', firstname='Alex', page='Thumbs Up', level='paid', song=None, sessionId=813),\n",
       " Row(userId='101', firstname='Alex', page='Add to Playlist', level='paid', song=None, sessionId=813),\n",
       " Row(userId='101', firstname='Alex', page='Add Friend', level='paid', song=None, sessionId=813),\n",
       " Row(userId='101', firstname='Alex', page='Settings', level='paid', song=None, sessionId=813),\n",
       " Row(userId='101', firstname='Alex', page='Home', level='paid', song=None, sessionId=813),\n",
       " Row(userId='101', firstname='Alex', page='Settings', level='paid', song=None, sessionId=813),\n",
       " Row(userId='101', firstname='Alex', page='Thumbs Up', level='paid', song=None, sessionId=813),\n",
       " Row(userId='101', firstname='Alex', page='Add to Playlist', level='paid', song=None, sessionId=813),\n",
       " Row(userId='101', firstname='Alex', page='Thumbs Up', level='paid', song=None, sessionId=813),\n",
       " Row(userId='101', firstname='Alex', page='Thumbs Up', level='paid', song=None, sessionId=813),\n",
       " Row(userId='101', firstname='Alex', page='Add to Playlist', level='paid', song=None, sessionId=813),\n",
       " Row(userId='101', firstname='Alex', page='Add to Playlist', level='paid', song=None, sessionId=813),\n",
       " Row(userId='101', firstname='Alex', page='Add Friend', level='paid', song=None, sessionId=813),\n",
       " Row(userId='101', firstname='Alex', page='Thumbs Up', level='paid', song=None, sessionId=813),\n",
       " Row(userId='101', firstname='Alex', page='Downgrade', level='paid', song=None, sessionId=813),\n",
       " Row(userId='101', firstname='Alex', page='Help', level='paid', song=None, sessionId=813),\n",
       " Row(userId='101', firstname='Alex', page='Home', level='paid', song=None, sessionId=813),\n",
       " Row(userId='101', firstname='Alex', page='Thumbs Up', level='paid', song=None, sessionId=813),\n",
       " Row(userId='101', firstname='Alex', page='Add to Playlist', level='paid', song=None, sessionId=813),\n",
       " Row(userId='101', firstname='Alex', page='Thumbs Down', level='paid', song=None, sessionId=813),\n",
       " Row(userId='101', firstname='Alex', page='Logout', level='paid', song=None, sessionId=813),\n",
       " Row(userId='101', firstname='Alex', page='Home', level='paid', song=None, sessionId=813),\n",
       " Row(userId='101', firstname='Alex', page='Add Friend', level='paid', song=None, sessionId=813),\n",
       " Row(userId='101', firstname='Alex', page='Thumbs Up', level='paid', song=None, sessionId=813),\n",
       " Row(userId='101', firstname='Alex', page='Settings', level='paid', song=None, sessionId=813),\n",
       " Row(userId='101', firstname='Alex', page='Downgrade', level='paid', song=None, sessionId=813),\n",
       " Row(userId='101', firstname='Alex', page='Downgrade', level='paid', song=None, sessionId=813),\n",
       " Row(userId='101', firstname='Alex', page='Home', level='paid', song=None, sessionId=842),\n",
       " Row(userId='101', firstname='Alex', page='Add Friend', level='paid', song=None, sessionId=842),\n",
       " Row(userId='101', firstname='Alex', page='Add Friend', level='paid', song=None, sessionId=842),\n",
       " Row(userId='101', firstname='Alex', page='Add Friend', level='paid', song=None, sessionId=842),\n",
       " Row(userId='101', firstname='Alex', page='Thumbs Up', level='paid', song=None, sessionId=842),\n",
       " Row(userId='101', firstname='Alex', page='Add Friend', level='paid', song=None, sessionId=842),\n",
       " Row(userId='101', firstname='Alex', page='Thumbs Up', level='paid', song=None, sessionId=842),\n",
       " Row(userId='101', firstname='Alex', page='Add to Playlist', level='paid', song=None, sessionId=842),\n",
       " Row(userId='101', firstname='Alex', page='Home', level='paid', song=None, sessionId=842),\n",
       " Row(userId='101', firstname='Alex', page='Help', level='paid', song=None, sessionId=842),\n",
       " Row(userId='101', firstname='Alex', page='Add to Playlist', level='paid', song=None, sessionId=842),\n",
       " Row(userId='101', firstname='Alex', page='Thumbs Up', level='paid', song=None, sessionId=842),\n",
       " Row(userId='101', firstname='Alex', page='Error', level='paid', song=None, sessionId=842),\n",
       " Row(userId='101', firstname='Alex', page='Downgrade', level='paid', song=None, sessionId=842),\n",
       " Row(userId='101', firstname='Alex', page='Logout', level='paid', song=None, sessionId=842),\n",
       " Row(userId='101', firstname='Alex', page='Home', level='paid', song=None, sessionId=842),\n",
       " Row(userId='101', firstname='Alex', page='Thumbs Up', level='paid', song=None, sessionId=842),\n",
       " Row(userId='101', firstname='Alex', page='Add to Playlist', level='paid', song=None, sessionId=842),\n",
       " Row(userId='101', firstname='Alex', page='Add to Playlist', level='paid', song=None, sessionId=842),\n",
       " Row(userId='101', firstname='Alex', page='Add Friend', level='paid', song=None, sessionId=842),\n",
       " Row(userId='101', firstname='Alex', page='Home', level='paid', song=None, sessionId=842),\n",
       " Row(userId='101', firstname='Alex', page='Downgrade', level='paid', song=None, sessionId=842),\n",
       " Row(userId='101', firstname='Alex', page='Cancel', level='paid', song=None, sessionId=842),\n",
       " Row(userId='101', firstname='Alex', page='Cancellation Confirmation', level='paid', song=None, sessionId=842)]"
      ]
     },
     "execution_count": 33,
     "metadata": {},
     "output_type": "execute_result"
    }
   ],
   "source": [
    "# inspect example with event 'Cancellation Confirmation' (without most common event NextSong event)\n",
    "user_log_valid.select(['userId', 'firstname', 'page', 'level', 'song', 'sessionId']).where(\n",
    "    (user_log_valid.userId == '101') & (user_log_valid.page != 'NextSong')).collect()\n"
   ]
  },
  {
   "cell_type": "code",
   "execution_count": 34,
   "metadata": {},
   "outputs": [],
   "source": [
    "# user defined function to flag the events page=submit 'Cancellation Confirmation' with extra column\n",
    "flag_cancellation_event = udf(\n",
    "    lambda cancellation_event: 1 if cancellation_event == 'Cancellation Confirmation' else 0, IntegerType())"
   ]
  },
  {
   "cell_type": "code",
   "execution_count": 35,
   "metadata": {},
   "outputs": [],
   "source": [
    "# create extra column 'Cancellation Confirmation'\n",
    "user_log_valid = user_log_valid.withColumn('cancellation_event', flag_cancellation_event('page'))"
   ]
  },
  {
   "cell_type": "code",
   "execution_count": 36,
   "metadata": {},
   "outputs": [
    {
     "data": {
      "text/plain": [
       "[Row(page='Home', level='paid', cancellation_event=0),\n",
       " Row(page='NextSong', level='paid', cancellation_event=0),\n",
       " Row(page='NextSong', level='paid', cancellation_event=0),\n",
       " Row(page='NextSong', level='paid', cancellation_event=0),\n",
       " Row(page='NextSong', level='paid', cancellation_event=0),\n",
       " Row(page='NextSong', level='paid', cancellation_event=0),\n",
       " Row(page='NextSong', level='paid', cancellation_event=0),\n",
       " Row(page='NextSong', level='paid', cancellation_event=0),\n",
       " Row(page='NextSong', level='paid', cancellation_event=0),\n",
       " Row(page='NextSong', level='paid', cancellation_event=0),\n",
       " Row(page='Add Friend', level='paid', cancellation_event=0),\n",
       " Row(page='Add Friend', level='paid', cancellation_event=0),\n",
       " Row(page='Add Friend', level='paid', cancellation_event=0),\n",
       " Row(page='NextSong', level='paid', cancellation_event=0),\n",
       " Row(page='NextSong', level='paid', cancellation_event=0),\n",
       " Row(page='NextSong', level='paid', cancellation_event=0),\n",
       " Row(page='NextSong', level='paid', cancellation_event=0),\n",
       " Row(page='NextSong', level='paid', cancellation_event=0),\n",
       " Row(page='NextSong', level='paid', cancellation_event=0),\n",
       " Row(page='NextSong', level='paid', cancellation_event=0),\n",
       " Row(page='NextSong', level='paid', cancellation_event=0),\n",
       " Row(page='NextSong', level='paid', cancellation_event=0),\n",
       " Row(page='NextSong', level='paid', cancellation_event=0),\n",
       " Row(page='NextSong', level='paid', cancellation_event=0),\n",
       " Row(page='Thumbs Up', level='paid', cancellation_event=0),\n",
       " Row(page='NextSong', level='paid', cancellation_event=0),\n",
       " Row(page='NextSong', level='paid', cancellation_event=0),\n",
       " Row(page='NextSong', level='paid', cancellation_event=0),\n",
       " Row(page='NextSong', level='paid', cancellation_event=0),\n",
       " Row(page='Add Friend', level='paid', cancellation_event=0),\n",
       " Row(page='NextSong', level='paid', cancellation_event=0),\n",
       " Row(page='NextSong', level='paid', cancellation_event=0),\n",
       " Row(page='NextSong', level='paid', cancellation_event=0),\n",
       " Row(page='NextSong', level='paid', cancellation_event=0),\n",
       " Row(page='NextSong', level='paid', cancellation_event=0),\n",
       " Row(page='NextSong', level='paid', cancellation_event=0),\n",
       " Row(page='NextSong', level='paid', cancellation_event=0),\n",
       " Row(page='NextSong', level='paid', cancellation_event=0),\n",
       " Row(page='NextSong', level='paid', cancellation_event=0),\n",
       " Row(page='NextSong', level='paid', cancellation_event=0),\n",
       " Row(page='NextSong', level='paid', cancellation_event=0),\n",
       " Row(page='NextSong', level='paid', cancellation_event=0),\n",
       " Row(page='NextSong', level='paid', cancellation_event=0),\n",
       " Row(page='NextSong', level='paid', cancellation_event=0),\n",
       " Row(page='NextSong', level='paid', cancellation_event=0),\n",
       " Row(page='NextSong', level='paid', cancellation_event=0),\n",
       " Row(page='NextSong', level='paid', cancellation_event=0),\n",
       " Row(page='NextSong', level='paid', cancellation_event=0),\n",
       " Row(page='NextSong', level='paid', cancellation_event=0),\n",
       " Row(page='NextSong', level='paid', cancellation_event=0),\n",
       " Row(page='NextSong', level='paid', cancellation_event=0),\n",
       " Row(page='NextSong', level='paid', cancellation_event=0),\n",
       " Row(page='NextSong', level='paid', cancellation_event=0),\n",
       " Row(page='Thumbs Up', level='paid', cancellation_event=0),\n",
       " Row(page='Add to Playlist', level='paid', cancellation_event=0),\n",
       " Row(page='NextSong', level='paid', cancellation_event=0),\n",
       " Row(page='NextSong', level='paid', cancellation_event=0),\n",
       " Row(page='NextSong', level='paid', cancellation_event=0),\n",
       " Row(page='NextSong', level='paid', cancellation_event=0),\n",
       " Row(page='NextSong', level='paid', cancellation_event=0),\n",
       " Row(page='NextSong', level='paid', cancellation_event=0),\n",
       " Row(page='Home', level='paid', cancellation_event=0),\n",
       " Row(page='NextSong', level='paid', cancellation_event=0),\n",
       " Row(page='NextSong', level='paid', cancellation_event=0),\n",
       " Row(page='NextSong', level='paid', cancellation_event=0),\n",
       " Row(page='NextSong', level='paid', cancellation_event=0),\n",
       " Row(page='NextSong', level='paid', cancellation_event=0),\n",
       " Row(page='NextSong', level='paid', cancellation_event=0),\n",
       " Row(page='Help', level='paid', cancellation_event=0),\n",
       " Row(page='NextSong', level='paid', cancellation_event=0),\n",
       " Row(page='NextSong', level='paid', cancellation_event=0),\n",
       " Row(page='NextSong', level='paid', cancellation_event=0),\n",
       " Row(page='NextSong', level='paid', cancellation_event=0),\n",
       " Row(page='NextSong', level='paid', cancellation_event=0),\n",
       " Row(page='Add to Playlist', level='paid', cancellation_event=0),\n",
       " Row(page='NextSong', level='paid', cancellation_event=0),\n",
       " Row(page='NextSong', level='paid', cancellation_event=0),\n",
       " Row(page='Thumbs Up', level='paid', cancellation_event=0),\n",
       " Row(page='Error', level='paid', cancellation_event=0),\n",
       " Row(page='NextSong', level='paid', cancellation_event=0),\n",
       " Row(page='NextSong', level='paid', cancellation_event=0),\n",
       " Row(page='NextSong', level='paid', cancellation_event=0),\n",
       " Row(page='NextSong', level='paid', cancellation_event=0),\n",
       " Row(page='NextSong', level='paid', cancellation_event=0),\n",
       " Row(page='Downgrade', level='paid', cancellation_event=0),\n",
       " Row(page='NextSong', level='paid', cancellation_event=0),\n",
       " Row(page='NextSong', level='paid', cancellation_event=0),\n",
       " Row(page='NextSong', level='paid', cancellation_event=0),\n",
       " Row(page='NextSong', level='paid', cancellation_event=0),\n",
       " Row(page='NextSong', level='paid', cancellation_event=0),\n",
       " Row(page='NextSong', level='paid', cancellation_event=0),\n",
       " Row(page='NextSong', level='paid', cancellation_event=0),\n",
       " Row(page='NextSong', level='paid', cancellation_event=0),\n",
       " Row(page='Logout', level='paid', cancellation_event=0),\n",
       " Row(page='Home', level='paid', cancellation_event=0),\n",
       " Row(page='NextSong', level='paid', cancellation_event=0),\n",
       " Row(page='Thumbs Up', level='paid', cancellation_event=0),\n",
       " Row(page='NextSong', level='paid', cancellation_event=0),\n",
       " Row(page='NextSong', level='paid', cancellation_event=0),\n",
       " Row(page='NextSong', level='paid', cancellation_event=0),\n",
       " Row(page='NextSong', level='paid', cancellation_event=0),\n",
       " Row(page='NextSong', level='paid', cancellation_event=0),\n",
       " Row(page='NextSong', level='paid', cancellation_event=0),\n",
       " Row(page='Add to Playlist', level='paid', cancellation_event=0),\n",
       " Row(page='NextSong', level='paid', cancellation_event=0),\n",
       " Row(page='NextSong', level='paid', cancellation_event=0),\n",
       " Row(page='NextSong', level='paid', cancellation_event=0),\n",
       " Row(page='NextSong', level='paid', cancellation_event=0),\n",
       " Row(page='Add to Playlist', level='paid', cancellation_event=0),\n",
       " Row(page='NextSong', level='paid', cancellation_event=0),\n",
       " Row(page='NextSong', level='paid', cancellation_event=0),\n",
       " Row(page='NextSong', level='paid', cancellation_event=0),\n",
       " Row(page='NextSong', level='paid', cancellation_event=0),\n",
       " Row(page='NextSong', level='paid', cancellation_event=0),\n",
       " Row(page='NextSong', level='paid', cancellation_event=0),\n",
       " Row(page='NextSong', level='paid', cancellation_event=0),\n",
       " Row(page='NextSong', level='paid', cancellation_event=0),\n",
       " Row(page='NextSong', level='paid', cancellation_event=0),\n",
       " Row(page='Add Friend', level='paid', cancellation_event=0),\n",
       " Row(page='NextSong', level='paid', cancellation_event=0),\n",
       " Row(page='NextSong', level='paid', cancellation_event=0),\n",
       " Row(page='NextSong', level='paid', cancellation_event=0),\n",
       " Row(page='NextSong', level='paid', cancellation_event=0),\n",
       " Row(page='NextSong', level='paid', cancellation_event=0),\n",
       " Row(page='NextSong', level='paid', cancellation_event=0),\n",
       " Row(page='NextSong', level='paid', cancellation_event=0),\n",
       " Row(page='NextSong', level='paid', cancellation_event=0),\n",
       " Row(page='NextSong', level='paid', cancellation_event=0),\n",
       " Row(page='NextSong', level='paid', cancellation_event=0),\n",
       " Row(page='NextSong', level='paid', cancellation_event=0),\n",
       " Row(page='NextSong', level='paid', cancellation_event=0),\n",
       " Row(page='Home', level='paid', cancellation_event=0),\n",
       " Row(page='NextSong', level='paid', cancellation_event=0),\n",
       " Row(page='NextSong', level='paid', cancellation_event=0),\n",
       " Row(page='NextSong', level='paid', cancellation_event=0),\n",
       " Row(page='NextSong', level='paid', cancellation_event=0),\n",
       " Row(page='NextSong', level='paid', cancellation_event=0),\n",
       " Row(page='NextSong', level='paid', cancellation_event=0),\n",
       " Row(page='NextSong', level='paid', cancellation_event=0),\n",
       " Row(page='NextSong', level='paid', cancellation_event=0),\n",
       " Row(page='NextSong', level='paid', cancellation_event=0),\n",
       " Row(page='Downgrade', level='paid', cancellation_event=0),\n",
       " Row(page='Cancel', level='paid', cancellation_event=0),\n",
       " Row(page='Cancellation Confirmation', level='paid', cancellation_event=1)]"
      ]
     },
     "execution_count": 36,
     "metadata": {},
     "output_type": "execute_result"
    }
   ],
   "source": [
    "# check if column 'cancellation_event' is filled correctly\n",
    "user_log_valid.select(['page', 'level', 'cancellation_event']).where(\n",
    "    (user_log_valid.userId == '101') & (user_log_valid.sessionId == '842')).collect()"
   ]
  },
  {
   "cell_type": "markdown",
   "metadata": {},
   "source": [
    "The new column 'cancellation_event' was created to mark the exact event of cancellation confirmation. As the goal of this project is to predict users who eventually churn, it is important to find the features which describe best the differences between users who churn and those who not.\n",
    "There is another column necessary to compare all user intereactions made by users who eventually churned to users who did not churn. The values of the new column 'churned users' are 1 if the user will eventually churn and 0 if not."
   ]
  },
  {
   "cell_type": "code",
   "execution_count": 37,
   "metadata": {},
   "outputs": [],
   "source": [
    "# create column with churned users = true\n",
    "churned_users = user_log_valid.select('userId').filter(user_log.page == 'Cancellation Confirmation').dropDuplicates().collect()\n",
    "\n",
    "userid_churn = []\n",
    "for i in churned_users:\n",
    "    userid_churn.append(i[0])\n",
    "    \n",
    "user_log_valid = user_log_valid.withColumn('churned',user_log_valid['userId'].isin(userid_churn))"
   ]
  },
  {
   "cell_type": "code",
   "execution_count": 38,
   "metadata": {},
   "outputs": [
    {
     "data": {
      "text/plain": [
       "[Row(page='Home', level='paid', cancellation_event=0, churned=True),\n",
       " Row(page='NextSong', level='paid', cancellation_event=0, churned=True),\n",
       " Row(page='NextSong', level='paid', cancellation_event=0, churned=True),\n",
       " Row(page='NextSong', level='paid', cancellation_event=0, churned=True),\n",
       " Row(page='NextSong', level='paid', cancellation_event=0, churned=True),\n",
       " Row(page='NextSong', level='paid', cancellation_event=0, churned=True),\n",
       " Row(page='NextSong', level='paid', cancellation_event=0, churned=True),\n",
       " Row(page='NextSong', level='paid', cancellation_event=0, churned=True),\n",
       " Row(page='NextSong', level='paid', cancellation_event=0, churned=True),\n",
       " Row(page='NextSong', level='paid', cancellation_event=0, churned=True),\n",
       " Row(page='Add Friend', level='paid', cancellation_event=0, churned=True),\n",
       " Row(page='Add Friend', level='paid', cancellation_event=0, churned=True),\n",
       " Row(page='Add Friend', level='paid', cancellation_event=0, churned=True),\n",
       " Row(page='NextSong', level='paid', cancellation_event=0, churned=True),\n",
       " Row(page='NextSong', level='paid', cancellation_event=0, churned=True),\n",
       " Row(page='NextSong', level='paid', cancellation_event=0, churned=True),\n",
       " Row(page='NextSong', level='paid', cancellation_event=0, churned=True),\n",
       " Row(page='NextSong', level='paid', cancellation_event=0, churned=True),\n",
       " Row(page='NextSong', level='paid', cancellation_event=0, churned=True),\n",
       " Row(page='NextSong', level='paid', cancellation_event=0, churned=True),\n",
       " Row(page='NextSong', level='paid', cancellation_event=0, churned=True),\n",
       " Row(page='NextSong', level='paid', cancellation_event=0, churned=True),\n",
       " Row(page='NextSong', level='paid', cancellation_event=0, churned=True),\n",
       " Row(page='NextSong', level='paid', cancellation_event=0, churned=True),\n",
       " Row(page='Thumbs Up', level='paid', cancellation_event=0, churned=True),\n",
       " Row(page='NextSong', level='paid', cancellation_event=0, churned=True),\n",
       " Row(page='NextSong', level='paid', cancellation_event=0, churned=True),\n",
       " Row(page='NextSong', level='paid', cancellation_event=0, churned=True),\n",
       " Row(page='NextSong', level='paid', cancellation_event=0, churned=True),\n",
       " Row(page='Add Friend', level='paid', cancellation_event=0, churned=True),\n",
       " Row(page='NextSong', level='paid', cancellation_event=0, churned=True),\n",
       " Row(page='NextSong', level='paid', cancellation_event=0, churned=True),\n",
       " Row(page='NextSong', level='paid', cancellation_event=0, churned=True),\n",
       " Row(page='NextSong', level='paid', cancellation_event=0, churned=True),\n",
       " Row(page='NextSong', level='paid', cancellation_event=0, churned=True),\n",
       " Row(page='NextSong', level='paid', cancellation_event=0, churned=True),\n",
       " Row(page='NextSong', level='paid', cancellation_event=0, churned=True),\n",
       " Row(page='NextSong', level='paid', cancellation_event=0, churned=True),\n",
       " Row(page='NextSong', level='paid', cancellation_event=0, churned=True),\n",
       " Row(page='NextSong', level='paid', cancellation_event=0, churned=True),\n",
       " Row(page='NextSong', level='paid', cancellation_event=0, churned=True),\n",
       " Row(page='NextSong', level='paid', cancellation_event=0, churned=True),\n",
       " Row(page='NextSong', level='paid', cancellation_event=0, churned=True),\n",
       " Row(page='NextSong', level='paid', cancellation_event=0, churned=True),\n",
       " Row(page='NextSong', level='paid', cancellation_event=0, churned=True),\n",
       " Row(page='NextSong', level='paid', cancellation_event=0, churned=True),\n",
       " Row(page='NextSong', level='paid', cancellation_event=0, churned=True),\n",
       " Row(page='NextSong', level='paid', cancellation_event=0, churned=True),\n",
       " Row(page='NextSong', level='paid', cancellation_event=0, churned=True),\n",
       " Row(page='NextSong', level='paid', cancellation_event=0, churned=True),\n",
       " Row(page='NextSong', level='paid', cancellation_event=0, churned=True),\n",
       " Row(page='NextSong', level='paid', cancellation_event=0, churned=True),\n",
       " Row(page='NextSong', level='paid', cancellation_event=0, churned=True),\n",
       " Row(page='Thumbs Up', level='paid', cancellation_event=0, churned=True),\n",
       " Row(page='Add to Playlist', level='paid', cancellation_event=0, churned=True),\n",
       " Row(page='NextSong', level='paid', cancellation_event=0, churned=True),\n",
       " Row(page='NextSong', level='paid', cancellation_event=0, churned=True),\n",
       " Row(page='NextSong', level='paid', cancellation_event=0, churned=True),\n",
       " Row(page='NextSong', level='paid', cancellation_event=0, churned=True),\n",
       " Row(page='NextSong', level='paid', cancellation_event=0, churned=True),\n",
       " Row(page='NextSong', level='paid', cancellation_event=0, churned=True),\n",
       " Row(page='Home', level='paid', cancellation_event=0, churned=True),\n",
       " Row(page='NextSong', level='paid', cancellation_event=0, churned=True),\n",
       " Row(page='NextSong', level='paid', cancellation_event=0, churned=True),\n",
       " Row(page='NextSong', level='paid', cancellation_event=0, churned=True),\n",
       " Row(page='NextSong', level='paid', cancellation_event=0, churned=True),\n",
       " Row(page='NextSong', level='paid', cancellation_event=0, churned=True),\n",
       " Row(page='NextSong', level='paid', cancellation_event=0, churned=True),\n",
       " Row(page='Help', level='paid', cancellation_event=0, churned=True),\n",
       " Row(page='NextSong', level='paid', cancellation_event=0, churned=True),\n",
       " Row(page='NextSong', level='paid', cancellation_event=0, churned=True),\n",
       " Row(page='NextSong', level='paid', cancellation_event=0, churned=True),\n",
       " Row(page='NextSong', level='paid', cancellation_event=0, churned=True),\n",
       " Row(page='NextSong', level='paid', cancellation_event=0, churned=True),\n",
       " Row(page='Add to Playlist', level='paid', cancellation_event=0, churned=True),\n",
       " Row(page='NextSong', level='paid', cancellation_event=0, churned=True),\n",
       " Row(page='NextSong', level='paid', cancellation_event=0, churned=True),\n",
       " Row(page='Thumbs Up', level='paid', cancellation_event=0, churned=True),\n",
       " Row(page='Error', level='paid', cancellation_event=0, churned=True),\n",
       " Row(page='NextSong', level='paid', cancellation_event=0, churned=True),\n",
       " Row(page='NextSong', level='paid', cancellation_event=0, churned=True),\n",
       " Row(page='NextSong', level='paid', cancellation_event=0, churned=True),\n",
       " Row(page='NextSong', level='paid', cancellation_event=0, churned=True),\n",
       " Row(page='NextSong', level='paid', cancellation_event=0, churned=True),\n",
       " Row(page='Downgrade', level='paid', cancellation_event=0, churned=True),\n",
       " Row(page='NextSong', level='paid', cancellation_event=0, churned=True),\n",
       " Row(page='NextSong', level='paid', cancellation_event=0, churned=True),\n",
       " Row(page='NextSong', level='paid', cancellation_event=0, churned=True),\n",
       " Row(page='NextSong', level='paid', cancellation_event=0, churned=True),\n",
       " Row(page='NextSong', level='paid', cancellation_event=0, churned=True),\n",
       " Row(page='NextSong', level='paid', cancellation_event=0, churned=True),\n",
       " Row(page='NextSong', level='paid', cancellation_event=0, churned=True),\n",
       " Row(page='NextSong', level='paid', cancellation_event=0, churned=True),\n",
       " Row(page='Logout', level='paid', cancellation_event=0, churned=True),\n",
       " Row(page='Home', level='paid', cancellation_event=0, churned=True),\n",
       " Row(page='NextSong', level='paid', cancellation_event=0, churned=True),\n",
       " Row(page='Thumbs Up', level='paid', cancellation_event=0, churned=True),\n",
       " Row(page='NextSong', level='paid', cancellation_event=0, churned=True),\n",
       " Row(page='NextSong', level='paid', cancellation_event=0, churned=True),\n",
       " Row(page='NextSong', level='paid', cancellation_event=0, churned=True),\n",
       " Row(page='NextSong', level='paid', cancellation_event=0, churned=True),\n",
       " Row(page='NextSong', level='paid', cancellation_event=0, churned=True),\n",
       " Row(page='NextSong', level='paid', cancellation_event=0, churned=True),\n",
       " Row(page='Add to Playlist', level='paid', cancellation_event=0, churned=True),\n",
       " Row(page='NextSong', level='paid', cancellation_event=0, churned=True),\n",
       " Row(page='NextSong', level='paid', cancellation_event=0, churned=True),\n",
       " Row(page='NextSong', level='paid', cancellation_event=0, churned=True),\n",
       " Row(page='NextSong', level='paid', cancellation_event=0, churned=True),\n",
       " Row(page='Add to Playlist', level='paid', cancellation_event=0, churned=True),\n",
       " Row(page='NextSong', level='paid', cancellation_event=0, churned=True),\n",
       " Row(page='NextSong', level='paid', cancellation_event=0, churned=True),\n",
       " Row(page='NextSong', level='paid', cancellation_event=0, churned=True),\n",
       " Row(page='NextSong', level='paid', cancellation_event=0, churned=True),\n",
       " Row(page='NextSong', level='paid', cancellation_event=0, churned=True),\n",
       " Row(page='NextSong', level='paid', cancellation_event=0, churned=True),\n",
       " Row(page='NextSong', level='paid', cancellation_event=0, churned=True),\n",
       " Row(page='NextSong', level='paid', cancellation_event=0, churned=True),\n",
       " Row(page='NextSong', level='paid', cancellation_event=0, churned=True),\n",
       " Row(page='Add Friend', level='paid', cancellation_event=0, churned=True),\n",
       " Row(page='NextSong', level='paid', cancellation_event=0, churned=True),\n",
       " Row(page='NextSong', level='paid', cancellation_event=0, churned=True),\n",
       " Row(page='NextSong', level='paid', cancellation_event=0, churned=True),\n",
       " Row(page='NextSong', level='paid', cancellation_event=0, churned=True),\n",
       " Row(page='NextSong', level='paid', cancellation_event=0, churned=True),\n",
       " Row(page='NextSong', level='paid', cancellation_event=0, churned=True),\n",
       " Row(page='NextSong', level='paid', cancellation_event=0, churned=True),\n",
       " Row(page='NextSong', level='paid', cancellation_event=0, churned=True),\n",
       " Row(page='NextSong', level='paid', cancellation_event=0, churned=True),\n",
       " Row(page='NextSong', level='paid', cancellation_event=0, churned=True),\n",
       " Row(page='NextSong', level='paid', cancellation_event=0, churned=True),\n",
       " Row(page='NextSong', level='paid', cancellation_event=0, churned=True),\n",
       " Row(page='Home', level='paid', cancellation_event=0, churned=True),\n",
       " Row(page='NextSong', level='paid', cancellation_event=0, churned=True),\n",
       " Row(page='NextSong', level='paid', cancellation_event=0, churned=True),\n",
       " Row(page='NextSong', level='paid', cancellation_event=0, churned=True),\n",
       " Row(page='NextSong', level='paid', cancellation_event=0, churned=True),\n",
       " Row(page='NextSong', level='paid', cancellation_event=0, churned=True),\n",
       " Row(page='NextSong', level='paid', cancellation_event=0, churned=True),\n",
       " Row(page='NextSong', level='paid', cancellation_event=0, churned=True),\n",
       " Row(page='NextSong', level='paid', cancellation_event=0, churned=True),\n",
       " Row(page='NextSong', level='paid', cancellation_event=0, churned=True),\n",
       " Row(page='Downgrade', level='paid', cancellation_event=0, churned=True),\n",
       " Row(page='Cancel', level='paid', cancellation_event=0, churned=True),\n",
       " Row(page='Cancellation Confirmation', level='paid', cancellation_event=1, churned=True)]"
      ]
     },
     "execution_count": 38,
     "metadata": {},
     "output_type": "execute_result"
    }
   ],
   "source": [
    "# check if column 'cancellation_event' is filled correctly\n",
    "user_log_valid.select(['page', 'level', 'cancellation_event', 'churned']).where(\n",
    "    (user_log_valid.userId == '101') & (user_log_valid.sessionId == '842')).collect()"
   ]
  },
  {
   "cell_type": "markdown",
   "metadata": {},
   "source": [
    "### Exploratory Data Analysis\n",
    "\n",
    "Goal now is to observe the behavior for users who stayed vs users who churned with an exploratory data analysis. First step will be to explore aggregates on these two groups of users, observing how much of a specific action they experienced per a certain time unit or number of songs played."
   ]
  },
  {
   "cell_type": "code",
   "execution_count": 39,
   "metadata": {},
   "outputs": [],
   "source": [
    "# check if dataset is balanced regarding churned users"
   ]
  },
  {
   "cell_type": "code",
   "execution_count": 40,
   "metadata": {},
   "outputs": [
    {
     "name": "stdout",
     "output_type": "stream",
     "text": [
      "Of total 225 users, 173 users stayed with the streaming service during the observed timer and  52 users eventually churned (23.11111111111111% users churned).\n"
     ]
    }
   ],
   "source": [
    "users = user_log_valid.select('userId').dropDuplicates().count()\n",
    "churned_users = user_log_valid.filter('churned = True').select('userId').dropDuplicates().count()\n",
    "stayed_users = user_log_valid.filter('churned = False').select('userId').dropDuplicates().count()\n",
    "\n",
    "print('Of total {} users, {} users stayed with the streaming service during the observed timer and  \\\n",
    "{} users eventually churned ({}% users churned).'.format(users, stayed_users, churned_users, \n",
    "                                                         churned_users/users*100))"
   ]
  },
  {
   "cell_type": "markdown",
   "metadata": {},
   "source": [
    "There is a imbalance in the dataset regarding the amount of users who churned versus those who stayed. Next step is to check how this imbalance in amount of users scales on the amount of interactions."
   ]
  },
  {
   "cell_type": "code",
   "execution_count": 41,
   "metadata": {},
   "outputs": [
    {
     "name": "stdout",
     "output_type": "stream",
     "text": [
      "Of total 278154 user interactions, 44864 user interactions were recorderd of useres who stayed with the streaming service during the observed timer and 233290 user interactions were recorded of users who eventually churned (16.129194618808288% users churned).\n"
     ]
    }
   ],
   "source": [
    "user_interactions = user_log_valid.count()\n",
    "churned_users_interactions = user_log_valid.filter('churned = True').count()\n",
    "stayed_users_interactions = user_log_valid.filter('churned = False').count()\n",
    "\n",
    "print('Of total {} user interactions, {} user interactions were recorderd of useres who stayed with the \\\n",
    "streaming service during the observed timer and {} user interactions were recorded of users who eventually \\\n",
    "churned ({}% users churned).'.format(user_interactions, churned_users_interactions, stayed_users_interactions,\n",
    "                                    churned_users_interactions/user_interactions*100))"
   ]
  },
  {
   "cell_type": "markdown",
   "metadata": {},
   "source": [
    "The amount of data available regarding interactions to analyze the difference in behaviour for users who stayed vs users who churned is clearly imbalanced. \n",
    "\n",
    "There are different ways to handle imbalanced data...."
   ]
  },
  {
   "cell_type": "code",
   "execution_count": 42,
   "metadata": {},
   "outputs": [],
   "source": [
    "# Cancellation and cancellation submitting events\n",
    "# Free vs paid accounts when churned\n",
    "# Amount friends\n",
    "# Songs in playlist \n",
    "# Thumbs down in total or last week before churn\n",
    "# Help site opened total or week before churn or per sessionID\n",
    "# Settings used \n",
    "# Downgrade? Upgrade? Per song\n",
    "# Time spent listening to songs total or per day\n",
    "# Activity (actions per day, active days per total days)\n",
    "# Mean length od songs played\n"
   ]
  },
  {
   "cell_type": "markdown",
   "metadata": {},
   "source": [
    "#### Downgrade Events from paid tier to free tier\n",
    "\n",
    "Find when users downgrade their accounts and then flag those log entries. Then use a window function and cumulative sum to distinguish each user's data as either pre or post downgrade events."
   ]
  },
  {
   "cell_type": "code",
   "execution_count": 43,
   "metadata": {},
   "outputs": [
    {
     "name": "stdout",
     "output_type": "stream",
     "text": [
      "+------+---------+---------+------+-------------+--------+------+-----+--------------------+------+----------------+-------------+---------+----+------+-------------+--------------------+------+------------------+-------+\n",
      "|artist|     auth|firstName|gender|itemInSession|lastName|length|level|            location|method|            page| registration|sessionId|song|status|           ts|           userAgent|userId|cancellation_event|churned|\n",
      "+------+---------+---------+------+-------------+--------+------+-----+--------------------+------+----------------+-------------+---------+----+------+-------------+--------------------+------+------------------+-------+\n",
      "|  null|Logged In|     Kael|     M|           47|   Baker|  null| paid|Kingsport-Bristol...|   PUT|Submit Downgrade|1533102330000|      249|null|   307|1538393619000|\"Mozilla/5.0 (Mac...|   131|                 0|  false|\n",
      "|  null|Logged In|   Calvin|     M|           17|Marshall|  null| paid|      Pittsburgh, PA|   PUT|Submit Downgrade|1537120757000|      313|null|   307|1538516445000|\"Mozilla/5.0 (Mac...|    38|                 0|  false|\n",
      "|  null|Logged In|  Kaylenn|     F|          354| Jenkins|  null| paid|           Price, UT|   PUT|Submit Downgrade|1535903878000|      479|null|   307|1538835479000|\"Mozilla/5.0 (Mac...|   141|                 0|  false|\n",
      "+------+---------+---------+------+-------------+--------+------+-----+--------------------+------+----------------+-------------+---------+----+------+-------------+--------------------+------+------------------+-------+\n",
      "only showing top 3 rows\n",
      "\n"
     ]
    }
   ],
   "source": [
    "# show records where downgrade was submitted (churn)\n",
    "user_log_valid.filter(\"page = 'Submit Downgrade'\").show(n=3)"
   ]
  },
  {
   "cell_type": "code",
   "execution_count": 44,
   "metadata": {},
   "outputs": [
    {
     "data": {
      "text/plain": [
       "[Row(userId='131', sessionId=249, page='Add to Playlist', level='free'),\n",
       " Row(userId='131', sessionId=249, page='Help', level='free'),\n",
       " Row(userId='131', sessionId=249, page='Home', level='free'),\n",
       " Row(userId='131', sessionId=249, page='Upgrade', level='free'),\n",
       " Row(userId='131', sessionId=249, page='Submit Upgrade', level='free'),\n",
       " Row(userId='131', sessionId=249, page='Home', level='paid'),\n",
       " Row(userId='131', sessionId=249, page='Thumbs Up', level='paid'),\n",
       " Row(userId='131', sessionId=249, page='Thumbs Up', level='paid'),\n",
       " Row(userId='131', sessionId=249, page='Add to Playlist', level='paid'),\n",
       " Row(userId='131', sessionId=249, page='Downgrade', level='paid'),\n",
       " Row(userId='131', sessionId=249, page='Submit Downgrade', level='paid'),\n",
       " Row(userId='131', sessionId=249, page='Error', level='paid'),\n",
       " Row(userId='131', sessionId=249, page='Help', level='paid'),\n",
       " Row(userId='131', sessionId=249, page='Add Friend', level='paid'),\n",
       " Row(userId='131', sessionId=249, page='About', level='paid'),\n",
       " Row(userId='131', sessionId=249, page='Add Friend', level='paid'),\n",
       " Row(userId='131', sessionId=249, page='Thumbs Up', level='paid'),\n",
       " Row(userId='131', sessionId=249, page='Thumbs Up', level='paid'),\n",
       " Row(userId='131', sessionId=249, page='Thumbs Up', level='paid'),\n",
       " Row(userId='131', sessionId=249, page='Logout', level='paid'),\n",
       " Row(userId='131', sessionId=249, page='Home', level='paid'),\n",
       " Row(userId='131', sessionId=249, page='Thumbs Up', level='paid'),\n",
       " Row(userId='131', sessionId=249, page='Add to Playlist', level='paid'),\n",
       " Row(userId='131', sessionId=249, page='Home', level='paid'),\n",
       " Row(userId='131', sessionId=249, page='Home', level='paid'),\n",
       " Row(userId='131', sessionId=249, page='Logout', level='paid'),\n",
       " Row(userId='131', sessionId=249, page='Home', level='paid'),\n",
       " Row(userId='131', sessionId=249, page='Thumbs Up', level='paid'),\n",
       " Row(userId='131', sessionId=249, page='Add to Playlist', level='paid'),\n",
       " Row(userId='131', sessionId=249, page='Thumbs Up', level='paid'),\n",
       " Row(userId='131', sessionId=249, page='Add to Playlist', level='paid'),\n",
       " Row(userId='131', sessionId=249, page='Add Friend', level='paid'),\n",
       " Row(userId='131', sessionId=249, page='Add to Playlist', level='paid'),\n",
       " Row(userId='131', sessionId=249, page='Thumbs Up', level='paid'),\n",
       " Row(userId='131', sessionId=249, page='Add Friend', level='paid'),\n",
       " Row(userId='131', sessionId=249, page='Add Friend', level='paid'),\n",
       " Row(userId='131', sessionId=249, page='Settings', level='paid'),\n",
       " Row(userId='131', sessionId=249, page='Downgrade', level='paid'),\n",
       " Row(userId='131', sessionId=249, page='Thumbs Up', level='paid'),\n",
       " Row(userId='131', sessionId=320, page='Add to Playlist', level='paid'),\n",
       " Row(userId='131', sessionId=320, page='Thumbs Down', level='paid'),\n",
       " Row(userId='131', sessionId=320, page='Add to Playlist', level='paid'),\n",
       " Row(userId='131', sessionId=320, page='Home', level='paid'),\n",
       " Row(userId='131', sessionId=320, page='Thumbs Up', level='paid'),\n",
       " Row(userId='131', sessionId=440, page='Add to Playlist', level='paid'),\n",
       " Row(userId='131', sessionId=440, page='Thumbs Up', level='paid'),\n",
       " Row(userId='131', sessionId=440, page='Thumbs Up', level='paid'),\n",
       " Row(userId='131', sessionId=440, page='Thumbs Up', level='paid'),\n",
       " Row(userId='131', sessionId=676, page='Home', level='paid'),\n",
       " Row(userId='131', sessionId=676, page='Thumbs Up', level='paid'),\n",
       " Row(userId='131', sessionId=676, page='Help', level='paid'),\n",
       " Row(userId='131', sessionId=676, page='Help', level='paid'),\n",
       " Row(userId='131', sessionId=676, page='Add Friend', level='paid'),\n",
       " Row(userId='131', sessionId=676, page='Add Friend', level='paid'),\n",
       " Row(userId='131', sessionId=676, page='Downgrade', level='paid'),\n",
       " Row(userId='131', sessionId=690, page='Home', level='paid'),\n",
       " Row(userId='131', sessionId=690, page='Thumbs Up', level='paid'),\n",
       " Row(userId='131', sessionId=690, page='Thumbs Up', level='paid'),\n",
       " Row(userId='131', sessionId=690, page='Error', level='paid'),\n",
       " Row(userId='131', sessionId=690, page='Home', level='paid'),\n",
       " Row(userId='131', sessionId=690, page='Settings', level='paid'),\n",
       " Row(userId='131', sessionId=690, page='Home', level='paid'),\n",
       " Row(userId='131', sessionId=690, page='Add Friend', level='paid'),\n",
       " Row(userId='131', sessionId=690, page='Add to Playlist', level='paid'),\n",
       " Row(userId='131', sessionId=690, page='Add Friend', level='paid'),\n",
       " Row(userId='131', sessionId=690, page='Add Friend', level='paid'),\n",
       " Row(userId='131', sessionId=690, page='Add Friend', level='paid'),\n",
       " Row(userId='131', sessionId=690, page='Thumbs Up', level='paid'),\n",
       " Row(userId='131', sessionId=690, page='Add to Playlist', level='paid'),\n",
       " Row(userId='131', sessionId=690, page='Home', level='paid'),\n",
       " Row(userId='131', sessionId=690, page='Thumbs Up', level='paid'),\n",
       " Row(userId='131', sessionId=690, page='Thumbs Up', level='paid'),\n",
       " Row(userId='131', sessionId=690, page='Thumbs Down', level='paid'),\n",
       " Row(userId='131', sessionId=690, page='Add to Playlist', level='paid'),\n",
       " Row(userId='131', sessionId=690, page='Add to Playlist', level='paid'),\n",
       " Row(userId='131', sessionId=690, page='Add to Playlist', level='paid'),\n",
       " Row(userId='131', sessionId=885, page='Home', level='paid'),\n",
       " Row(userId='131', sessionId=885, page='Thumbs Down', level='paid'),\n",
       " Row(userId='131', sessionId=885, page='About', level='paid'),\n",
       " Row(userId='131', sessionId=885, page='About', level='paid'),\n",
       " Row(userId='131', sessionId=885, page='Home', level='paid'),\n",
       " Row(userId='131', sessionId=885, page='Roll Advert', level='paid'),\n",
       " Row(userId='131', sessionId=885, page='Thumbs Up', level='paid'),\n",
       " Row(userId='131', sessionId=885, page='Logout', level='paid'),\n",
       " Row(userId='131', sessionId=885, page='Home', level='paid'),\n",
       " Row(userId='131', sessionId=885, page='Thumbs Up', level='paid'),\n",
       " Row(userId='131', sessionId=885, page='Thumbs Up', level='paid'),\n",
       " Row(userId='131', sessionId=885, page='Thumbs Up', level='paid'),\n",
       " Row(userId='131', sessionId=885, page='Home', level='paid'),\n",
       " Row(userId='131', sessionId=885, page='Thumbs Down', level='paid'),\n",
       " Row(userId='131', sessionId=885, page='Downgrade', level='paid'),\n",
       " Row(userId='131', sessionId=885, page='Logout', level='paid'),\n",
       " Row(userId='131', sessionId=885, page='Home', level='paid'),\n",
       " Row(userId='131', sessionId=885, page='Add to Playlist', level='paid'),\n",
       " Row(userId='131', sessionId=929, page='Add to Playlist', level='paid'),\n",
       " Row(userId='131', sessionId=929, page='Add to Playlist', level='paid'),\n",
       " Row(userId='131', sessionId=929, page='Thumbs Up', level='paid'),\n",
       " Row(userId='131', sessionId=929, page='Add to Playlist', level='paid'),\n",
       " Row(userId='131', sessionId=929, page='Thumbs Down', level='paid'),\n",
       " Row(userId='131', sessionId=929, page='Help', level='paid'),\n",
       " Row(userId='131', sessionId=929, page='Add to Playlist', level='paid'),\n",
       " Row(userId='131', sessionId=929, page='Home', level='paid'),\n",
       " Row(userId='131', sessionId=929, page='Add to Playlist', level='paid'),\n",
       " Row(userId='131', sessionId=929, page='Thumbs Up', level='paid'),\n",
       " Row(userId='131', sessionId=929, page='Add to Playlist', level='paid'),\n",
       " Row(userId='131', sessionId=929, page='Thumbs Up', level='paid'),\n",
       " Row(userId='131', sessionId=929, page='Downgrade', level='paid'),\n",
       " Row(userId='131', sessionId=929, page='Logout', level='paid'),\n",
       " Row(userId='131', sessionId=929, page='Home', level='paid'),\n",
       " Row(userId='131', sessionId=929, page='Add to Playlist', level='paid'),\n",
       " Row(userId='131', sessionId=929, page='Downgrade', level='paid'),\n",
       " Row(userId='131', sessionId=929, page='Thumbs Up', level='paid'),\n",
       " Row(userId='131', sessionId=929, page='Add to Playlist', level='paid'),\n",
       " Row(userId='131', sessionId=929, page='Thumbs Down', level='paid'),\n",
       " Row(userId='131', sessionId=929, page='Settings', level='paid'),\n",
       " Row(userId='131', sessionId=929, page='Save Settings', level='paid'),\n",
       " Row(userId='131', sessionId=929, page='Home', level='paid'),\n",
       " Row(userId='131', sessionId=929, page='Settings', level='paid'),\n",
       " Row(userId='131', sessionId=929, page='Add Friend', level='paid'),\n",
       " Row(userId='131', sessionId=929, page='Home', level='paid'),\n",
       " Row(userId='131', sessionId=929, page='Home', level='paid'),\n",
       " Row(userId='131', sessionId=929, page='Settings', level='paid'),\n",
       " Row(userId='131', sessionId=929, page='Thumbs Down', level='paid'),\n",
       " Row(userId='131', sessionId=929, page='Add to Playlist', level='paid'),\n",
       " Row(userId='131', sessionId=929, page='Home', level='paid'),\n",
       " Row(userId='131', sessionId=929, page='Thumbs Up', level='paid'),\n",
       " Row(userId='131', sessionId=929, page='Thumbs Up', level='paid'),\n",
       " Row(userId='131', sessionId=929, page='Thumbs Up', level='paid'),\n",
       " Row(userId='131', sessionId=929, page='Add to Playlist', level='paid'),\n",
       " Row(userId='131', sessionId=929, page='Thumbs Up', level='paid'),\n",
       " Row(userId='131', sessionId=929, page='Add to Playlist', level='paid'),\n",
       " Row(userId='131', sessionId=929, page='Home', level='paid'),\n",
       " Row(userId='131', sessionId=929, page='Thumbs Up', level='paid'),\n",
       " Row(userId='131', sessionId=929, page='Add to Playlist', level='paid'),\n",
       " Row(userId='131', sessionId=929, page='Logout', level='paid'),\n",
       " Row(userId='131', sessionId=1000, page='Home', level='paid'),\n",
       " Row(userId='131', sessionId=1000, page='Add Friend', level='paid'),\n",
       " Row(userId='131', sessionId=1000, page='Thumbs Down', level='paid'),\n",
       " Row(userId='131', sessionId=1000, page='Home', level='paid'),\n",
       " Row(userId='131', sessionId=1000, page='Add to Playlist', level='paid'),\n",
       " Row(userId='131', sessionId=1000, page='Thumbs Up', level='paid'),\n",
       " Row(userId='131', sessionId=1000, page='Thumbs Down', level='paid'),\n",
       " Row(userId='131', sessionId=1000, page='Add to Playlist', level='paid'),\n",
       " Row(userId='131', sessionId=1000, page='Home', level='paid'),\n",
       " Row(userId='131', sessionId=1000, page='Home', level='paid'),\n",
       " Row(userId='131', sessionId=1000, page='Add to Playlist', level='paid'),\n",
       " Row(userId='131', sessionId=1000, page='Thumbs Up', level='paid'),\n",
       " Row(userId='131', sessionId=1000, page='Logout', level='paid'),\n",
       " Row(userId='131', sessionId=1071, page='Home', level='paid'),\n",
       " Row(userId='131', sessionId=1071, page='Add Friend', level='paid'),\n",
       " Row(userId='131', sessionId=1071, page='Add Friend', level='paid'),\n",
       " Row(userId='131', sessionId=1071, page='Thumbs Up', level='paid'),\n",
       " Row(userId='131', sessionId=1071, page='Logout', level='paid'),\n",
       " Row(userId='131', sessionId=1095, page='Home', level='paid'),\n",
       " Row(userId='131', sessionId=1164, page='Add to Playlist', level='paid'),\n",
       " Row(userId='131', sessionId=1164, page='Downgrade', level='paid'),\n",
       " Row(userId='131', sessionId=1164, page='Home', level='paid'),\n",
       " Row(userId='131', sessionId=1164, page='Thumbs Down', level='paid'),\n",
       " Row(userId='131', sessionId=1164, page='Thumbs Up', level='paid'),\n",
       " Row(userId='131', sessionId=1164, page='Add to Playlist', level='paid'),\n",
       " Row(userId='131', sessionId=1164, page='Settings', level='paid'),\n",
       " Row(userId='131', sessionId=1164, page='Help', level='paid'),\n",
       " Row(userId='131', sessionId=1164, page='Thumbs Up', level='paid'),\n",
       " Row(userId='131', sessionId=1164, page='Add to Playlist', level='paid'),\n",
       " Row(userId='131', sessionId=1164, page='Add to Playlist', level='paid'),\n",
       " Row(userId='131', sessionId=1164, page='Home', level='paid'),\n",
       " Row(userId='131', sessionId=1164, page='Add to Playlist', level='paid'),\n",
       " Row(userId='131', sessionId=1164, page='Home', level='paid'),\n",
       " Row(userId='131', sessionId=1164, page='Logout', level='paid'),\n",
       " Row(userId='131', sessionId=1164, page='Home', level='paid'),\n",
       " Row(userId='131', sessionId=1164, page='Thumbs Up', level='paid'),\n",
       " Row(userId='131', sessionId=1164, page='Thumbs Up', level='paid'),\n",
       " Row(userId='131', sessionId=1164, page='Downgrade', level='paid'),\n",
       " Row(userId='131', sessionId=1164, page='Thumbs Up', level='paid'),\n",
       " Row(userId='131', sessionId=1164, page='Settings', level='paid'),\n",
       " Row(userId='131', sessionId=1164, page='Home', level='paid'),\n",
       " Row(userId='131', sessionId=1164, page='Logout', level='paid'),\n",
       " Row(userId='131', sessionId=1164, page='Home', level='paid'),\n",
       " Row(userId='131', sessionId=1164, page='Thumbs Up', level='paid'),\n",
       " Row(userId='131', sessionId=1164, page='Thumbs Up', level='paid'),\n",
       " Row(userId='131', sessionId=1164, page='Add to Playlist', level='paid'),\n",
       " Row(userId='131', sessionId=1164, page='Error', level='paid'),\n",
       " Row(userId='131', sessionId=1187, page='Thumbs Up', level='paid'),\n",
       " Row(userId='131', sessionId=1187, page='Settings', level='paid'),\n",
       " Row(userId='131', sessionId=1187, page='Downgrade', level='paid'),\n",
       " Row(userId='131', sessionId=1187, page='Thumbs Up', level='paid'),\n",
       " Row(userId='131', sessionId=1187, page='Logout', level='paid'),\n",
       " Row(userId='131', sessionId=1187, page='Home', level='paid'),\n",
       " Row(userId='131', sessionId=1187, page='Home', level='paid'),\n",
       " Row(userId='131', sessionId=1187, page='Thumbs Down', level='paid'),\n",
       " Row(userId='131', sessionId=1187, page='Logout', level='paid'),\n",
       " Row(userId='131', sessionId=1187, page='Home', level='paid'),\n",
       " Row(userId='131', sessionId=1187, page='Add Friend', level='paid'),\n",
       " Row(userId='131', sessionId=1187, page='Thumbs Up', level='paid'),\n",
       " Row(userId='131', sessionId=1187, page='Thumbs Up', level='paid'),\n",
       " Row(userId='131', sessionId=1187, page='Add Friend', level='paid'),\n",
       " Row(userId='131', sessionId=1187, page='Thumbs Down', level='paid'),\n",
       " Row(userId='131', sessionId=1187, page='Logout', level='paid'),\n",
       " Row(userId='131', sessionId=1187, page='Home', level='paid'),\n",
       " Row(userId='131', sessionId=1187, page='Add Friend', level='paid'),\n",
       " Row(userId='131', sessionId=1187, page='Thumbs Up', level='paid'),\n",
       " Row(userId='131', sessionId=1187, page='Add to Playlist', level='paid'),\n",
       " Row(userId='131', sessionId=1187, page='Logout', level='paid'),\n",
       " Row(userId='131', sessionId=1187, page='Home', level='paid'),\n",
       " Row(userId='131', sessionId=1325, page='Home', level='paid'),\n",
       " Row(userId='131', sessionId=1325, page='Thumbs Up', level='paid'),\n",
       " Row(userId='131', sessionId=1325, page='Thumbs Up', level='paid'),\n",
       " Row(userId='131', sessionId=1325, page='Add to Playlist', level='paid'),\n",
       " Row(userId='131', sessionId=1325, page='Thumbs Up', level='paid'),\n",
       " Row(userId='131', sessionId=1325, page='Thumbs Up', level='paid'),\n",
       " Row(userId='131', sessionId=1325, page='Downgrade', level='paid'),\n",
       " Row(userId='131', sessionId=1325, page='Add to Playlist', level='paid'),\n",
       " Row(userId='131', sessionId=1325, page='Add to Playlist', level='paid'),\n",
       " Row(userId='131', sessionId=1325, page='Thumbs Up', level='paid'),\n",
       " Row(userId='131', sessionId=1325, page='Thumbs Up', level='paid'),\n",
       " Row(userId='131', sessionId=1325, page='Thumbs Up', level='paid'),\n",
       " Row(userId='131', sessionId=1325, page='Add to Playlist', level='paid'),\n",
       " Row(userId='131', sessionId=1325, page='Add to Playlist', level='paid'),\n",
       " Row(userId='131', sessionId=1325, page='Thumbs Down', level='paid'),\n",
       " Row(userId='131', sessionId=1325, page='Help', level='paid'),\n",
       " Row(userId='131', sessionId=1325, page='Help', level='paid'),\n",
       " Row(userId='131', sessionId=1325, page='Downgrade', level='paid'),\n",
       " Row(userId='131', sessionId=1325, page='Thumbs Up', level='paid'),\n",
       " Row(userId='131', sessionId=1325, page='Thumbs Down', level='paid'),\n",
       " Row(userId='131', sessionId=1325, page='Help', level='paid'),\n",
       " Row(userId='131', sessionId=1325, page='Help', level='paid'),\n",
       " Row(userId='131', sessionId=1325, page='Home', level='paid'),\n",
       " Row(userId='131', sessionId=1325, page='Thumbs Down', level='paid'),\n",
       " Row(userId='131', sessionId=1325, page='Logout', level='paid'),\n",
       " Row(userId='131', sessionId=1325, page='Home', level='paid'),\n",
       " Row(userId='131', sessionId=1325, page='Thumbs Up', level='paid'),\n",
       " Row(userId='131', sessionId=1325, page='Thumbs Up', level='paid'),\n",
       " Row(userId='131', sessionId=1325, page='Thumbs Up', level='paid'),\n",
       " Row(userId='131', sessionId=1325, page='Logout', level='paid'),\n",
       " Row(userId='131', sessionId=1325, page='Home', level='paid'),\n",
       " Row(userId='131', sessionId=1325, page='Add Friend', level='paid'),\n",
       " Row(userId='131', sessionId=1325, page='Add Friend', level='paid'),\n",
       " Row(userId='131', sessionId=1325, page='Thumbs Up', level='paid'),\n",
       " Row(userId='131', sessionId=1325, page='Add to Playlist', level='paid'),\n",
       " Row(userId='131', sessionId=1325, page='Thumbs Up', level='paid'),\n",
       " Row(userId='131', sessionId=1325, page='Downgrade', level='paid'),\n",
       " Row(userId='131', sessionId=1325, page='Thumbs Up', level='paid'),\n",
       " Row(userId='131', sessionId=1536, page='Home', level='paid'),\n",
       " Row(userId='131', sessionId=1536, page='Thumbs Up', level='paid'),\n",
       " Row(userId='131', sessionId=1536, page='Add Friend', level='paid'),\n",
       " Row(userId='131', sessionId=1536, page='Thumbs Up', level='paid'),\n",
       " Row(userId='131', sessionId=1536, page='Add to Playlist', level='paid'),\n",
       " Row(userId='131', sessionId=1536, page='Add to Playlist', level='paid'),\n",
       " Row(userId='131', sessionId=1536, page='Help', level='paid'),\n",
       " Row(userId='131', sessionId=1536, page='Add Friend', level='paid'),\n",
       " Row(userId='131', sessionId=1536, page='Thumbs Down', level='paid'),\n",
       " Row(userId='131', sessionId=1536, page='Error', level='paid'),\n",
       " Row(userId='131', sessionId=1536, page='Add Friend', level='paid'),\n",
       " Row(userId='131', sessionId=1536, page='Add Friend', level='paid'),\n",
       " Row(userId='131', sessionId=1536, page='Thumbs Up', level='paid'),\n",
       " Row(userId='131', sessionId=1536, page='Home', level='paid'),\n",
       " Row(userId='131', sessionId=1536, page='Downgrade', level='paid'),\n",
       " Row(userId='131', sessionId=1536, page='Thumbs Up', level='paid'),\n",
       " Row(userId='131', sessionId=1536, page='Settings', level='paid'),\n",
       " Row(userId='131', sessionId=1536, page='Save Settings', level='paid'),\n",
       " Row(userId='131', sessionId=1881, page='Thumbs Up', level='paid'),\n",
       " Row(userId='131', sessionId=1881, page='Home', level='paid'),\n",
       " Row(userId='131', sessionId=1881, page='Thumbs Up', level='paid'),\n",
       " Row(userId='131', sessionId=1881, page='Thumbs Down', level='paid'),\n",
       " Row(userId='131', sessionId=1881, page='About', level='paid'),\n",
       " Row(userId='131', sessionId=2041, page='Settings', level='paid'),\n",
       " Row(userId='131', sessionId=2041, page='Add to Playlist', level='paid'),\n",
       " Row(userId='131', sessionId=2041, page='Downgrade', level='paid'),\n",
       " Row(userId='131', sessionId=2041, page='Thumbs Up', level='paid'),\n",
       " Row(userId='131', sessionId=2041, page='Add to Playlist', level='paid'),\n",
       " Row(userId='131', sessionId=2041, page='Thumbs Down', level='paid'),\n",
       " Row(userId='131', sessionId=2041, page='Thumbs Up', level='paid'),\n",
       " Row(userId='131', sessionId=2041, page='Thumbs Down', level='paid'),\n",
       " Row(userId='131', sessionId=2041, page='Help', level='paid'),\n",
       " Row(userId='131', sessionId=2041, page='Help', level='paid'),\n",
       " Row(userId='131', sessionId=2041, page='Home', level='paid'),\n",
       " Row(userId='131', sessionId=2041, page='Thumbs Up', level='paid'),\n",
       " Row(userId='131', sessionId=2041, page='Add to Playlist', level='paid'),\n",
       " Row(userId='131', sessionId=2041, page='Add Friend', level='paid'),\n",
       " Row(userId='131', sessionId=2041, page='Downgrade', level='paid'),\n",
       " Row(userId='131', sessionId=2041, page='Submit Downgrade', level='paid'),\n",
       " Row(userId='131', sessionId=2041, page='Home', level='free'),\n",
       " Row(userId='131', sessionId=2041, page='Roll Advert', level='free'),\n",
       " Row(userId='131', sessionId=2041, page='Roll Advert', level='free'),\n",
       " Row(userId='131', sessionId=2094, page='Home', level='free'),\n",
       " Row(userId='131', sessionId=2155, page='Add to Playlist', level='free'),\n",
       " Row(userId='131', sessionId=2155, page='About', level='free'),\n",
       " Row(userId='131', sessionId=2155, page='Thumbs Up', level='free'),\n",
       " Row(userId='131', sessionId=2155, page='Add to Playlist', level='free'),\n",
       " Row(userId='131', sessionId=2155, page='Roll Advert', level='free'),\n",
       " Row(userId='131', sessionId=2155, page='Logout', level='free'),\n",
       " Row(userId='131', sessionId=2155, page='Home', level='free'),\n",
       " Row(userId='131', sessionId=2155, page='Roll Advert', level='free'),\n",
       " Row(userId='131', sessionId=2155, page='Thumbs Down', level='free'),\n",
       " Row(userId='131', sessionId=2155, page='Add to Playlist', level='free'),\n",
       " Row(userId='131', sessionId=2155, page='Add Friend', level='free'),\n",
       " Row(userId='131', sessionId=2155, page='Home', level='free'),\n",
       " Row(userId='131', sessionId=2155, page='Logout', level='free'),\n",
       " Row(userId='131', sessionId=2281, page='Home', level='free')]"
      ]
     },
     "execution_count": 44,
     "metadata": {},
     "output_type": "execute_result"
    }
   ],
   "source": [
    "user_log.select([\"userId\", \"firstname\", \"page\", \"level\", \"song\"]).where(user_log.userId == \"30\").collect()\n",
    "\n",
    "user_log_valid.select(['userId', 'sessionId', \"page\", \"level\"]).where(\n",
    "    (user_log_valid.page != 'NextSong') & (user_log_valid.userId == '131')).collect()\n"
   ]
  },
  {
   "cell_type": "code",
   "execution_count": 45,
   "metadata": {},
   "outputs": [],
   "source": [
    "# user defined function to flag the events page=submit downgrade with extra column\n",
    "flag_downgrade_event = udf(lambda x: 1 if x == \"Submit Downgrade\" else 0, IntegerType())"
   ]
  },
  {
   "cell_type": "code",
   "execution_count": 46,
   "metadata": {},
   "outputs": [],
   "source": [
    "# create extrac column \"downgraded\"\n",
    "user_log_valid = user_log_valid.withColumn('downgrade_event', flag_downgrade_event('page'))"
   ]
  },
  {
   "cell_type": "code",
   "execution_count": 47,
   "metadata": {},
   "outputs": [
    {
     "data": {
      "text/plain": [
       "Row(artist='Martha Tilston', auth='Logged In', firstName='Colin', gender='M', itemInSession=50, lastName='Freeman', length=277.89016, level='paid', location='Bakersfield, CA', method='PUT', page='NextSong', registration=1538173362000, sessionId=29, song='Rockpools', status=200, ts=1538352117000, userAgent='Mozilla/5.0 (Windows NT 6.1; WOW64; rv:31.0) Gecko/20100101 Firefox/31.0', userId='30', cancellation_event=0, churned=False, downgrade_event=0)"
      ]
     },
     "execution_count": 47,
     "metadata": {},
     "output_type": "execute_result"
    }
   ],
   "source": [
    "# check if column existst\n",
    "user_log_valid.head()"
   ]
  },
  {
   "cell_type": "markdown",
   "metadata": {},
   "source": [
    "#### Calculating Statistics by Hour"
   ]
  },
  {
   "cell_type": "code",
   "execution_count": 48,
   "metadata": {},
   "outputs": [],
   "source": [
    "# create user defined function to convert the ts column into hour format\n",
    "get_hour = udf(lambda timestamp: datetime.datetime.fromtimestamp(timestamp / 1000.0). hour)"
   ]
  },
  {
   "cell_type": "code",
   "execution_count": 49,
   "metadata": {},
   "outputs": [],
   "source": [
    "# create new column \"hour\" by applying udf get_hour\n",
    "user_log_valid = user_log_valid.withColumn('hour', get_hour(user_log_valid.ts))"
   ]
  },
  {
   "cell_type": "code",
   "execution_count": 50,
   "metadata": {},
   "outputs": [
    {
     "data": {
      "text/plain": [
       "Row(artist='Martha Tilston', auth='Logged In', firstName='Colin', gender='M', itemInSession=50, lastName='Freeman', length=277.89016, level='paid', location='Bakersfield, CA', method='PUT', page='NextSong', registration=1538173362000, sessionId=29, song='Rockpools', status=200, ts=1538352117000, userAgent='Mozilla/5.0 (Windows NT 6.1; WOW64; rv:31.0) Gecko/20100101 Firefox/31.0', userId='30', cancellation_event=0, churned=False, downgrade_event=0, hour='2')"
      ]
     },
     "execution_count": 50,
     "metadata": {},
     "output_type": "execute_result"
    }
   ],
   "source": [
    "# check if hour column present in first record\n",
    "user_log_valid.head()"
   ]
  },
  {
   "cell_type": "code",
   "execution_count": 51,
   "metadata": {},
   "outputs": [],
   "source": [
    "# take only amount of action \"NextSong\" and group it by hour of day\n",
    "songs_in_hour = user_log_valid.filter(user_log_valid.page == 'NextSong').groupby(\n",
    "    'hour').count().orderBy(user_log_valid.hour.cast('float'))"
   ]
  },
  {
   "cell_type": "code",
   "execution_count": 52,
   "metadata": {},
   "outputs": [
    {
     "name": "stdout",
     "output_type": "stream",
     "text": [
      "+----+-----+\n",
      "|hour|count|\n",
      "+----+-----+\n",
      "|   0| 9908|\n",
      "|   1| 9327|\n",
      "|   2| 8895|\n",
      "|   3| 8339|\n",
      "|   4| 8359|\n",
      "|   5| 8229|\n",
      "|   6| 7979|\n",
      "|   7| 8114|\n",
      "|   8| 8119|\n",
      "|   9| 8225|\n",
      "|  10| 8359|\n",
      "|  11| 8602|\n",
      "|  12| 8653|\n",
      "|  13| 9225|\n",
      "|  14| 9479|\n",
      "|  15|10047|\n",
      "|  16|11036|\n",
      "|  17|11381|\n",
      "|  18|11568|\n",
      "|  19|11346|\n",
      "|  20|10940|\n",
      "|  21|10893|\n",
      "|  22|10823|\n",
      "|  23|10262|\n",
      "+----+-----+\n",
      "\n"
     ]
    }
   ],
   "source": [
    "# show resulting table\n",
    "songs_in_hour.show(n=24)"
   ]
  },
  {
   "cell_type": "code",
   "execution_count": 53,
   "metadata": {},
   "outputs": [],
   "source": [
    "# convert spark object ot pandas dataframe\n",
    "songs_in_hour_pd = songs_in_hour.toPandas()\n",
    "songs_in_hour_pd.hour = pd.to_numeric(songs_in_hour_pd.hour)"
   ]
  },
  {
   "cell_type": "code",
   "execution_count": 54,
   "metadata": {},
   "outputs": [
    {
     "data": {
      "image/png": "[encoded data removed]",
      "text/plain": [
       "<Figure size 432x288 with 1 Axes>"
      ]
     },
     "metadata": {
      "needs_background": "light"
     },
     "output_type": "display_data"
    }
   ],
   "source": [
    "# plot the amount of songs played over hours of day\n",
    "plt.scatter(songs_in_hour_pd['hour'], songs_in_hour_pd['count'])\n",
    "plt.xlim(-1, 24);\n",
    "plt.ylim(0, 1.2 * max(songs_in_hour_pd['count']))\n",
    "plt.xlabel('Hour')\n",
    "plt.ylabel('Songs played');"
   ]
  },
  {
   "cell_type": "markdown",
   "metadata": {},
   "source": [
    "#### Amount of page events per user ordered"
   ]
  },
  {
   "cell_type": "code",
   "execution_count": 77,
   "metadata": {},
   "outputs": [
    {
     "name": "stdout",
     "output_type": "stream",
     "text": [
      "+------+-------+-----+\n",
      "|userId|churned|count|\n",
      "+------+-------+-----+\n",
      "|    39|  false| 9632|\n",
      "|    92|  false| 7230|\n",
      "|   140|  false| 6880|\n",
      "|300011|  false| 5732|\n",
      "|   124|  false| 4825|\n",
      "|300021|  false| 4659|\n",
      "|300017|  false| 4428|\n",
      "|    85|  false| 4370|\n",
      "|    42|  false| 4257|\n",
      "|200023|  false| 3769|\n",
      "+------+-------+-----+\n",
      "only showing top 10 rows\n",
      "\n"
     ]
    }
   ],
   "source": [
    "# page events per user\n",
    "page_event_per_user = user_log_valid.select('page','userId', 'churned').groupby('userId', 'churned').count()\n",
    "page_event_per_user.orderBy('count', ascending=False).show(n=10)\n",
    "\n",
    "# convert spark object ot pandas dataframe\n",
    "page_event_per_user_pd = page_event_per_user.toPandas()"
   ]
  },
  {
   "cell_type": "markdown",
   "metadata": {},
   "source": [
    "#### Mean of page events per user"
   ]
  },
  {
   "cell_type": "code",
   "execution_count": 80,
   "metadata": {},
   "outputs": [
    {
     "data": {
      "text/html": [
       "<div>\n",
       "<style scoped>\n",
       "    .dataframe tbody tr th:only-of-type {\n",
       "        vertical-align: middle;\n",
       "    }\n",
       "\n",
       "    .dataframe tbody tr th {\n",
       "        vertical-align: top;\n",
       "    }\n",
       "\n",
       "    .dataframe thead th {\n",
       "        text-align: right;\n",
       "    }\n",
       "</style>\n",
       "<table border=\"1\" class=\"dataframe\">\n",
       "  <thead>\n",
       "    <tr style=\"text-align: right;\">\n",
       "      <th></th>\n",
       "      <th>count</th>\n",
       "    </tr>\n",
       "    <tr>\n",
       "      <th>churned</th>\n",
       "      <th></th>\n",
       "    </tr>\n",
       "  </thead>\n",
       "  <tbody>\n",
       "    <tr>\n",
       "      <th>False</th>\n",
       "      <td>1348.497110</td>\n",
       "    </tr>\n",
       "    <tr>\n",
       "      <th>True</th>\n",
       "      <td>862.769231</td>\n",
       "    </tr>\n",
       "  </tbody>\n",
       "</table>\n",
       "</div>"
      ],
      "text/plain": [
       "               count\n",
       "churned             \n",
       "False    1348.497110\n",
       "True      862.769231"
      ]
     },
     "execution_count": 80,
     "metadata": {},
     "output_type": "execute_result"
    }
   ],
   "source": [
    "page_event_per_user_pd.groupby('churned').mean()"
   ]
  },
  {
   "cell_type": "code",
   "execution_count": 84,
   "metadata": {},
   "outputs": [
    {
     "data": {
      "image/png": "[encoded data removed]",
      "text/plain": [
       "<Figure size 432x288 with 1 Axes>"
      ]
     },
     "metadata": {
      "needs_background": "light"
     },
     "output_type": "display_data"
    }
   ],
   "source": [
    "# Plot\n",
    "sns.barplot(x='churned', y='count', data=page_event_per_user_pd)\n",
    "plt.xlabel('Churned', fontsize=12)\n",
    "plt.ylabel('Amount page event per user', fontsize=12)\n",
    "plt.title('Mean page events per user churned/stayed', fontsize=14)\n",
    "plt.show()"
   ]
  },
  {
   "cell_type": "markdown",
   "metadata": {},
   "source": [
    "Comparing users who churned with those who stayed, there is clearly a difference in mean page events per user. This difference could be an effect of that users who do not churn the service in mean use it for a longer time since registration. In the following cells will be investigated if there is a difference in page events per session as well. "
   ]
  },
  {
   "cell_type": "code",
   "execution_count": 143,
   "metadata": {},
   "outputs": [
    {
     "name": "stdout",
     "output_type": "stream",
     "text": [
      "+------+-------+-------------+\n",
      "|userId|churned|      min(ts)|\n",
      "+------+-------+-------------+\n",
      "|    19|  false|1539105419000|\n",
      "|100005|   true|1538407015000|\n",
      "|200007|  false|1539951708000|\n",
      "|300007|   true|1538677496000|\n",
      "|    50|  false|1538622512000|\n",
      "|200002|  false|1538393430000|\n",
      "|    30|  false|1538352117000|\n",
      "|     8|  false|1539186658000|\n",
      "|100011|   true|1538414422000|\n",
      "|100012|   true|1538586080000|\n",
      "|     4|  false|1538356650000|\n",
      "|    65|  false|1538416736000|\n",
      "|   101|   true|1538358605000|\n",
      "|    13|  false|1538372289000|\n",
      "|   153|  false|1541711470000|\n",
      "|    42|  false|1538418982000|\n",
      "|100014|   true|1539177136000|\n",
      "|    94|  false|1538412924000|\n",
      "|    62|  false|1539095507000|\n",
      "|   114|  false|1538589947000|\n",
      "+------+-------+-------------+\n",
      "only showing top 20 rows\n",
      "\n"
     ]
    }
   ],
   "source": [
    "# time since registration # Number of days since registration\n",
    "\n",
    "\n",
    "# list of unique userIds\n",
    "\n",
    "# for every user find last event\n",
    "# for every user find registration event\n",
    "# for every user calculate time from registration event to last event\n",
    "\n",
    "\n",
    "\n",
    "#.cast('float')\n",
    "\n",
    "\n",
    "user_log_valid.select('userId', 'churned', 'ts') \\\n",
    "    .groupBy('userId', 'churned') \\\n",
    "    .agg({'ts':'max', 'ts':'min'}).show()\n",
    "\n",
    "#df.agg(F.min(df.High),F.max(df.High),F.avg(df.High),F.sum(df.High)).show()"
   ]
  },
  {
   "cell_type": "code",
   "execution_count": null,
   "metadata": {},
   "outputs": [],
   "source": []
  },
  {
   "cell_type": "code",
   "execution_count": null,
   "metadata": {},
   "outputs": [],
   "source": []
  },
  {
   "cell_type": "code",
   "execution_count": null,
   "metadata": {},
   "outputs": [],
   "source": [
    "# NextSong event per session\n",
    "\n",
    "# page events per user per sessionId\n",
    "# page events per user per hour"
   ]
  },
  {
   "cell_type": "code",
   "execution_count": null,
   "metadata": {},
   "outputs": [],
   "source": []
  },
  {
   "cell_type": "markdown",
   "metadata": {},
   "source": [
    "#### Average amount songs played between visiting home"
   ]
  },
  {
   "cell_type": "code",
   "execution_count": 125,
   "metadata": {},
   "outputs": [
    {
     "name": "stdout",
     "output_type": "stream",
     "text": [
      "+-------+---------------------------+\n",
      "|churned|avg(avg_songs_between_home)|\n",
      "+-------+---------------------------+\n",
      "|   true|           20.1673161767835|\n",
      "|  false|         22.316737146091974|\n",
      "+-------+---------------------------+\n",
      "\n"
     ]
    }
   ],
   "source": [
    "# How many songs do users listen to on average between visiting our home page? Please round your answer to the closest integer.\n",
    "\n",
    "# TODO: filter out 0 sum and max sum to get more exact answer\n",
    "\n",
    "udf_homevisit = udf(lambda ishome : int(ishome == 'Home'), IntegerType())\n",
    "\n",
    "user_window = Window \\\n",
    "    .partitionBy('userID') \\\n",
    "    .orderBy(desc('ts')) \\\n",
    "    .rangeBetween(Window.unboundedPreceding, 0)\n",
    "\n",
    "cusum = user_log_valid.filter((user_log_valid.page == 'NextSong') | (user_log_valid.page == 'Home')) \\\n",
    "    .select('userID', 'churned', 'page', 'ts') \\\n",
    "    .withColumn('homevisit', udf_homevisit(col('page'))) \\\n",
    "    .withColumn('period', Fsum('homevisit').over(user_window))\n",
    "\n",
    "cuavg = cusum.filter((cusum.page == 'NextSong')) \\\n",
    "    .groupBy('userID', 'churned', 'period') \\\n",
    "    .agg({'period':'count'}) \\\n",
    "    .groupBy('userID', 'churned').mean() \\\n",
    "    .withColumnRenamed('avg(count(period))', 'avg_songs_between_home') \\\n",
    "    .select('userID', 'churned', 'avg_songs_between_home')\n",
    "\n",
    "\n",
    "cuavg.groupBy('churned') \\\n",
    "    .agg({'avg_songs_between_home':'avg'}).show()"
   ]
  },
  {
   "cell_type": "code",
   "execution_count": null,
   "metadata": {},
   "outputs": [],
   "source": []
  },
  {
   "cell_type": "code",
   "execution_count": null,
   "metadata": {},
   "outputs": [],
   "source": []
  },
  {
   "cell_type": "code",
   "execution_count": null,
   "metadata": {},
   "outputs": [],
   "source": []
  },
  {
   "cell_type": "code",
   "execution_count": null,
   "metadata": {},
   "outputs": [],
   "source": []
  },
  {
   "cell_type": "code",
   "execution_count": null,
   "metadata": {},
   "outputs": [],
   "source": []
  },
  {
   "cell_type": "markdown",
   "metadata": {},
   "source": [
    "#### Roll advert events among free tier users in total or per time unit or session\n",
    "\n",
    "This feature has some problematic properties. Roll adverts events can only occur to free tier users. Therefore all information retrieved from differences in occurences of roll advert events between churned and stayed users only apply to users who are free tier users. The roll advert event might be more suited to predict 'Downgrad Submit' events."
   ]
  },
  {
   "cell_type": "code",
   "execution_count": null,
   "metadata": {},
   "outputs": [],
   "source": []
  },
  {
   "cell_type": "code",
   "execution_count": null,
   "metadata": {},
   "outputs": [],
   "source": []
  },
  {
   "cell_type": "code",
   "execution_count": null,
   "metadata": {},
   "outputs": [],
   "source": []
  },
  {
   "cell_type": "code",
   "execution_count": null,
   "metadata": {},
   "outputs": [],
   "source": []
  },
  {
   "cell_type": "code",
   "execution_count": null,
   "metadata": {},
   "outputs": [],
   "source": []
  },
  {
   "cell_type": "code",
   "execution_count": null,
   "metadata": {},
   "outputs": [],
   "source": []
  },
  {
   "cell_type": "code",
   "execution_count": null,
   "metadata": {},
   "outputs": [],
   "source": [
    "sns.barplot(x='hour', y='count', hue='Churn', data=churn_gender)\n",
    "plt.xlabel('Gender', fontsize=12)\n",
    "plt.ylabel('#Churned users', fontsize=12)\n",
    "plt.title('Churn per Gender', fontsize=14)\n",
    "plt.show()"
   ]
  },
  {
   "cell_type": "code",
   "execution_count": null,
   "metadata": {},
   "outputs": [],
   "source": []
  },
  {
   "cell_type": "code",
   "execution_count": null,
   "metadata": {},
   "outputs": [],
   "source": []
  },
  {
   "cell_type": "markdown",
   "metadata": {},
   "source": [
    "## 4. Data Modeling"
   ]
  },
  {
   "cell_type": "markdown",
   "metadata": {},
   "source": [
    "## 5. Evaluate the Results"
   ]
  },
  {
   "cell_type": "markdown",
   "metadata": {},
   "source": [
    "## 6. Deploy"
   ]
  },
  {
   "cell_type": "code",
   "execution_count": null,
   "metadata": {},
   "outputs": [],
   "source": []
  },
  {
   "cell_type": "code",
   "execution_count": null,
   "metadata": {},
   "outputs": [],
   "source": []
  },
  {
   "cell_type": "code",
   "execution_count": null,
   "metadata": {},
   "outputs": [],
   "source": []
  },
  {
   "cell_type": "code",
   "execution_count": null,
   "metadata": {},
   "outputs": [],
   "source": []
  },
  {
   "cell_type": "code",
   "execution_count": null,
   "metadata": {},
   "outputs": [],
   "source": []
  },
  {
   "cell_type": "code",
   "execution_count": null,
   "metadata": {},
   "outputs": [],
   "source": []
  },
  {
   "cell_type": "code",
   "execution_count": 100,
   "metadata": {},
   "outputs": [
    {
     "name": "stdout",
     "output_type": "stream",
     "text": [
      "+-------------+-----------+\n",
      "|       Artist|Artistcount|\n",
      "+-------------+-----------+\n",
      "|Kings Of Leon|       1841|\n",
      "+-------------+-----------+\n",
      "only showing top 1 row\n",
      "\n"
     ]
    }
   ],
   "source": [
    "# How many songs were played from the most played artist?\n",
    "\n",
    "user_log.filter(user_log.page == 'NextSong') \\\n",
    "    .select('Artist') \\\n",
    "    .groupBy('Artist') \\\n",
    "    .agg({'Artist':'count'}) \\\n",
    "    .withColumnRenamed('count(Artist)', 'Artistcount') \\\n",
    "    .sort(desc('Artistcount')) \\\n",
    "    .show(1)"
   ]
  },
  {
   "cell_type": "code",
   "execution_count": null,
   "metadata": {},
   "outputs": [],
   "source": [
    "# How many female users do we have in the data set?\n",
    "\n",
    "user_log.filter(user_log.gender == 'F').select('userId', 'gender').dropDuplicates().count()"
   ]
  },
  {
   "cell_type": "code",
   "execution_count": null,
   "metadata": {},
   "outputs": [],
   "source": [
    "# Which page did user id \"\" (empty string) NOT visit?\n",
    "\n",
    "# filter for users with blank user id\n",
    "blank_pages = user_log.filter(user_log.userId == '').select(col('page').alias('blank_pages')).dropDuplicates()\n",
    "\n",
    "# get a list of possible pages that could be visited\n",
    "all_pages = user_log.select('page').dropDuplicates()\n",
    "\n",
    "# find values in all_pages that are not in blank_pages\n",
    "# these are the pages that the blank user did not go to\n",
    "for row in set(all_pages.collect()) - set(blank_pages.collect()):\n",
    "    print(row.page)"
   ]
  },
  {
   "cell_type": "code",
   "execution_count": null,
   "metadata": {},
   "outputs": [],
   "source": []
  },
  {
   "cell_type": "code",
   "execution_count": null,
   "metadata": {},
   "outputs": [],
   "source": []
  },
  {
   "cell_type": "markdown",
   "metadata": {},
   "source": [
    "# Feature Engineering\n",
    "Once you've familiarized yourself with the data, build out the features you find promising to train your model on. To work with the full dataset, you can follow the following steps.\n",
    "- Write a script to extract the necessary features from the smaller subset of data\n",
    "- Ensure that your script is scalable, using the best practices discussed in Lesson 3\n",
    "- Try your script on the full data set, debugging your script if necessary\n",
    "\n",
    "If you are working in the classroom workspace, you can just extract features based on the small subset of data contained here. Be sure to transfer over this work to the larger dataset when you work on your Spark cluster."
   ]
  },
  {
   "cell_type": "code",
   "execution_count": null,
   "metadata": {},
   "outputs": [],
   "source": []
  },
  {
   "cell_type": "code",
   "execution_count": null,
   "metadata": {},
   "outputs": [],
   "source": []
  },
  {
   "cell_type": "code",
   "execution_count": null,
   "metadata": {},
   "outputs": [],
   "source": []
  },
  {
   "cell_type": "code",
   "execution_count": null,
   "metadata": {},
   "outputs": [],
   "source": []
  },
  {
   "cell_type": "code",
   "execution_count": null,
   "metadata": {},
   "outputs": [],
   "source": []
  },
  {
   "cell_type": "code",
   "execution_count": null,
   "metadata": {},
   "outputs": [],
   "source": []
  },
  {
   "cell_type": "code",
   "execution_count": null,
   "metadata": {},
   "outputs": [],
   "source": []
  },
  {
   "cell_type": "markdown",
   "metadata": {},
   "source": [
    "# Modeling\n",
    "Split the full dataset into train, test, and validation sets. Test out several of the machine learning methods you learned. Evaluate the accuracy of the various models, tuning parameters as necessary. Determine your winning model based on test accuracy and report results on the validation set. Since the churned users are a fairly small subset, I suggest using F1 score as the metric to optimize."
   ]
  },
  {
   "cell_type": "code",
   "execution_count": null,
   "metadata": {},
   "outputs": [],
   "source": []
  },
  {
   "cell_type": "markdown",
   "metadata": {},
   "source": [
    "# Final Steps\n",
    "Clean up your code, adding comments and renaming variables to make the code easier to read and maintain. Refer to the Spark Project Overview page and Data Scientist Capstone Project Rubric to make sure you are including all components of the capstone project and meet all expectations. Remember, this includes thorough documentation in a README file in a Github repository, as well as a web app or blog post."
   ]
  },
  {
   "cell_type": "code",
   "execution_count": null,
   "metadata": {},
   "outputs": [],
   "source": []
  }
 ],
 "metadata": {
  "kernelspec": {
   "display_name": "Python 3",
   "language": "python",
   "name": "python3"
  },
  "language_info": {
   "codemirror_mode": {
    "name": "ipython",
    "version": 3
   },
   "file_extension": ".py",
   "mimetype": "text/x-python",
   "name": "python",
   "nbconvert_exporter": "python",
   "pygments_lexer": "ipython3",
   "version": "3.8.0"
  }
 },
 "nbformat": 4,
 "nbformat_minor": 2
}
