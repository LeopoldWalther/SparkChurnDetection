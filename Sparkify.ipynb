{
 "cells": [
  {
   "cell_type": "markdown",
   "metadata": {},
   "source": [
    "# Sparkify Project Workspace\n",
    "\n",
    "## Introduction\n",
    "\n",
    "This is the final project of my Udacity Nanodegree as Data Scientist. Goal of the project is to predict user churn of an online music streaming service using machine learning algorithms. \n",
    "\n",
    "Basis of the project is 12 GB dataset containing all information about user interactions with the online streaming service. The data is stored in a AWS Simple Storage Service (S3) bucket in JSON format.\n",
    "Datasets of such a large scale are challenging to process on a single computer and can therefore be referred to as big data. \n",
    "\n",
    "Apache Spark is a popular tool for large scale data processing and will be used to work with the full dataset. It allows to efficiently spread data and computations across a network of distributed computers, called clusters. Each cluster has nodes (computers) that do the computations in parallel.\n",
    "\n",
    "It is best practice to explore the data using a smaller subset to reduce necessary computation. This workspace contains a tiny subset (128MB) of the full dataset available. Functions of the Spark SQL library will serve to find features in the data via descriptive statistics. After finding those features in the dataset needed to predict user churn, the next step is to create a supervised machine learning model with Spark ML first based on the small subset and later the full dataset. \n",
    "\n",
    "The full dataset will be processed in Amazon Web Services (AWS) with an Elastic Map Reduce (EMR) cluster of 3 m5.xlarge machines. \n",
    "\n",
    "The project is structured following CRISP-DM, the Cross Industry Process for Data Mining. These are the steps:\n",
    "\n",
    "- [1. Business Understanding](#BU)\n",
    "- [2. Data Understanding](#DU)\n",
    "- [3. Prepare Data](#prepare)\n",
    "- [4. Data Modeling](#modeling)\n",
    "- [5. Evaluate the Results](#evaluate)\n",
    "- [6. Deploy](#deploy)"
   ]
  },
  {
   "cell_type": "markdown",
   "metadata": {},
   "source": [
    "### Load libraries, create Spark session and import data "
   ]
  },
  {
   "cell_type": "code",
   "execution_count": 1,
   "metadata": {},
   "outputs": [],
   "source": [
    "# import libraries for Spark Session\n",
    "import pyspark\n",
    "from pyspark import SparkConf\n",
    "\n",
    "# import libraries for sql actions\n",
    "from pyspark.sql import SparkSession\n",
    "# from pyspark.sql.functions import isnan, count, when, col, asc, desc, udf, col, sort_array, avg, countDistinct, datediff\n",
    "#from pyspark.sql.functions import sum as Fsum\n",
    "from pyspark.sql import functions as F\n",
    "from pyspark.sql.window import Window\n",
    "from pyspark.sql.types import IntegerType, StringType, IntegerType\n",
    "\n",
    "# other libraries\n",
    "import datetime\n",
    "import re\n",
    "import numpy as np\n",
    "import pandas as pd\n",
    "%matplotlib inline\n",
    "import matplotlib.pyplot as plt\n",
    "import seaborn as sns\n",
    "\n",
    "# Spark ML libraries\n",
    "from pyspark.ml.feature import RegexTokenizer, VectorAssembler, Normalizer, StandardScaler"
   ]
  },
  {
   "cell_type": "code",
   "execution_count": 2,
   "metadata": {},
   "outputs": [],
   "source": [
    "# create a Spark session\n",
    "spark = SparkSession \\\n",
    "    .builder \\\n",
    "    .appName(\"Sparkify\") \\\n",
    "    .getOrCreate()"
   ]
  },
  {
   "cell_type": "code",
   "execution_count": 3,
   "metadata": {},
   "outputs": [
    {
     "data": {
      "text/plain": [
       "[('spark.driver.port', '58521'),\n",
       " ('spark.rdd.compress', 'True'),\n",
       " ('spark.driver.host', 'mbp-dark-leo.fritz.box'),\n",
       " ('spark.app.name', 'Sparkify'),\n",
       " ('spark.serializer.objectStreamReset', '100'),\n",
       " ('spark.app.id', 'local-1610382926420'),\n",
       " ('spark.master', 'local[*]'),\n",
       " ('spark.submit.pyFiles', ''),\n",
       " ('spark.executor.id', 'driver'),\n",
       " ('spark.submit.deployMode', 'client'),\n",
       " ('spark.ui.showConsoleProgress', 'true')]"
      ]
     },
     "execution_count": 3,
     "metadata": {},
     "output_type": "execute_result"
    }
   ],
   "source": [
    "# view information about spark configuration\n",
    "spark.sparkContext.getConf().getAll()"
   ]
  },
  {
   "cell_type": "markdown",
   "metadata": {},
   "source": [
    "In this workspace, the mini-dataset file is `mini_sparkify_event_data.json`."
   ]
  },
  {
   "cell_type": "code",
   "execution_count": 4,
   "metadata": {},
   "outputs": [],
   "source": [
    "# define path and load data\n",
    "path = 'data/mini_sparkify_event_data.json'\n",
    "user_log = spark.read.json(path)"
   ]
  },
  {
   "cell_type": "markdown",
   "metadata": {},
   "source": [
    "<a id='BU'></a>\n",
    "## 1. Business Understanding"
   ]
  },
  {
   "cell_type": "markdown",
   "metadata": {},
   "source": [
    "Sparkify is a (fictional) music streaming service with a business case similar to Spotify. The service can be used on two levels, free tier or premium tier. Both levels of service generate revenue for Sparkify. The free tier service is financed by advertisement in between the songs, the premium tier consists of a monthly or yearly subscription fee to have an advertisement free experience. \n",
    "At any moment the user can decide to downgrade from paid/premium to free, upgrade from free to paid/premium or to cancel from the service completely.\n",
    "    \n",
    "Customer churn is when a customer unsubscribes from a service, ceases to purchase a product or stops engaging with a service [[1](https://www.retentionscience.com/blog/why-measuring-your-customer-churn-rate-increases-revenue/)]. In the case of the music streaming service of this project churn will be defined as when a user lands on the 'Cancellation Confirmation' page, which can happen for both paid and free tier users.\n",
    "\n",
    "Usually it is more expensive for a business to acquire new customers than retaining existing customers. Statistics vary from industry to industry, but research indicates that it may cost up to 5 times more to acquire a new customer than to keep an existing one [[2](https://www.forbes.com/sites/jiawertz/2018/09/12/dont-spend-5-times-more-attracting-new-customers-nurture-the-existing-ones/?sh=36d7a6225a8e)].\n",
    "\n",
    "To prevent churn candidates special discounts or other costly measures are offered to customers. These measures usually lower the revenue per customer. The goal is to identify users who are about to churn ahead of time and only target them with marketing campaigns. \n",
    "\n",
    "Churn prediction is an important classification use case for streaming services such as Netflix, Spotify or Apple Music. Companies that can predict customers who are about to churn ahead of time can implement a more effective customer retention strategy."
   ]
  },
  {
   "cell_type": "markdown",
   "metadata": {},
   "source": [
    "<a id='DU'></a>\n",
    "## 2. Data Understanding"
   ]
  },
  {
   "cell_type": "markdown",
   "metadata": {},
   "source": [
    "First step is to understand the length of the dataset and the available columns of the data subset (128MB):"
   ]
  },
  {
   "cell_type": "code",
   "execution_count": 5,
   "metadata": {},
   "outputs": [
    {
     "name": "stdout",
     "output_type": "stream",
     "text": [
      "root\n",
      " |-- artist: string (nullable = true)\n",
      " |-- auth: string (nullable = true)\n",
      " |-- firstName: string (nullable = true)\n",
      " |-- gender: string (nullable = true)\n",
      " |-- itemInSession: long (nullable = true)\n",
      " |-- lastName: string (nullable = true)\n",
      " |-- length: double (nullable = true)\n",
      " |-- level: string (nullable = true)\n",
      " |-- location: string (nullable = true)\n",
      " |-- method: string (nullable = true)\n",
      " |-- page: string (nullable = true)\n",
      " |-- registration: long (nullable = true)\n",
      " |-- sessionId: long (nullable = true)\n",
      " |-- song: string (nullable = true)\n",
      " |-- status: long (nullable = true)\n",
      " |-- ts: long (nullable = true)\n",
      " |-- userAgent: string (nullable = true)\n",
      " |-- userId: string (nullable = true)\n",
      "\n"
     ]
    }
   ],
   "source": [
    "# check column names and datatypes of object\n",
    "user_log.printSchema()"
   ]
  },
  {
   "cell_type": "code",
   "execution_count": 6,
   "metadata": {},
   "outputs": [
    {
     "data": {
      "text/plain": [
       "[Row(artist='Martha Tilston', auth='Logged In', firstName='Colin', gender='M', itemInSession=50, lastName='Freeman', length=277.89016, level='paid', location='Bakersfield, CA', method='PUT', page='NextSong', registration=1538173362000, sessionId=29, song='Rockpools', status=200, ts=1538352117000, userAgent='Mozilla/5.0 (Windows NT 6.1; WOW64; rv:31.0) Gecko/20100101 Firefox/31.0', userId='30')]"
      ]
     },
     "execution_count": 6,
     "metadata": {},
     "output_type": "execute_result"
    }
   ],
   "source": [
    "# look at first row\n",
    "user_log.head(n=1)"
   ]
  },
  {
   "cell_type": "code",
   "execution_count": 7,
   "metadata": {},
   "outputs": [
    {
     "name": "stdout",
     "output_type": "stream",
     "text": [
      "The dataset contains 286500 rows\n"
     ]
    }
   ],
   "source": [
    "# check length of dataset\n",
    "print('The dataset contains {} rows'.format(user_log.count()))"
   ]
  },
  {
   "cell_type": "markdown",
   "metadata": {},
   "source": [
    "#### Column 'artist'"
   ]
  },
  {
   "cell_type": "code",
   "execution_count": 8,
   "metadata": {},
   "outputs": [
    {
     "name": "stdout",
     "output_type": "stream",
     "text": [
      "There are 17656 unique artists in the dataset.\n"
     ]
    }
   ],
   "source": [
    "# count unique artists in dataset\n",
    "unique_artists = user_log.select('artist').dropDuplicates().count()\n",
    "\n",
    "print('There are {} unique artists in the dataset.'.format(unique_artists))"
   ]
  },
  {
   "cell_type": "code",
   "execution_count": 9,
   "metadata": {},
   "outputs": [
    {
     "name": "stdout",
     "output_type": "stream",
     "text": [
      "+--------------------+-----+\n",
      "|              artist|count|\n",
      "+--------------------+-----+\n",
      "|                null|58392|\n",
      "|       Kings Of Leon| 1841|\n",
      "|            Coldplay| 1813|\n",
      "|Florence + The Ma...| 1236|\n",
      "|       Dwight Yoakam| 1135|\n",
      "|            BjÃÂ¶rk| 1133|\n",
      "|      The Black Keys| 1125|\n",
      "|                Muse| 1090|\n",
      "+--------------------+-----+\n",
      "only showing top 8 rows\n",
      "\n"
     ]
    }
   ],
   "source": [
    "# list artists by occurance\n",
    "user_log.select(['artist', 'song']).groupby('artist').count().orderBy('count', ascending=False).show(n=8)"
   ]
  },
  {
   "cell_type": "markdown",
   "metadata": {},
   "source": [
    "The most common value for the artist column in the dataset is 'null'. If the rows containing 'null' as value are valid has to be investigated further."
   ]
  },
  {
   "cell_type": "markdown",
   "metadata": {},
   "source": [
    "#### Column 'auth'"
   ]
  },
  {
   "cell_type": "code",
   "execution_count": 10,
   "metadata": {},
   "outputs": [
    {
     "name": "stdout",
     "output_type": "stream",
     "text": [
      "+----------+------+\n",
      "|      auth| count|\n",
      "+----------+------+\n",
      "| Logged In|278102|\n",
      "|Logged Out|  8249|\n",
      "|     Guest|    97|\n",
      "| Cancelled|    52|\n",
      "+----------+------+\n",
      "\n"
     ]
    }
   ],
   "source": [
    "# list unique values in authentication column by occurances\n",
    "user_log.select(['auth', 'userId']).groupby('auth').count().orderBy('count', ascending=False).show()"
   ]
  },
  {
   "cell_type": "code",
   "execution_count": 11,
   "metadata": {},
   "outputs": [
    {
     "name": "stdout",
     "output_type": "stream",
     "text": [
      "+------+-----+---------+------+--------+------+------+---------+\n",
      "|artist| auth|firstName|method|    page|status|userId|sessionId|\n",
      "+------+-----+---------+------+--------+------+------+---------+\n",
      "|  null|Guest|     null|   GET|   Error|   404|      |      151|\n",
      "|  null|Guest|     null|   GET|    Home|   200|      |      151|\n",
      "|  null|Guest|     null|   GET|Register|   200|      |      151|\n",
      "|  null|Guest|     null|   GET|    Help|   200|      |      151|\n",
      "|  null|Guest|     null|   GET|    Home|   200|      |      151|\n",
      "+------+-----+---------+------+--------+------+------+---------+\n",
      "only showing top 5 rows\n",
      "\n"
     ]
    }
   ],
   "source": [
    "# look into sample rows of authentication status guest\n",
    "user_log.filter('auth = \"Guest\"').select(\n",
    "    'artist', 'auth', 'firstName', 'method', 'page', 'status', 'userId', 'sessionId').show(n=5)"
   ]
  },
  {
   "cell_type": "markdown",
   "metadata": {},
   "source": [
    "It is possible to interact with Sparkify as a guest. These rows can be dropped, as it is not possible to assign the user interactions of guests to a userId."
   ]
  },
  {
   "cell_type": "code",
   "execution_count": 12,
   "metadata": {},
   "outputs": [
    {
     "name": "stdout",
     "output_type": "stream",
     "text": [
      "+------+---------+---------+------+--------------------+------+------+---------+\n",
      "|artist|     auth|firstName|method|                page|status|userId|sessionId|\n",
      "+------+---------+---------+------+--------------------+------+------+---------+\n",
      "|  null|Cancelled|   Adriel|   GET|Cancellation Conf...|   200|    18|      514|\n",
      "|  null|Cancelled|    Diego|   GET|Cancellation Conf...|   200|    32|      540|\n",
      "|  null|Cancelled|    Mason|   GET|Cancellation Conf...|   200|   125|      174|\n",
      "|  null|Cancelled|Alexander|   GET|Cancellation Conf...|   200|   105|      508|\n",
      "|  null|Cancelled|    Kayla|   GET|Cancellation Conf...|   200|    17|      797|\n",
      "+------+---------+---------+------+--------------------+------+------+---------+\n",
      "only showing top 5 rows\n",
      "\n"
     ]
    }
   ],
   "source": [
    "# look into sample rows of authentication status guest\n",
    "user_log.filter('auth = \"Cancelled\"').select(\n",
    "    'artist', 'auth', 'firstName', 'method', 'page', 'status', 'userId', 'sessionId').show(n=5)"
   ]
  },
  {
   "cell_type": "markdown",
   "metadata": {},
   "source": [
    "The rows with authentication cancelled seem to be valid. It appears as if the authentification status 'cancelled' appears, when a user lands on the 'Cancellation Confirmation' page."
   ]
  },
  {
   "cell_type": "markdown",
   "metadata": {},
   "source": [
    "#### Columns 'gender' and 'userId'"
   ]
  },
  {
   "cell_type": "code",
   "execution_count": 13,
   "metadata": {},
   "outputs": [
    {
     "name": "stdout",
     "output_type": "stream",
     "text": [
      "+------+------+\n",
      "|gender| count|\n",
      "+------+------+\n",
      "|     F|154578|\n",
      "|     M|123576|\n",
      "|  null|  8346|\n",
      "+------+------+\n",
      "\n"
     ]
    }
   ],
   "source": [
    "# show unique possible values of column 'gender' and occurances\n",
    "user_log.select(['gender', 'userId']).groupby('gender').count().orderBy('count', ascending=False).show()"
   ]
  },
  {
   "cell_type": "markdown",
   "metadata": {},
   "source": [
    "The table above shows the count of female/male/null entried in ther gender column for all rows. To see how many users are actually of which gender this table has to be filtered to unique userIds. This will help to answer if the dataset is balanced regarding gender."
   ]
  },
  {
   "cell_type": "code",
   "execution_count": 14,
   "metadata": {},
   "outputs": [
    {
     "name": "stdout",
     "output_type": "stream",
     "text": [
      "+------+-------------+\n",
      "|gender|count(userId)|\n",
      "+------+-------------+\n",
      "|  null|            1|\n",
      "|     F|          104|\n",
      "|     M|          121|\n",
      "+------+-------------+\n",
      "\n"
     ]
    }
   ],
   "source": [
    "user_log.select(['gender', 'userId']) \\\n",
    "    .groupby('gender') \\\n",
    "    .agg(F.countDistinct('userId')) \\\n",
    "    .orderBy('count(userId)').show()\n"
   ]
  },
  {
   "cell_type": "markdown",
   "metadata": {},
   "source": [
    "There are 226 unique userIds (225 valid) in the dataset. \n",
    "Of those users 121 are male and 104 are female users. \n",
    "There are 0 userId's where the gender is not known\n",
    "There is only a slight imbalance regarding gender of users. "
   ]
  },
  {
   "cell_type": "markdown",
   "metadata": {},
   "source": [
    "#### Columns 'itemInSession', 'sessionId', 'song', 'ts'  and 'length'"
   ]
  },
  {
   "cell_type": "code",
   "execution_count": 15,
   "metadata": {},
   "outputs": [
    {
     "name": "stdout",
     "output_type": "stream",
     "text": [
      "+-------------+------+---------+-------------+--------+--------------------+---------+---------+\n",
      "|itemInSession|userId|sessionId|           ts|    page|                song|firstName|   length|\n",
      "+-------------+------+---------+-------------+--------+--------------------+---------+---------+\n",
      "|            0|    18|      242|1538499917000|    Home|                null|   Adriel|     null|\n",
      "|            1|    18|      242|1538499933000|NextSong|A Beggar On A Bea...|   Adriel|275.12118|\n",
      "|            2|    18|      242|1538500208000|NextSong|...slowdance On T...|   Adriel|268.32934|\n",
      "|            3|    18|      242|1538500476000|NextSong|       St. Apollonia|   Adriel|178.72934|\n",
      "|            4|    18|      242|1538500654000|NextSong|      Drunk Stripper|   Adriel|188.76036|\n",
      "|            5|    18|      242|1538500842000|NextSong|In League With Satan|   Adriel|167.91465|\n",
      "|            6|    18|      242|1538500856000|Settings|                null|   Adriel|     null|\n",
      "|            7|    18|      242|1538501009000|NextSong|           The Quest|   Adriel|331.38893|\n",
      "+-------------+------+---------+-------------+--------+--------------------+---------+---------+\n",
      "only showing top 8 rows\n",
      "\n"
     ]
    }
   ],
   "source": [
    "# look at behaviour of values in itemInSession for one user as example\n",
    "user_log.select(['itemInSession', 'userId', 'sessionId', 'ts', 'page', 'song', 'firstName', 'length']) \\\n",
    "    .filter(user_log.userId == \"18\") \\\n",
    "    .show(n=8)"
   ]
  },
  {
   "cell_type": "markdown",
   "metadata": {},
   "source": [
    "The values in column 'itemInSession' counts the interactions which happend for one user during the same sessionId. The value in column 'length' describes the duration of time a song was played and therefore is null for all  page events other than 'NextSong'. The column 'ts' stands for timestamp."
   ]
  },
  {
   "cell_type": "markdown",
   "metadata": {},
   "source": [
    "#### Column 'level'"
   ]
  },
  {
   "cell_type": "code",
   "execution_count": 16,
   "metadata": {},
   "outputs": [
    {
     "name": "stdout",
     "output_type": "stream",
     "text": [
      "+-----+-----+\n",
      "|level|count|\n",
      "+-----+-----+\n",
      "| free|  196|\n",
      "| paid|  166|\n",
      "+-----+-----+\n",
      "\n"
     ]
    }
   ],
   "source": [
    "# show unique possible values of column 'level'\n",
    "user_log.select(['level', 'userId']) \\\n",
    "    .dropDuplicates() \\\n",
    "    .groupby('level').count() \\\n",
    "    .orderBy('count', ascending=False).show()"
   ]
  },
  {
   "cell_type": "markdown",
   "metadata": {},
   "source": [
    "There are 196 unique userIds of free tier and 166 of paid tier users."
   ]
  },
  {
   "cell_type": "markdown",
   "metadata": {},
   "source": [
    "#### Column 'location'"
   ]
  },
  {
   "cell_type": "code",
   "execution_count": 17,
   "metadata": {},
   "outputs": [
    {
     "name": "stdout",
     "output_type": "stream",
     "text": [
      "+------+---------------------------------+\n",
      "|userId|location                         |\n",
      "+------+---------------------------------+\n",
      "|      |null                             |\n",
      "|100011|Albany, OR                       |\n",
      "|73    |Albany-Schenectady-Troy, NY      |\n",
      "|56    |Alexandria, LA                   |\n",
      "|93    |Allentown-Bethlehem-Easton, PA-NJ|\n",
      "|83    |Anchorage, AK                    |\n",
      "|45    |Atlanta-Sandy Springs-Roswell, GA|\n",
      "|52    |Atlanta-Sandy Springs-Roswell, GA|\n",
      "+------+---------------------------------+\n",
      "only showing top 8 rows\n",
      "\n"
     ]
    }
   ],
   "source": [
    "# show unique possible values of column 'location'\n",
    "user_log.select('userId', 'location') \\\n",
    "    .dropDuplicates() \\\n",
    "    .sort('location').show(n=8, truncate=False)"
   ]
  },
  {
   "cell_type": "code",
   "execution_count": 18,
   "metadata": {},
   "outputs": [
    {
     "name": "stdout",
     "output_type": "stream",
     "text": [
      "+------+---------------+\n",
      "|userId|count(location)|\n",
      "+------+---------------+\n",
      "|   125|              1|\n",
      "|   155|              1|\n",
      "|100014|              1|\n",
      "+------+---------------+\n",
      "only showing top 3 rows\n",
      "\n"
     ]
    }
   ],
   "source": [
    "# check the highest count of unique locations per userId\n",
    "user_log.select(['userId', 'location']) \\\n",
    "    .groupby('userId').agg(F.countDistinct('location')) \\\n",
    "    .orderBy('count(location)', ascending=False).show(n=3)"
   ]
  },
  {
   "cell_type": "markdown",
   "metadata": {},
   "source": [
    "In the dataset users always access the streaming service from the same location."
   ]
  },
  {
   "cell_type": "markdown",
   "metadata": {},
   "source": [
    "#### Column 'method'"
   ]
  },
  {
   "cell_type": "code",
   "execution_count": 19,
   "metadata": {},
   "outputs": [
    {
     "name": "stdout",
     "output_type": "stream",
     "text": [
      "+------+------+\n",
      "|method| count|\n",
      "+------+------+\n",
      "|   PUT|261064|\n",
      "|   GET| 25436|\n",
      "+------+------+\n",
      "\n"
     ]
    }
   ],
   "source": [
    "# show unique possible values of column 'method'\n",
    "user_log.select(['method', 'userId']) \\\n",
    "    .groupby('method').count() \\\n",
    "    .orderBy('count', ascending=False).show()"
   ]
  },
  {
   "cell_type": "markdown",
   "metadata": {},
   "source": [
    "#### Column 'page'"
   ]
  },
  {
   "cell_type": "code",
   "execution_count": 20,
   "metadata": {},
   "outputs": [
    {
     "name": "stdout",
     "output_type": "stream",
     "text": [
      "+--------------------+----------------+\n",
      "|                page|page_event_count|\n",
      "+--------------------+----------------+\n",
      "|            NextSong|          228108|\n",
      "|                Home|           14457|\n",
      "|           Thumbs Up|           12551|\n",
      "|     Add to Playlist|            6526|\n",
      "|          Add Friend|            4277|\n",
      "|         Roll Advert|            3933|\n",
      "|               Login|            3241|\n",
      "|              Logout|            3226|\n",
      "|         Thumbs Down|            2546|\n",
      "|           Downgrade|            2055|\n",
      "|                Help|            1726|\n",
      "|            Settings|            1514|\n",
      "|               About|             924|\n",
      "|             Upgrade|             499|\n",
      "|       Save Settings|             310|\n",
      "|               Error|             258|\n",
      "|      Submit Upgrade|             159|\n",
      "|    Submit Downgrade|              63|\n",
      "|Cancellation Conf...|              52|\n",
      "|              Cancel|              52|\n",
      "|            Register|              18|\n",
      "| Submit Registration|               5|\n",
      "+--------------------+----------------+\n",
      "\n"
     ]
    }
   ],
   "source": [
    "# show unique possible values of column 'page'\n",
    "page_events = user_log.select(['page', 'userId']) \\\n",
    "    .groupby('page').count() \\\n",
    "    .withColumnRenamed('count', 'page_event_count') \\\n",
    "    .orderBy('count', ascending=False)\n",
    "\n",
    "page_events.show(n=30)"
   ]
  },
  {
   "cell_type": "code",
   "execution_count": 21,
   "metadata": {},
   "outputs": [
    {
     "data": {
      "image/png": "[encoded data removed]",
      "text/plain": [
       "<Figure size 432x288 with 1 Axes>"
      ]
     },
     "metadata": {
      "needs_background": "light"
     },
     "output_type": "display_data"
    }
   ],
   "source": [
    "# convert pyspark df to pandas df\n",
    "page_events_pd = page_events.toPandas()\n",
    "\n",
    "# plot graph for distribution\n",
    "barplot = sns.barplot(x = 'page_event_count', y = 'page', data=page_events_pd, palette = 'dark')\n",
    "plt.title('State Distribution of Users', size=20)\n",
    "plt.show()"
   ]
  },
  {
   "cell_type": "markdown",
   "metadata": {},
   "source": [
    "The most occured page event is 'NextSong', which is the main function of the streaming service. It seems like the 'NextSong' page get loaded automatically once a song ends. The Home page is the page the user enters when starting a streaming session and the second most common called page event. "
   ]
  },
  {
   "cell_type": "markdown",
   "metadata": {},
   "source": [
    "#### Column 'registration'"
   ]
  },
  {
   "cell_type": "code",
   "execution_count": 22,
   "metadata": {},
   "outputs": [
    {
     "name": "stdout",
     "output_type": "stream",
     "text": [
      "+------+-------------------+\n",
      "|userId|count(registration)|\n",
      "+------+-------------------+\n",
      "|100014|                  1|\n",
      "|   132|                  1|\n",
      "|   154|                  1|\n",
      "+------+-------------------+\n",
      "only showing top 3 rows\n",
      "\n"
     ]
    }
   ],
   "source": [
    "# look at behaviour of values in the column registration for one user as example\n",
    "user_log.select(['userId', 'registration']) \\\n",
    "    .groupby('userId') \\\n",
    "    .agg(F.countDistinct('registration')) \\\n",
    "    .orderBy('count(registration)', ascending=False) \\\n",
    "    .show(n=3)"
   ]
  },
  {
   "cell_type": "markdown",
   "metadata": {},
   "source": [
    "When ordering the amount of registrations per user descending from highest amount per user, it is visible that ther is no userId with more than one registration. Therefore the conclusion is that every userId has exactly one registration."
   ]
  },
  {
   "cell_type": "markdown",
   "metadata": {},
   "source": [
    "#### Column 'userAgent'"
   ]
  },
  {
   "cell_type": "code",
   "execution_count": 23,
   "metadata": {},
   "outputs": [
    {
     "name": "stdout",
     "output_type": "stream",
     "text": [
      "+--------------------------------------------------------------------------------------------------------------------------+\n",
      "|userAgent                                                                                                                 |\n",
      "+--------------------------------------------------------------------------------------------------------------------------+\n",
      "|\"Mozilla/5.0 (Macintosh; Intel Mac OS X 10_8_5) AppleWebKit/537.36 (KHTML, like Gecko) Chrome/36.0.1985.143 Safari/537.36\"|\n",
      "|\"Mozilla/5.0 (Windows NT 5.1) AppleWebKit/537.36 (KHTML, like Gecko) Chrome/36.0.1985.143 Safari/537.36\"                  |\n",
      "|Mozilla/5.0 (X11; Ubuntu; Linux i686; rv:31.0) Gecko/20100101 Firefox/31.0                                                |\n",
      "|\"Mozilla/5.0 (Macintosh; Intel Mac OS X 10_9_4) AppleWebKit/537.36 (KHTML, like Gecko) Chrome/36.0.1985.125 Safari/537.36\"|\n",
      "|\"Mozilla/5.0 (Macintosh; Intel Mac OS X 10_9_4) AppleWebKit/537.36 (KHTML, like Gecko) Chrome/35.0.1916.153 Safari/537.36\"|\n",
      "+--------------------------------------------------------------------------------------------------------------------------+\n",
      "only showing top 5 rows\n",
      "\n"
     ]
    }
   ],
   "source": [
    "# show unique possible values of column 'userAgent'\n",
    "user_log.select('userAgent').dropDuplicates().show(n=5, truncate=False)"
   ]
  },
  {
   "cell_type": "markdown",
   "metadata": {},
   "source": [
    "The column user agent describes the software used to access the streaming service. Examples are Mac OS X with Safari, Windows or Ubuntu."
   ]
  },
  {
   "cell_type": "markdown",
   "metadata": {},
   "source": [
    "#### column ts"
   ]
  },
  {
   "cell_type": "code",
   "execution_count": 24,
   "metadata": {},
   "outputs": [
    {
     "name": "stdout",
     "output_type": "stream",
     "text": [
      "+-------------+-------------------+\n",
      "|      min(ts)|         first_date|\n",
      "+-------------+-------------------+\n",
      "|1538352117000|2018-10-01 02:01:57|\n",
      "+-------------+-------------------+\n",
      "\n",
      "+-------------+-------------------+\n",
      "|      max(ts)|          last_date|\n",
      "+-------------+-------------------+\n",
      "|1543799476000|2018-12-03 02:11:16|\n",
      "+-------------+-------------------+\n",
      "\n"
     ]
    }
   ],
   "source": [
    "udf_convert_ts = F.udf(lambda timestamp: datetime.datetime.fromtimestamp(\n",
    "    timestamp / 1000.0).strftime(\"%Y-%m-%d %H:%M:%S\"))\n",
    "\n",
    "min_ts = user_log.agg({'ts':'min'}) \n",
    "max_ts = user_log.agg({'ts':'max'})\n",
    "\n",
    "min_ts.withColumn('first_date', udf_convert_ts('min(ts)')).show()\n",
    "max_ts.withColumn('last_date', udf_convert_ts('max(ts)')).show()\n"
   ]
  },
  {
   "cell_type": "markdown",
   "metadata": {},
   "source": [
    "The observed time frame is from 2018-10-01 to 2018-12-03."
   ]
  },
  {
   "cell_type": "markdown",
   "metadata": {},
   "source": [
    "<a id='prepare'></a>\n",
    "## 3. Prepare Data\n",
    "\n",
    "After getting a Data Understanding, the next step of the CRISP-DM is to prepare the dataset. \n",
    "The first step of data preparation in this project is cleaning the data from invalid or missing data - for example, records without userids or sessionids. \n",
    "After that an exploratory data analysis will be conducted to find possible features for the customer churn prediction.\n"
   ]
  },
  {
   "cell_type": "markdown",
   "metadata": {},
   "source": [
    "### 3.1 Clean Dataset\n"
   ]
  },
  {
   "cell_type": "code",
   "execution_count": 25,
   "metadata": {},
   "outputs": [],
   "source": [
    "# change format of timestamp to human readable\n",
    "\n",
    "udf_convert_ts_to_datetime = F.udf(lambda timestamp: datetime.datetime.fromtimestamp(\n",
    "    timestamp / 1000.0).strftime('%Y-%m-%d %H:%M:%S'))\n",
    "\n",
    "udf_convert_ts_to_date = F.udf(lambda timestamp: datetime.datetime.fromtimestamp(\n",
    "    timestamp / 1000.0).strftime('%Y-%m-%d'))\n",
    "\n",
    "user_log = user_log.withColumn('datetime', udf_convert_ts_to_datetime(user_log.ts)) \\\n",
    "    .withColumn(\"date\", udf_convert_ts_to_date(user_log.ts))\n"
   ]
  },
  {
   "cell_type": "markdown",
   "metadata": {},
   "source": [
    "Drop any row/record where there is no userId or sessionId."
   ]
  },
  {
   "cell_type": "code",
   "execution_count": 26,
   "metadata": {},
   "outputs": [
    {
     "name": "stdout",
     "output_type": "stream",
     "text": [
      "The dataset contains 286500 rows before cleaning\n",
      "The dataset contains 286500 rows after dropping any NA value in userId and sessionId\n"
     ]
    }
   ],
   "source": [
    "print('The dataset contains {} rows before cleaning'.format(user_log.count()))\n",
    "\n",
    "# drop any record with NANs in user ID OR session ID and save to new object\n",
    "user_log_valid = user_log.dropna(how = 'any', subset = ['userId', 'sessionId'])\n",
    "\n",
    "print('The dataset contains {} rows after dropping any NA value in userId and sessionId'.format(\n",
    "    user_log_valid.count()))"
   ]
  },
  {
   "cell_type": "markdown",
   "metadata": {},
   "source": [
    "It turns out there are no missing values in the userId or sessionId columns."
   ]
  },
  {
   "cell_type": "code",
   "execution_count": 27,
   "metadata": {},
   "outputs": [
    {
     "name": "stdout",
     "output_type": "stream",
     "text": [
      "+------+\n",
      "|userId|\n",
      "+------+\n",
      "|      |\n",
      "|    10|\n",
      "|   100|\n",
      "|100001|\n",
      "|100002|\n",
      "+------+\n",
      "only showing top 5 rows\n",
      "\n"
     ]
    }
   ],
   "source": [
    "# show unique user IDs\n",
    "user_log.select('userId').dropDuplicates().sort('userId').show(n=5)"
   ]
  },
  {
   "cell_type": "markdown",
   "metadata": {},
   "source": [
    "There are userId values that are empty strings. These empty userIds appear for example when a user enters the streaming service without logging in."
   ]
  },
  {
   "cell_type": "code",
   "execution_count": 28,
   "metadata": {},
   "outputs": [
    {
     "name": "stdout",
     "output_type": "stream",
     "text": [
      "The dataset contains 278154 rows after filtering out empty userIds\n"
     ]
    }
   ],
   "source": [
    "# drop empty userIds\n",
    "user_log_valid = user_log_valid.filter(user_log_valid['userId'] != '')\n",
    "\n",
    "print('The dataset contains {} rows after filtering out empty userIds'.format(\n",
    "    user_log_valid.count()))"
   ]
  },
  {
   "cell_type": "code",
   "execution_count": 29,
   "metadata": {},
   "outputs": [
    {
     "name": "stdout",
     "output_type": "stream",
     "text": [
      "+---------+------+\n",
      "|     auth| count|\n",
      "+---------+------+\n",
      "|Logged In|278102|\n",
      "|Cancelled|    52|\n",
      "+---------+------+\n",
      "\n"
     ]
    }
   ],
   "source": [
    "# check if guest entries are dropped all\n",
    "user_log_valid.select(['auth', 'userId']).groupby('auth').count().orderBy('count', ascending=False).show()"
   ]
  },
  {
   "cell_type": "code",
   "execution_count": 30,
   "metadata": {},
   "outputs": [
    {
     "name": "stdout",
     "output_type": "stream",
     "text": [
      "8346 Rows without userId were dropped. This were the users with authentification status \"Logged Out\" (8249) and \"Guest\" (97). Resulting into 278154 rows in the cleaned dataset.\n"
     ]
    }
   ],
   "source": [
    "# calculate amount of users dropped\n",
    "amount_users_dropped = user_log.count() - user_log_valid.count()\n",
    "amount_logged_out = user_log.select('auth').filter('auth = \"Logged Out\"').count()\n",
    "amount_guest = user_log.select('auth').filter('auth = \"Guest\"').count()\n",
    "amount_rows = user_log_valid.count()\n",
    "\n",
    "print('{} Rows without userId were dropped. This were the users with authentification status \"Logged Out\" ({}) \\\n",
    "and \"Guest\" ({}). Resulting into {} rows in the cleaned dataset.'.format(\n",
    "    amount_users_dropped, amount_logged_out, amount_guest, amount_rows))"
   ]
  },
  {
   "cell_type": "markdown",
   "metadata": {},
   "source": [
    "### 3.2 Exploratory Data Analysis\n",
    "\n",
    "Goal of the following exploratory data analysis is to observe differences in the behavior of customers who stayed vs customers who churned. \n",
    "One way is to explore aggregates on these two groups of users, observing how much of a specific action they experienced per a certain time unit or number of songs played."
   ]
  },
  {
   "cell_type": "markdown",
   "metadata": {},
   "source": [
    "#### Define Churn\n",
    "\n",
    "First a column 'churned' will be created to use as label to differentiate between customers who churned and those who stayed with the service. \n",
    "This column will be used later by the supervised machine learning model as label to train.\n",
    "The 'Cancellation Confirmation' events serve to define the exact moment of churn, which happens for both paid and free users. "
   ]
  },
  {
   "cell_type": "code",
   "execution_count": 31,
   "metadata": {},
   "outputs": [
    {
     "name": "stdout",
     "output_type": "stream",
     "text": [
      "+---------+---------+------+-------------+-----+--------------------+------+\n",
      "|     auth|firstName|gender|itemInSession|level|            location|userId|\n",
      "+---------+---------+------+-------------+-----+--------------------+------+\n",
      "|Cancelled|   Adriel|     M|          104| paid|  Kansas City, MO-KS|    18|\n",
      "|Cancelled|    Diego|     M|           56| paid|Phoenix-Mesa-Scot...|    32|\n",
      "|Cancelled|    Mason|     M|           10| free|  Corpus Christi, TX|   125|\n",
      "|Cancelled|Alexander|     M|          332| paid|Indianapolis-Carm...|   105|\n",
      "|Cancelled|    Kayla|     F|          273| paid|Philadelphia-Camd...|    17|\n",
      "+---------+---------+------+-------------+-----+--------------------+------+\n",
      "only showing top 5 rows\n",
      "\n"
     ]
    }
   ],
   "source": [
    "# show records where Cancellation was confirmed (churn)\n",
    "user_log_valid.filter(\"page = 'Cancellation Confirmation'\") \\\n",
    "    .select('auth', 'firstName', 'gender', 'itemInSession', 'level', 'location', 'userId') \\\n",
    "    .show(n=5)"
   ]
  },
  {
   "cell_type": "code",
   "execution_count": 32,
   "metadata": {},
   "outputs": [
    {
     "name": "stdout",
     "output_type": "stream",
     "text": [
      "+------+\n",
      "|userID|\n",
      "+------+\n",
      "|    18|\n",
      "|    32|\n",
      "+------+\n",
      "only showing top 2 rows\n",
      "\n"
     ]
    }
   ],
   "source": [
    "# Find users who had event 'Cancellation Confirmation'\n",
    "user_log_valid.select('userID').where(user_log.page == 'Cancellation Confirmation').show(n=2)"
   ]
  },
  {
   "cell_type": "code",
   "execution_count": 33,
   "metadata": {
    "scrolled": true
   },
   "outputs": [
    {
     "data": {
      "text/plain": [
       "[Row(userId='18', level='paid', sessionId=514, page='Logout'),\n",
       " Row(userId='18', level='paid', sessionId=514, page='Home'),\n",
       " Row(userId='18', level='paid', sessionId=514, page='Home'),\n",
       " Row(userId='18', level='paid', sessionId=514, page='Add Friend'),\n",
       " Row(userId='18', level='paid', sessionId=514, page='Thumbs Up'),\n",
       " Row(userId='18', level='paid', sessionId=514, page='Downgrade'),\n",
       " Row(userId='18', level='paid', sessionId=514, page='Cancel'),\n",
       " Row(userId='18', level='paid', sessionId=514, page='Cancellation Confirmation')]"
      ]
     },
     "execution_count": 33,
     "metadata": {},
     "output_type": "execute_result"
    }
   ],
   "source": [
    "# inspect example funnel with event 'Cancellation Confirmation' (without most common event NextSong event)\n",
    "user_log_valid.select(['userId', 'level', 'sessionId', 'page']) \\\n",
    "    .where((user_log_valid.userId == '18') & (user_log_valid.page != 'NextSong')) \\\n",
    "    .tail(num=8)\n"
   ]
  },
  {
   "cell_type": "code",
   "execution_count": 34,
   "metadata": {},
   "outputs": [],
   "source": [
    "# user defined function to flag the events page='Cancellation Confirmation' with extra column\n",
    "flag_cancellation_event = F.udf(\n",
    "    lambda cancellation_event: 1 if cancellation_event=='Cancellation Confirmation' else 0, IntegerType())\n",
    "\n",
    "# create extra column 'Cancellation Confirmation'\n",
    "user_log_valid = user_log_valid.withColumn('cancellation_event', flag_cancellation_event('page'))"
   ]
  },
  {
   "cell_type": "code",
   "execution_count": 35,
   "metadata": {},
   "outputs": [
    {
     "data": {
      "text/plain": [
       "[Row(userId='18', level='paid', sessionId=514, page='Downgrade', cancellation_event=0),\n",
       " Row(userId='18', level='paid', sessionId=514, page='Cancel', cancellation_event=0),\n",
       " Row(userId='18', level='paid', sessionId=514, page='Cancellation Confirmation', cancellation_event=1)]"
      ]
     },
     "execution_count": 35,
     "metadata": {},
     "output_type": "execute_result"
    }
   ],
   "source": [
    "# check if column 'cancellation_event' is created correctly\n",
    "user_log_valid.select(['userId', 'level', 'sessionId', 'page', 'cancellation_event']) \\\n",
    "    .where((user_log_valid.userId == '18') & (user_log_valid.page != 'NextSong')) \\\n",
    "    .tail(num=3)"
   ]
  },
  {
   "cell_type": "markdown",
   "metadata": {},
   "source": [
    "The new column 'cancellation_event' was created to mark the exact event of cancellation confirmation. As the goal of this project is to predict users who eventually churn, it is important to find the features which describe best the differences between users who churn and those who not.\n",
    "There is another column necessary to compare all user intereactions made by users who eventually churned to users who did not churn. The values of the new column 'churned users' are true if the user will eventually churn and false if not:"
   ]
  },
  {
   "cell_type": "code",
   "execution_count": 36,
   "metadata": {},
   "outputs": [],
   "source": [
    "# create column with churned users = true\n",
    "churned_users = user_log_valid.select('userId') \\\n",
    "    .filter(user_log.page == 'Cancellation Confirmation') \\\n",
    "    .dropDuplicates().collect()\n",
    "\n",
    "userid_churn = []\n",
    "for i in churned_users:\n",
    "    userid_churn.append(i[0])\n",
    "    \n",
    "user_log_valid = user_log_valid \\\n",
    "    .withColumn('churned',user_log_valid['userId'].isin(userid_churn))"
   ]
  },
  {
   "cell_type": "code",
   "execution_count": 37,
   "metadata": {},
   "outputs": [
    {
     "data": {
      "text/plain": [
       "[Row(userId='18', level='paid', page='Downgrade', cancellation_event=0, churned=True),\n",
       " Row(userId='18', level='paid', page='Cancel', cancellation_event=0, churned=True),\n",
       " Row(userId='18', level='paid', page='Cancellation Confirmation', cancellation_event=1, churned=True)]"
      ]
     },
     "execution_count": 37,
     "metadata": {},
     "output_type": "execute_result"
    }
   ],
   "source": [
    "# check if column 'cancellation_event' is filled correctly\n",
    "user_log_valid.select(['userId', 'level', 'page', 'cancellation_event', 'churned']) \\\n",
    "    .where((user_log_valid.userId == '18') & (user_log_valid.page != 'NextSong')) \\\n",
    "    .tail(num=3)"
   ]
  },
  {
   "cell_type": "markdown",
   "metadata": {},
   "source": [
    "With the new column 'churned' it is possible to check, if the dataset it balanced regarding the number of users who eventually churn and those who stay. The churn rate for ther observed period can be calculated."
   ]
  },
  {
   "cell_type": "code",
   "execution_count": 38,
   "metadata": {},
   "outputs": [
    {
     "name": "stdout",
     "output_type": "stream",
     "text": [
      "Of total 225 users, 173 users stayed with the streaming service during the observed time and 52 users eventually churned (churn rate: 23.11% ).\n"
     ]
    }
   ],
   "source": [
    "# check if dataset is balanced regarding churned users\n",
    "users = user_log_valid.select('userId').dropDuplicates().count()\n",
    "churned_users = user_log_valid.filter('churned = True').select('userId').dropDuplicates().count()\n",
    "stayed_users = user_log_valid.filter('churned = False').select('userId').dropDuplicates().count()\n",
    "\n",
    "print('Of total {} users, {} users stayed with the streaming service during the observed time and \\\n",
    "{} users eventually churned (churn rate: {:2.2f}% ).'.format(users, stayed_users, churned_users, \n",
    "                                                         churned_users/users*100))"
   ]
  },
  {
   "cell_type": "markdown",
   "metadata": {},
   "source": [
    "There is a imbalance in the dataset regarding the amount of users who churned versus those who stayed. Next step is to check how this imbalance in amount of users scales on the amount of interactions."
   ]
  },
  {
   "cell_type": "code",
   "execution_count": 39,
   "metadata": {},
   "outputs": [
    {
     "name": "stdout",
     "output_type": "stream",
     "text": [
      "Of total 278154 user interactions, 44864 user interactions were recorderd of useres who stayed with the streaming service during the observed timer and 233290 user interactions were recorded of users who eventually churned (16.13% of user interaction are by churned customers).\n"
     ]
    }
   ],
   "source": [
    "user_interactions = user_log_valid.count()\n",
    "churned_users_interactions = user_log_valid.filter('churned = True').count()\n",
    "stayed_users_interactions = user_log_valid.filter('churned = False').count()\n",
    "\n",
    "print('Of total {} user interactions, {} user interactions were recorderd of useres who stayed with the \\\n",
    "streaming service during the observed timer and {} user interactions were recorded of users who eventually \\\n",
    "churned ({:2.2f}% of user interaction are by churned customers).'.format(user_interactions, churned_users_interactions, stayed_users_interactions,\n",
    "                                    churned_users_interactions/user_interactions*100))"
   ]
  },
  {
   "cell_type": "markdown",
   "metadata": {},
   "source": [
    "The amount of data available regarding interactions to analyze the difference in behaviour for users who stayed versus users who churned is clearly imbalanced. \n",
    "\n",
    "Imbalance in the training data can lead to naive behaviour in the prediction of the supervised machine learning model. With 76.89% of users not churning a prediction accuracy of 76.89% can be achieved by simply always predicting 'no churn' [3](https://towardsdatascience.com/handling-imbalanced-datasets-in-machine-learning-7a0e84220f28).\n",
    "\n",
    "There are different ways to handle imbalanced data before feeding it to machine learning algorithms. \n",
    "One way would be to manipulate the input data by eiter undersampling data of loyal users, oversampling the data of churned users or generating synthetic data.\n",
    "In this project the way to handle the imbalance in data of interaction with the service by churned users will be creating additional features."
   ]
  },
  {
   "cell_type": "markdown",
   "metadata": {},
   "source": [
    "#### Calculate days since registration"
   ]
  },
  {
   "cell_type": "code",
   "execution_count": 40,
   "metadata": {},
   "outputs": [],
   "source": [
    "# calculate total number of days since registration\n",
    "user_log_valid = user_log_valid.withColumn('days_since_registration', F.ceil(\n",
    "    (user_log_valid.ts - user_log_valid.registration)/(1000*60*60*24)))"
   ]
  },
  {
   "cell_type": "markdown",
   "metadata": {},
   "source": [
    "#### Calculating Statistics by Hour\n",
    "\n",
    "In the next few cells will be calculated if there amount of songs played by users differs during the hours of a day:"
   ]
  },
  {
   "cell_type": "code",
   "execution_count": 41,
   "metadata": {},
   "outputs": [],
   "source": [
    "# create user defined function to convert the ts column into hour format\n",
    "get_hour = F.udf(lambda timestamp: datetime.datetime.fromtimestamp(timestamp / 1000.0). hour)\n",
    "\n",
    "# create new column \"hour\" by applying udf get_hour\n",
    "user_log_valid = user_log_valid.withColumn('hour', get_hour(user_log_valid.ts))\n",
    "\n",
    "# take only amount of action \"NextSong\" and group it by hour of day\n",
    "songs_in_hour = user_log_valid.filter(user_log_valid.page == 'NextSong').groupby(\n",
    "    'hour').count().orderBy(user_log_valid.hour.cast('float'))"
   ]
  },
  {
   "cell_type": "code",
   "execution_count": 42,
   "metadata": {},
   "outputs": [
    {
     "data": {
      "image/png": "[encoded data removed]",
      "text/plain": [
       "<Figure size 432x288 with 1 Axes>"
      ]
     },
     "metadata": {
      "needs_background": "light"
     },
     "output_type": "display_data"
    }
   ],
   "source": [
    "# convert spark object ot pandas dataframe\n",
    "songs_in_hour_pd = songs_in_hour.toPandas()\n",
    "songs_in_hour_pd.hour = pd.to_numeric(songs_in_hour_pd.hour)\n",
    "\n",
    "# plot the amount of songs played over hours of day\n",
    "plt.scatter(songs_in_hour_pd['hour'], songs_in_hour_pd['count'])\n",
    "plt.xlim(-1, 24);\n",
    "plt.ylim(0, 1.2 * max(songs_in_hour_pd['count']))\n",
    "plt.xlabel('Hour')\n",
    "plt.ylabel('Songs played');"
   ]
  },
  {
   "cell_type": "markdown",
   "metadata": {},
   "source": [
    "#### Total Amount of Page Events per UserId\n",
    "\n",
    "How many page events happen per userId for the observed time period in total comparing churned with loyal users."
   ]
  },
  {
   "cell_type": "code",
   "execution_count": 43,
   "metadata": {},
   "outputs": [
    {
     "name": "stdout",
     "output_type": "stream",
     "text": [
      "+------+-------+-----------------+\n",
      "|userId|churned|total_page_events|\n",
      "+------+-------+-----------------+\n",
      "|    39|  false|             9632|\n",
      "|    92|  false|             7230|\n",
      "|   140|  false|             6880|\n",
      "|300011|  false|             5732|\n",
      "|   124|  false|             4825|\n",
      "+------+-------+-----------------+\n",
      "only showing top 5 rows\n",
      "\n"
     ]
    }
   ],
   "source": [
    "# total amount of page events per userId\n",
    "page_event_per_user = user_log_valid.select('page','userId', 'churned') \\\n",
    "    .groupby('userId', 'churned').count() \\\n",
    "    .withColumnRenamed('count', 'total_page_events') \\\n",
    "\n",
    "page_event_per_user.orderBy('total_page_events', ascending=False).show(n=5)"
   ]
  },
  {
   "cell_type": "code",
   "execution_count": 44,
   "metadata": {},
   "outputs": [
    {
     "name": "stdout",
     "output_type": "stream",
     "text": [
      "+-------+----------------------+\n",
      "|churned|avg(total_page_events)|\n",
      "+-------+----------------------+\n",
      "|   true|     862.7692307692307|\n",
      "|  false|    1348.4971098265896|\n",
      "+-------+----------------------+\n",
      "\n"
     ]
    }
   ],
   "source": [
    "# mean of page events per user\n",
    "page_event_per_user.groupby('churned').mean().show()"
   ]
  },
  {
   "cell_type": "code",
   "execution_count": 45,
   "metadata": {},
   "outputs": [
    {
     "data": {
      "image/png": "[encoded data removed]",
      "text/plain": [
       "<Figure size 432x288 with 1 Axes>"
      ]
     },
     "metadata": {
      "needs_background": "light"
     },
     "output_type": "display_data"
    }
   ],
   "source": [
    "# convert spark object to pandas dataframe\n",
    "page_event_per_user_pd = page_event_per_user.toPandas()\n",
    "\n",
    "# Plot\n",
    "ax = sns.violinplot(data=page_event_per_user_pd, y='churned', x='total_page_events', orient='h')\n",
    "plt.xlabel('Page Events')\n",
    "plt.ylabel('Customer Evantually Churned')\n",
    "plt.title('Page Events per User Churned versus Loyal')\n",
    "sns.despine(ax=ax);\n"
   ]
  },
  {
   "cell_type": "markdown",
   "metadata": {},
   "source": [
    "Comparing users who churned with those who stayed, there is clearly a difference in mean page events per user. It seems plausible that, in average, users who do not churn might stay longer with the service and therfore as well have more page events. \n",
    "More interesting would be if users have more page events per time period.\n",
    "In the following cells will be investigated if there is a difference in page events per session as well. "
   ]
  },
  {
   "cell_type": "markdown",
   "metadata": {},
   "source": [
    "#### Functions to create Features "
   ]
  },
  {
   "cell_type": "code",
   "execution_count": 46,
   "metadata": {},
   "outputs": [],
   "source": [
    "def create_statistic_per_userId_streamingTime(pyspark_df, event_type):\n",
    "    '''\n",
    "    Function to calculate amount of certain events per userId.\n",
    "    \n",
    "    args:\n",
    "        pyspark_df - (pyspark dataframe) user_log of Sparkify\n",
    "        event - (string) page event\n",
    "    return:\n",
    "    '''\n",
    "    streaming_time_df = pyspark_df.filter(pyspark_df.page == 'NextSong') \\\n",
    "        .groupBy('userId', 'churned') \\\n",
    "        .agg((F.sum('length')/3600).alias('streamingTime_h'))\n",
    "        #(F.count('length').alias('streamingTime_h')))\n",
    "        #\n",
    "\n",
    "    event_statistics_df = pyspark_df.filter(pyspark_df.page == event_type) \\\n",
    "        .groupBy('userId') \\\n",
    "        .agg(F.count('userId').alias(event_type))\n",
    "\n",
    "    feature_df = streaming_time_df.join(event_statistics_df, on=['userId'], how='inner')\n",
    "\n",
    "    feature_df = feature_df.withColumn(\n",
    "        event_type+'_per_streamingTime', feature_df[event_type]/feature_df.streamingTime_h)\n",
    "\n",
    "    return feature_df"
   ]
  },
  {
   "cell_type": "code",
   "execution_count": 47,
   "metadata": {},
   "outputs": [],
   "source": [
    "def plot_events_per_userStreaming(feature_pyspark_df, event_type):\n",
    "    '''\n",
    "    Function to create boxplot of pyspark dataframe created with 'count_events_per_user' function.\n",
    "    \n",
    "    args:\n",
    "        count_pysparkdf - (pyspark dataframe) created with 'count_events_per_user'\n",
    "        event - (string) page event\n",
    "    \n",
    "    return:\n",
    "    '''\n",
    "    feature_pyspark_pd = feature_pyspark_df.toPandas()\n",
    "    \n",
    "    ax = sns.violinplot(data=feature_pyspark_pd, y='churned', x=event_type, orient='h')\n",
    "    plt.xlabel(event_type + ' per UserId')\n",
    "    plt.ylabel('Customers Churned')\n",
    "    plt.title(event_type + ' per UserId per StreamingTime churned/not churned')\n",
    "    sns.despine(ax=ax);\n",
    "    \n",
    "    return "
   ]
  },
  {
   "cell_type": "code",
   "execution_count": 48,
   "metadata": {},
   "outputs": [],
   "source": [
    "def plot_events_per_user(feature_pyspark_df, event_type):\n",
    "    '''\n",
    "    Function to create boxplot of pyspark dataframe created with 'count_events_per_user' function.\n",
    "    \n",
    "    args:\n",
    "        count_pysparkdf - (pyspark dataframe) created with 'count_events_per_user'\n",
    "        event - (string) page event\n",
    "    \n",
    "    return:\n",
    "    '''\n",
    "    feature_pyspark_pd = feature_pyspark_df.toPandas()\n",
    "    \n",
    "    ax = sns.violinplot(data=feature_pyspark_pd, y='churned', x=event_type, orient='h')\n",
    "    plt.xlabel(event_type)\n",
    "    plt.ylabel('Customers Churned')\n",
    "    plt.title(event_type + ' per UserId churned/not churned')\n",
    "    sns.despine(ax=ax);\n",
    "    \n",
    "    return "
   ]
  },
  {
   "cell_type": "code",
   "execution_count": 49,
   "metadata": {},
   "outputs": [],
   "source": [
    "def calculate_avg_events_lastXsessions(pyspark_df, amount_sessions):\n",
    "    '''\n",
    "    Function to calculate mean of all events per userId for last x sessionIds.\n",
    "    \n",
    "    args:\n",
    "        pyspark_df - (pyspark dataframe) user_log of Sparkify\n",
    "        amount_sessions - amount of last sessions from which mean is calculated\n",
    "        event_type - (string) page event\n",
    "    return:\n",
    "    '''\n",
    "    \n",
    "    user_window = Window \\\n",
    "        .partitionBy('userID') \\\n",
    "        .orderBy(F.desc('max(ts)')) \n",
    "\n",
    "    pyspark_df = pyspark_df.select('userId', 'churned', 'sessionId', 'page', 'ts') \\\n",
    "        .groupBy('userId', 'churned', 'sessionId') \\\n",
    "        .agg(F.max('ts'), F.count('page')) \\\n",
    "        .withColumn('session_number', F.row_number().over(user_window))\n",
    "    \n",
    "    pyspark_df = pyspark_df.filter(pyspark_df.session_number <= amount_sessions) \\\n",
    "        .groupBy('userId', 'churned') \\\n",
    "        .agg(F.avg('count(page)')) \\\n",
    "        .withColumnRenamed('avg(count(page))', 'average_amount_songs_lastXsessions')\n",
    "    \n",
    "    return pyspark_df\n",
    "\n",
    "def find_optimal_amount_sessions_for_max_diff(pySpark_df):\n",
    "    '''\n",
    "    Function to find amount of sessions with highest difference in mean.\n",
    "    \n",
    "    args:\n",
    "        pyspark_df - (pyspark dataframe) user_log of Sparkify\n",
    "        event_type - (string) page event\n",
    "    return:\n",
    "    '''\n",
    "    for i in range(1,10):\n",
    "        avg_amount_songs_lastXsessions = calculate_avg_events_lastXsessions(pySpark_df, i)\n",
    "\n",
    "        diff_pd = avg_amount_songs_lastXsessions.groupBy('churned').mean() \\\n",
    "            .select('avg(average_amount_songs_lastXsessions)').toPandas()\n",
    "\n",
    "        print('Difference in average events for last {} sessions is {}'.format(\n",
    "            i, diff_pd.values[1][0] - diff_pd.values[0][0]))\n",
    "          "
   ]
  },
  {
   "cell_type": "code",
   "execution_count": 50,
   "metadata": {},
   "outputs": [],
   "source": [
    "def calculate_avg_page_event_lastXsessions(pyspark_df, amount_sessions, event_type):\n",
    "    '''\n",
    "    Function to calculate mean of certain events per userId for last x sessionIds.\n",
    "    \n",
    "    args:\n",
    "        pyspark_df - (pyspark dataframe) user_log of Sparkify\n",
    "        amount_sessions - amount of last sessions from which mean is calculated\n",
    "        event_type - (string) page event\n",
    "    return:\n",
    "    '''\n",
    "    \n",
    "    user_window = Window \\\n",
    "        .partitionBy('userID') \\\n",
    "        .orderBy(F.desc('max(ts)')) \n",
    "\n",
    "    pyspark_df = pyspark_df.select('userId', 'churned', 'sessionId', 'page', 'ts') \\\n",
    "        .filter(pyspark_df.page == event_type) \\\n",
    "        .groupBy('userId', 'churned', 'sessionId') \\\n",
    "        .agg(F.max('ts'), F.count('page')) \\\n",
    "        .withColumn('session_number', F.row_number().over(user_window))\n",
    "    \n",
    "    pyspark_df = pyspark_df.filter(pyspark_df.session_number <= amount_sessions) \\\n",
    "        .groupBy('userId', 'churned') \\\n",
    "        .agg(F.avg('count(page)')) \\\n",
    "        .withColumnRenamed('avg(count(page))', 'average_amount_songs_lastXsessions')\n",
    "    \n",
    "    return pyspark_df\n"
   ]
  },
  {
   "cell_type": "code",
   "execution_count": 51,
   "metadata": {},
   "outputs": [],
   "source": [
    "def find_amount_sessions_for_max_diff(pySpark_df, event_type):\n",
    "    '''\n",
    "    Function to find amount of sessions with highest difference in mean.\n",
    "    \n",
    "    args:\n",
    "        pyspark_df - (pyspark dataframe) user_log of Sparkify\n",
    "        event_type - (string) page event\n",
    "    return:\n",
    "    '''\n",
    "    for i in range(1,10):\n",
    "        avg_amount_songs_lastXsessions = calculate_avg_page_event_lastXsessions(pySpark_df, i, event_type)\n",
    "\n",
    "        diff_pd = avg_amount_songs_lastXsessions.groupBy('churned').mean() \\\n",
    "            .select('avg(average_amount_songs_lastXsessions)').toPandas()\n",
    "\n",
    "        print('Difference in average {} events for last {} sessions is {}'.format(\n",
    "            event_type, i, diff_pd.values[1][0] - diff_pd.values[0][0]))\n",
    "          "
   ]
  },
  {
   "cell_type": "markdown",
   "metadata": {},
   "source": [
    "#### Thumbs Up Events per UserId per StreamingTime"
   ]
  },
  {
   "cell_type": "code",
   "execution_count": 52,
   "metadata": {},
   "outputs": [
    {
     "name": "stdout",
     "output_type": "stream",
     "text": [
      "+-------+--------------------------------+\n",
      "|churned|avg(Thumbs Up_per_streamingTime)|\n",
      "+-------+--------------------------------+\n",
      "|   true|              0.8135228558338463|\n",
      "|  false|              0.8103231365869432|\n",
      "+-------+--------------------------------+\n",
      "\n"
     ]
    },
    {
     "data": {
      "image/png": "[encoded data removed]",
      "text/plain": [
       "<Figure size 432x288 with 1 Axes>"
      ]
     },
     "metadata": {
      "needs_background": "light"
     },
     "output_type": "display_data"
    }
   ],
   "source": [
    "# calculate events per user and streaming time\n",
    "thumbsUp_per_streamingTime = create_statistic_per_userId_streamingTime(user_log_valid, 'Thumbs Up')\n",
    "\n",
    "# show table with mean of churned/stayed\n",
    "thumbsUp_per_streamingTime.groupBy('churned').mean() \\\n",
    "    .select('churned', 'avg(Thumbs Up_per_streamingTime)').show()\n",
    "\n",
    "# create plot \n",
    "plot_events_per_userStreaming(thumbsUp_per_streamingTime, 'Thumbs Up')"
   ]
  },
  {
   "cell_type": "markdown",
   "metadata": {},
   "source": [
    "Users who eventually churn give in average 37.18 Thumbs Up during usage of the service, users who stay with the service 62.98. To eliminate the influence of average longer registration duration for customers who did not churn, the the graphic above shows Thumbs Up Events per UserIs per total streaming time of the user. There is only a sligth difference in mean."
   ]
  },
  {
   "cell_type": "markdown",
   "metadata": {},
   "source": [
    "#### Roll Advert Events per UserId per StreamingTime"
   ]
  },
  {
   "cell_type": "code",
   "execution_count": 53,
   "metadata": {},
   "outputs": [
    {
     "name": "stdout",
     "output_type": "stream",
     "text": [
      "+-------+----------------------------------+\n",
      "|churned|avg(Roll Advert_per_streamingTime)|\n",
      "+-------+----------------------------------+\n",
      "|   true|                0.8927689200636406|\n",
      "|  false|                0.5732987892984344|\n",
      "+-------+----------------------------------+\n",
      "\n"
     ]
    },
    {
     "data": {
      "image/png": "[encoded data removed]",
      "text/plain": [
       "<Figure size 432x288 with 1 Axes>"
      ]
     },
     "metadata": {
      "needs_background": "light"
     },
     "output_type": "display_data"
    }
   ],
   "source": [
    "# calculate events per user and streaming time\n",
    "rollAdvert_per_streamingTime = create_statistic_per_userId_streamingTime(user_log_valid, 'Roll Advert')\n",
    "\n",
    "# show table with mean of churned/stayed\n",
    "rollAdvert_per_streamingTime.groupBy('churned').mean() \\\n",
    "    .select('churned', 'avg(Roll Advert_per_streamingTime)').show()\n",
    "\n",
    "# create plot \n",
    "plot_events_per_userStreaming(rollAdvert_per_streamingTime, 'Roll Advert')"
   ]
  },
  {
   "cell_type": "markdown",
   "metadata": {},
   "source": [
    "In the dataset analyzed the average amount of adverts users experience is significantly higher for those who eventually churn, than for those who stay with the service. It is possible that this is due to a higher percentage of users using the free tier among those who churn."
   ]
  },
  {
   "cell_type": "code",
   "execution_count": 54,
   "metadata": {},
   "outputs": [
    {
     "name": "stdout",
     "output_type": "stream",
     "text": [
      "+-------+-----+-------------+\n",
      "|churned|level|count(userId)|\n",
      "+-------+-----+-------------+\n",
      "|  false| free|        43333|\n",
      "|  false| paid|       189957|\n",
      "|   true| paid|        32476|\n",
      "|   true| free|        12388|\n",
      "+-------+-----+-------------+\n",
      "\n"
     ]
    }
   ],
   "source": [
    "user_log_valid.groupBy('churned','level') \\\n",
    "    .agg(F.count('userId')).show()"
   ]
  },
  {
   "cell_type": "code",
   "execution_count": 55,
   "metadata": {},
   "outputs": [
    {
     "name": "stdout",
     "output_type": "stream",
     "text": [
      "There are 27.61% free tier users among those who churned and 18.57% free tier users among those who     stayed\n"
     ]
    }
   ],
   "source": [
    "print('There are {:2.2f}% free tier users among those who churned and {:2.2f}% free tier users among those who \\\n",
    "    stayed'.format(12388/(32476+12388)*100,43333/(189957+43333)*100))"
   ]
  },
  {
   "cell_type": "markdown",
   "metadata": {},
   "source": [
    "#### Downgrade Events per UserId per StreamingTime"
   ]
  },
  {
   "cell_type": "code",
   "execution_count": 56,
   "metadata": {},
   "outputs": [
    {
     "name": "stdout",
     "output_type": "stream",
     "text": [
      "+-------+--------------------------------+\n",
      "|churned|avg(Downgrade_per_streamingTime)|\n",
      "+-------+--------------------------------+\n",
      "|   true|             0.15733753294799163|\n",
      "|  false|             0.13479715910214415|\n",
      "+-------+--------------------------------+\n",
      "\n"
     ]
    },
    {
     "data": {
      "image/png": "[encoded data removed]",
      "text/plain": [
       "<Figure size 432x288 with 1 Axes>"
      ]
     },
     "metadata": {
      "needs_background": "light"
     },
     "output_type": "display_data"
    }
   ],
   "source": [
    "# calculate events per user and streaming time\n",
    "downgrade_per_streamingTime = create_statistic_per_userId_streamingTime(user_log_valid, 'Downgrade')\n",
    "\n",
    "# show table with mean of churned/stayed\n",
    "downgrade_per_streamingTime.groupBy('churned').mean() \\\n",
    "    .select('churned', 'avg(Downgrade_per_streamingTime)').show()\n",
    "\n",
    "# create plot \n",
    "plot_events_per_userStreaming(downgrade_per_streamingTime, 'Downgrade')"
   ]
  },
  {
   "cell_type": "markdown",
   "metadata": {},
   "source": [
    "There is a small difference in mean amount of Downgrade Page visits among User who churned versus not chunred relative to the his/her total streaming time."
   ]
  },
  {
   "cell_type": "markdown",
   "metadata": {},
   "source": [
    "#### Downgrades per UserId in last x sessions"
   ]
  },
  {
   "cell_type": "code",
   "execution_count": 57,
   "metadata": {},
   "outputs": [
    {
     "name": "stdout",
     "output_type": "stream",
     "text": [
      "Difference in average Downgrade events for last 1 sessions is -0.10588235294117654\n",
      "Difference in average Downgrade events for last 2 sessions is -0.02184873949579824\n",
      "Difference in average Downgrade events for last 3 sessions is -0.1282913165266102\n",
      "Difference in average Downgrade events for last 4 sessions is -0.05210084033613427\n",
      "Difference in average Downgrade events for last 5 sessions is -0.07672268907563096\n",
      "Difference in average Downgrade events for last 6 sessions is -0.06854341736694769\n",
      "Difference in average Downgrade events for last 7 sessions is -0.0771868747499016\n",
      "Difference in average Downgrade events for last 8 sessions is -0.10632853141256549\n",
      "Difference in average Downgrade events for last 9 sessions is -0.09059557156195908\n"
     ]
    }
   ],
   "source": [
    "# find amount of sessions with highest difference in mean\n",
    "find_amount_sessions_for_max_diff(user_log_valid, 'Downgrade')"
   ]
  },
  {
   "cell_type": "code",
   "execution_count": 58,
   "metadata": {},
   "outputs": [
    {
     "name": "stdout",
     "output_type": "stream",
     "text": [
      "+-------+---------------------------------------+\n",
      "|churned|avg(average_amount_songs_lastXsessions)|\n",
      "+-------+---------------------------------------+\n",
      "|   true|                     2.2809523809523813|\n",
      "|  false|                      2.152661064425771|\n",
      "+-------+---------------------------------------+\n",
      "\n"
     ]
    },
    {
     "data": {
      "image/png": "[encoded data removed]",
      "text/plain": [
       "<Figure size 432x288 with 1 Axes>"
      ]
     },
     "metadata": {
      "needs_background": "light"
     },
     "output_type": "display_data"
    }
   ],
   "source": [
    "# average songs played for the last three sessionIds per userId\n",
    "\n",
    "avg_amount_songs_lastXsessions = calculate_avg_page_event_lastXsessions(user_log_valid, 3, 'Downgrade')\n",
    "\n",
    "avg_amount_songs_lastXsessions.groupBy('churned').mean().show()\n",
    "\n",
    "plot_events_per_user(avg_amount_songs_lastXsessions, 'average_amount_songs_lastXsessions')"
   ]
  },
  {
   "cell_type": "markdown",
   "metadata": {},
   "source": [
    "Now comparing the average amount of Downgrade events in the last observed sessionId for users who churned versus users who did stay with the service, the results seem more intuitive. Still, it is not clear if this feature helps to predict users who eventually churn."
   ]
  },
  {
   "cell_type": "markdown",
   "metadata": {},
   "source": [
    "#### Number of days from registration date to last observed event"
   ]
  },
  {
   "cell_type": "code",
   "execution_count": 59,
   "metadata": {},
   "outputs": [],
   "source": [
    "# log entry with max amount days since registration\n",
    "days_since_registration = user_log_valid.groupBy('userId', 'churned') \\\n",
    "        .agg(F.max('days_since_registration').alias('days_since_registration'))"
   ]
  },
  {
   "cell_type": "code",
   "execution_count": 60,
   "metadata": {
    "scrolled": true
   },
   "outputs": [
    {
     "name": "stdout",
     "output_type": "stream",
     "text": [
      "+-------+----------------------------+\n",
      "|churned|avg(days_since_registration)|\n",
      "+-------+----------------------------+\n",
      "|   true|           57.80769230769231|\n",
      "|  false|           87.14450867052022|\n",
      "+-------+----------------------------+\n",
      "\n"
     ]
    },
    {
     "data": {
      "image/png": "[encoded data removed]",
      "text/plain": [
       "<Figure size 432x288 with 1 Axes>"
      ]
     },
     "metadata": {
      "needs_background": "light"
     },
     "output_type": "display_data"
    }
   ],
   "source": [
    "# compare difference in mean\n",
    "days_since_registration.groupBy('churned').mean().show()\n",
    "\n",
    "# convert to pandas df to plot\n",
    "days_since_registration_pd = days_since_registration.toPandas()\n",
    "\n",
    "# plot\n",
    "ax = sns.violinplot(data=days_since_registration_pd, y='churned', x='days_since_registration', orient='h')\n",
    "plt.xlabel('Number of days from registration date to last observed event')\n",
    "plt.ylabel('Customers Churned')\n",
    "plt.title('Number of days from registration date to last observed event churned/not churned')\n",
    "sns.despine(ax=ax);"
   ]
  },
  {
   "cell_type": "markdown",
   "metadata": {},
   "source": [
    "There is a significant difference in registration duration comparing churned customers with those who stayed with the service. The mean duration from registration to last interaction with the streaming service is 57.8 days for users who eventually churn and 87.1 days for users who stay with the service. Therefore the time passed since a user registered to the streaming service is feature that can be useful to predict users who are prone to churn. There are some outliers visible where churned is false, these are the users who registered to the streaming service and stopped using it without cancelling the service.\n",
    "The observed time period is about 2 months.\n",
    "A user could be inactive for two month and use the service again.\n",
    "Therefore in this analysis those users who are just inactivte, but do not cancel from the service, will be defined as not churned."
   ]
  },
  {
   "cell_type": "markdown",
   "metadata": {},
   "source": [
    "#### Average amount songs played between visiting home"
   ]
  },
  {
   "cell_type": "code",
   "execution_count": 61,
   "metadata": {},
   "outputs": [
    {
     "name": "stdout",
     "output_type": "stream",
     "text": [
      "+-------+---------------------------+\n",
      "|churned|avg(avg_songs_between_home)|\n",
      "+-------+---------------------------+\n",
      "|   true|           20.1673161767835|\n",
      "|  false|         22.316737146091974|\n",
      "+-------+---------------------------+\n",
      "\n"
     ]
    }
   ],
   "source": [
    "# How many songs do users listen to on average between visiting our home page? Please round your answer to the closest integer.\n",
    "\n",
    "udf_homevisit = F.udf(lambda ishome : int(ishome == 'Home'), IntegerType())\n",
    "\n",
    "user_window = Window \\\n",
    "    .partitionBy('userID') \\\n",
    "    .orderBy(F.desc('ts')) \\\n",
    "    .rangeBetween(Window.unboundedPreceding, 0)\n",
    "\n",
    "songs_per_homevisit = user_log_valid.filter((user_log_valid.page == \"NextSong\") | (user_log_valid.page == 'Home')) \\\n",
    "    .select('userID', 'churned', 'page', 'ts') \\\n",
    "    .withColumn('homevisit', udf_homevisit(F.col('page'))) \\\n",
    "    .withColumn('period', F.sum('homevisit').over(user_window))\n",
    "\n",
    "songs_per_homevisit = songs_per_homevisit.filter((songs_per_homevisit.page == 'NextSong')) \\\n",
    "    .groupBy('userID', 'churned', 'period') \\\n",
    "    .agg({'period':'count'}) \\\n",
    "    .groupBy('userID', 'churned').mean() \\\n",
    "    .withColumnRenamed('avg(count(period))', 'avg_songs_between_home') \\\n",
    "    .select('userID', 'churned', 'avg_songs_between_home')\n",
    "\n",
    "\n",
    "songs_per_homevisit.groupBy('churned') \\\n",
    "    .agg({'avg_songs_between_home':'avg'}).show()"
   ]
  },
  {
   "cell_type": "code",
   "execution_count": 62,
   "metadata": {},
   "outputs": [
    {
     "name": "stdout",
     "output_type": "stream",
     "text": [
      "+------+-------+----------------------+\n",
      "|userID|churned|avg_songs_between_home|\n",
      "+------+-------+----------------------+\n",
      "|100011|   true|                  2.75|\n",
      "|   156|  false|                   3.0|\n",
      "|    34|  false|     5.888888888888889|\n",
      "|   135|  false|                   6.0|\n",
      "|    68|  false|                  7.25|\n",
      "|100003|   true|     7.285714285714286|\n",
      "|    64|  false|     7.666666666666667|\n",
      "|   125|   true|                   8.0|\n",
      "+------+-------+----------------------+\n",
      "only showing top 8 rows\n",
      "\n"
     ]
    }
   ],
   "source": [
    "# show lowest values of average songs between home visit for userIds\n",
    "songs_per_homevisit.orderBy('avg_songs_between_home', ascending=True).show(n=8)"
   ]
  },
  {
   "cell_type": "code",
   "execution_count": 63,
   "metadata": {},
   "outputs": [
    {
     "data": {
      "image/png": "[encoded data removed]",
      "text/plain": [
       "<Figure size 432x288 with 1 Axes>"
      ]
     },
     "metadata": {
      "needs_background": "light"
     },
     "output_type": "display_data"
    }
   ],
   "source": [
    "# convert spark object ot pandas dataframe\n",
    "songs_per_homevisit_pd = songs_per_homevisit.toPandas()\n",
    "\n",
    "# Plot\n",
    "ax = sns.violinplot(data=songs_per_homevisit_pd, y='churned', x='avg_songs_between_home', orient='h')\n",
    "plt.xlabel('Average amount of songs played between visiting the Home Page')\n",
    "plt.ylabel('Customer Evantually Churned')\n",
    "plt.title('Average Amount Songs played per userId between visiting Home Page')\n",
    "sns.despine(ax=ax);"
   ]
  },
  {
   "cell_type": "markdown",
   "metadata": {},
   "source": [
    "Users who evantually churned did in average play about two songs less between visiting the Home page than users who stayed with the service. Churned users played in average 20.16 songs between visiting the Home page, loyal users played in average 22.316 songs."
   ]
  },
  {
   "cell_type": "markdown",
   "metadata": {},
   "source": [
    "#### Average Amount Songs played per Session"
   ]
  },
  {
   "cell_type": "code",
   "execution_count": 64,
   "metadata": {},
   "outputs": [
    {
     "name": "stdout",
     "output_type": "stream",
     "text": [
      "+-------+----------------------------------------+\n",
      "|churned|avg(avg_amount_songs_played_per_session)|\n",
      "+-------+----------------------------------------+\n",
      "|   true|                      63.537152578095224|\n",
      "|  false|                       72.96967249911357|\n",
      "+-------+----------------------------------------+\n",
      "\n"
     ]
    },
    {
     "data": {
      "image/png": "[encoded data removed]",
      "text/plain": [
       "<Figure size 432x288 with 1 Axes>"
      ]
     },
     "metadata": {
      "needs_background": "light"
     },
     "output_type": "display_data"
    }
   ],
   "source": [
    "avg_amount_songs_played_per_session = user_log_valid.select('userId', 'sessionId', 'churned', 'page') \\\n",
    "    .filter('page = \"NextSong\"') \\\n",
    "    .groupby('userId', 'sessionId', 'churned').count() \\\n",
    "    .select('userId', 'churned', 'count') \\\n",
    "    .groupby('userId', 'churned').mean() \\\n",
    "    .withColumnRenamed('avg(count)', 'avg_amount_songs_played_per_session') \\\n",
    "\n",
    "avg_amount_songs_played_per_session.groupBy('churned').mean().show()\n",
    "\n",
    "plot_events_per_user(avg_amount_songs_played_per_session, 'avg_amount_songs_played_per_session')"
   ]
  },
  {
   "cell_type": "markdown",
   "metadata": {},
   "source": [
    "#### Page Events per SessionId per UserId"
   ]
  },
  {
   "cell_type": "code",
   "execution_count": 65,
   "metadata": {},
   "outputs": [
    {
     "name": "stdout",
     "output_type": "stream",
     "text": [
      "Difference in average events for last 1 sessions is 7.3602712316585155\n",
      "Difference in average events for last 2 sessions is 11.426189417518898\n",
      "Difference in average events for last 3 sessions is 14.482973914332291\n",
      "Difference in average events for last 4 sessions is 14.480139321179777\n",
      "Difference in average events for last 5 sessions is 9.343184007707151\n",
      "Difference in average events for last 6 sessions is 8.708242552245451\n",
      "Difference in average events for last 7 sessions is 10.16012328230535\n",
      "Difference in average events for last 8 sessions is 7.889330310825969\n",
      "Difference in average events for last 9 sessions is 9.60320468709196\n"
     ]
    }
   ],
   "source": [
    "find_optimal_amount_sessions_for_max_diff(user_log_valid)"
   ]
  },
  {
   "cell_type": "code",
   "execution_count": 66,
   "metadata": {},
   "outputs": [
    {
     "name": "stdout",
     "output_type": "stream",
     "text": [
      "+-------+---------------------------------------+\n",
      "|churned|avg(average_amount_songs_lastXsessions)|\n",
      "+-------+---------------------------------------+\n",
      "|   true|                      85.66346153846153|\n",
      "|  false|                     100.14643545279382|\n",
      "+-------+---------------------------------------+\n",
      "\n"
     ]
    },
    {
     "data": {
      "image/png": "[encoded data removed]",
      "text/plain": [
       "<Figure size 432x288 with 1 Axes>"
      ]
     },
     "metadata": {
      "needs_background": "light"
     },
     "output_type": "display_data"
    }
   ],
   "source": [
    "# average songs played for the last three sessionIds per userId\n",
    "\n",
    "avg_amount_songs_lastXsessions = calculate_avg_events_lastXsessions(user_log_valid, 3)\n",
    "\n",
    "avg_amount_songs_lastXsessions.groupBy('churned').mean().show()\n",
    "\n",
    "plot_events_per_user(avg_amount_songs_lastXsessions, 'average_amount_songs_lastXsessions')"
   ]
  },
  {
   "cell_type": "markdown",
   "metadata": {},
   "source": [
    "#### Average amount songs played in last x sessions\n"
   ]
  },
  {
   "cell_type": "code",
   "execution_count": 67,
   "metadata": {},
   "outputs": [
    {
     "name": "stdout",
     "output_type": "stream",
     "text": [
      "+------+-----+\n",
      "|userId|count|\n",
      "+------+-----+\n",
      "|   156|    6|\n",
      "|   135|    6|\n",
      "|   125|   11|\n",
      "|100011|   23|\n",
      "|300003|   35|\n",
      "+------+-----+\n",
      "only showing top 5 rows\n",
      "\n"
     ]
    }
   ],
   "source": [
    "# count sessionIds per userId\n",
    "\n",
    "user_log_valid.select('userId', 'sessionId') \\\n",
    "    .groupBy('userId').count() \\\n",
    "    .orderBy('count') \\\n",
    "    .show(n=5)"
   ]
  },
  {
   "cell_type": "markdown",
   "metadata": {},
   "source": [
    "There is no user in the dataset with less than 6 sessions.\n",
    "Next step is to define a function to reuse for calculating average occurances of certain events for a defined amount of sessions per user."
   ]
  },
  {
   "cell_type": "code",
   "execution_count": 68,
   "metadata": {},
   "outputs": [
    {
     "name": "stdout",
     "output_type": "stream",
     "text": [
      "Difference in average NextSong events for last 1 sessions is 11.122387727879058\n",
      "Difference in average NextSong events for last 2 sessions is 13.460148955091157\n",
      "Difference in average NextSong events for last 3 sessions is 14.375518749073677\n",
      "Difference in average NextSong events for last 4 sessions is 10.809294871794876\n",
      "Difference in average NextSong events for last 5 sessions is 7.688324440492096\n",
      "Difference in average NextSong events for last 6 sessions is 9.605528382985014\n",
      "Difference in average NextSong events for last 7 sessions is 10.253017213999868\n",
      "Difference in average NextSong events for last 8 sessions is 8.010486803658793\n",
      "Difference in average NextSong events for last 9 sessions is 10.066613600753755\n"
     ]
    }
   ],
   "source": [
    "# find amount of sessions with highest difference in mean\n",
    "find_amount_sessions_for_max_diff(user_log_valid, 'NextSong')"
   ]
  },
  {
   "cell_type": "markdown",
   "metadata": {},
   "source": [
    "The difference in average songs played comparing churned users with those who stayed is maximal when taking the average songs played for the last three sessionIds."
   ]
  },
  {
   "cell_type": "code",
   "execution_count": 69,
   "metadata": {},
   "outputs": [
    {
     "name": "stdout",
     "output_type": "stream",
     "text": [
      "+-------+---------------------------------------+\n",
      "|churned|avg(average_amount_songs_lastXsessions)|\n",
      "+-------+---------------------------------------+\n",
      "|   true|                      69.22756410256407|\n",
      "|  false|                      83.60308285163775|\n",
      "+-------+---------------------------------------+\n",
      "\n"
     ]
    },
    {
     "data": {
      "image/png": "[encoded data removed]",
      "text/plain": [
       "<Figure size 432x288 with 1 Axes>"
      ]
     },
     "metadata": {
      "needs_background": "light"
     },
     "output_type": "display_data"
    }
   ],
   "source": [
    "# average songs played for the last three sessionIds per userId\n",
    "\n",
    "avg_amount_songs_lastXsessions = calculate_avg_page_event_lastXsessions(user_log_valid, 3, 'NextSong')\n",
    "\n",
    "avg_amount_songs_lastXsessions.groupBy('churned').mean().show()\n",
    "\n",
    "plot_events_per_user(avg_amount_songs_lastXsessions, 'average_amount_songs_lastXsessions')"
   ]
  },
  {
   "cell_type": "code",
   "execution_count": null,
   "metadata": {},
   "outputs": [],
   "source": []
  },
  {
   "cell_type": "markdown",
   "metadata": {},
   "source": [
    "#### Page Events per time period per UserId"
   ]
  },
  {
   "cell_type": "code",
   "execution_count": null,
   "metadata": {},
   "outputs": [],
   "source": []
  },
  {
   "cell_type": "code",
   "execution_count": 70,
   "metadata": {},
   "outputs": [
    {
     "ename": "NameError",
     "evalue": "name 'df' is not defined",
     "output_type": "error",
     "traceback": [
      "\u001b[0;31m---------------------------------------------------------------------------\u001b[0m",
      "\u001b[0;31mNameError\u001b[0m                                 Traceback (most recent call last)",
      "\u001b[0;32m<ipython-input-70-8a82da56b1d7>\u001b[0m in \u001b[0;36m<module>\u001b[0;34m\u001b[0m\n\u001b[1;32m      3\u001b[0m \u001b[0;31m# find each user' total number of sessions divided by the number of active days\u001b[0m\u001b[0;34m\u001b[0m\u001b[0;34m\u001b[0m\u001b[0;34m\u001b[0m\u001b[0m\n\u001b[1;32m      4\u001b[0m \u001b[0;31m# find each user's total number of page items divided by the total number of sessions\u001b[0m\u001b[0;34m\u001b[0m\u001b[0;34m\u001b[0m\u001b[0;34m\u001b[0m\u001b[0m\n\u001b[0;32m----> 5\u001b[0;31m \u001b[0mdf3\u001b[0m \u001b[0;34m=\u001b[0m \u001b[0mdf\u001b[0m\u001b[0;34m.\u001b[0m\u001b[0mgroupBy\u001b[0m\u001b[0;34m(\u001b[0m\u001b[0;34m\"userId\"\u001b[0m\u001b[0;34m)\u001b[0m\u001b[0;31m \u001b[0m\u001b[0;31m\\\u001b[0m\u001b[0;34m\u001b[0m\u001b[0;34m\u001b[0m\u001b[0m\n\u001b[0m\u001b[1;32m      6\u001b[0m         .agg(F.max('daysSinceRegistration').alias('totalDays'), F.count('itemInsession').alias('item_ct'), \\\n\u001b[1;32m      7\u001b[0m              F.countDistinct('sessionId').alias('session_ct'), F.countDistinct('date').alias('activeDays'))\n",
      "\u001b[0;31mNameError\u001b[0m: name 'df' is not defined"
     ]
    }
   ],
   "source": [
    "# find each users' total number of days (from registration dateto latest activity date)\n",
    "# find each users' actual number of active days divided by the total number of days\n",
    "# find each user' total number of sessions divided by the number of active days\n",
    "# find each user's total number of page items divided by the total number of sessions    \n",
    "df3 = df.groupBy(\"userId\") \\\n",
    "        .agg(F.max('daysSinceRegistration').alias('totalDays'), F.count('itemInsession').alias('item_ct'), \\\n",
    "             F.countDistinct('sessionId').alias('session_ct'), F.countDistinct('date').alias('activeDays'))\n",
    "\n",
    "df3 = df3.filter(df3.totalDays >= 1)\n",
    "    \n",
    "df3 = df3.withColumn('activeDaysPct', df3.activeDays/df3.totalDays) \\\n",
    "         .withColumn('session_perActiveDay', df3.session_ct/df3.activeDays) \\\n",
    "         .withColumn('item_perSession', df3.item_ct/df3.session_ct) \\\n",
    "         .drop('item_ct', 'session_ct')\n",
    "\n",
    "df3.show(3)"
   ]
  },
  {
   "cell_type": "code",
   "execution_count": null,
   "metadata": {},
   "outputs": [],
   "source": []
  },
  {
   "cell_type": "code",
   "execution_count": null,
   "metadata": {},
   "outputs": [],
   "source": []
  },
  {
   "cell_type": "code",
   "execution_count": null,
   "metadata": {},
   "outputs": [],
   "source": [
    "\n",
    "\n",
    "# songHours per active day\n",
    "\n",
    "# rollAdvert per song\n",
    "\n",
    "# downgrade per song\n",
    "\n",
    "# thumbs up per song\n"
   ]
  },
  {
   "cell_type": "code",
   "execution_count": null,
   "metadata": {},
   "outputs": [],
   "source": []
  },
  {
   "cell_type": "markdown",
   "metadata": {},
   "source": [
    "# **Continue HERE**"
   ]
  },
  {
   "cell_type": "code",
   "execution_count": null,
   "metadata": {},
   "outputs": [],
   "source": []
  },
  {
   "cell_type": "code",
   "execution_count": null,
   "metadata": {},
   "outputs": [],
   "source": []
  },
  {
   "cell_type": "code",
   "execution_count": null,
   "metadata": {},
   "outputs": [],
   "source": []
  },
  {
   "cell_type": "code",
   "execution_count": null,
   "metadata": {},
   "outputs": [],
   "source": []
  },
  {
   "cell_type": "code",
   "execution_count": null,
   "metadata": {},
   "outputs": [],
   "source": []
  },
  {
   "cell_type": "markdown",
   "metadata": {},
   "source": [
    "#### Roll advert events among free tier users in total or per time unit or session\n",
    "\n",
    "This feature has some problematic properties. Roll adverts events can only occur to free tier users. Therefore all information retrieved from differences in occurences of roll advert events between churned and stayed users only apply to users who are free tier users. The roll advert event might be more suited to predict 'Downgrad Submit' events."
   ]
  },
  {
   "cell_type": "code",
   "execution_count": null,
   "metadata": {},
   "outputs": [],
   "source": []
  },
  {
   "cell_type": "code",
   "execution_count": null,
   "metadata": {},
   "outputs": [],
   "source": []
  },
  {
   "cell_type": "code",
   "execution_count": null,
   "metadata": {},
   "outputs": [],
   "source": []
  },
  {
   "cell_type": "code",
   "execution_count": null,
   "metadata": {},
   "outputs": [],
   "source": []
  },
  {
   "cell_type": "code",
   "execution_count": null,
   "metadata": {},
   "outputs": [],
   "source": []
  },
  {
   "cell_type": "code",
   "execution_count": null,
   "metadata": {},
   "outputs": [],
   "source": []
  },
  {
   "cell_type": "code",
   "execution_count": null,
   "metadata": {},
   "outputs": [],
   "source": [
    "sns.barplot(x='hour', y='count', hue='Churn', data=churn_gender)\n",
    "plt.xlabel('Gender', fontsize=12)\n",
    "plt.ylabel('#Churned users', fontsize=12)\n",
    "plt.title('Churn per Gender', fontsize=14)\n",
    "plt.show()"
   ]
  },
  {
   "cell_type": "code",
   "execution_count": null,
   "metadata": {},
   "outputs": [],
   "source": []
  },
  {
   "cell_type": "code",
   "execution_count": null,
   "metadata": {},
   "outputs": [],
   "source": []
  },
  {
   "cell_type": "markdown",
   "metadata": {},
   "source": [
    "## 4. Data Modeling"
   ]
  },
  {
   "cell_type": "code",
   "execution_count": null,
   "metadata": {},
   "outputs": [],
   "source": [
    "# create pyspark dataframe with userId, churned and features\n",
    "# separate features from labels \n",
    "# use StringIndexer and OneHotEncoder to convert them into numeric features\n",
    "# create vector use VectorAssembler to convert the newly created numeric features into vectors\n",
    "# scaling\n",
    "# separeate training from test data\n",
    "\n"
   ]
  },
  {
   "cell_type": "code",
   "execution_count": null,
   "metadata": {},
   "outputs": [],
   "source": []
  },
  {
   "cell_type": "code",
   "execution_count": null,
   "metadata": {},
   "outputs": [],
   "source": []
  },
  {
   "cell_type": "markdown",
   "metadata": {},
   "source": [
    "## 5. Evaluate the Results"
   ]
  },
  {
   "cell_type": "markdown",
   "metadata": {},
   "source": [
    "## 6. Deploy"
   ]
  },
  {
   "cell_type": "code",
   "execution_count": null,
   "metadata": {},
   "outputs": [],
   "source": []
  },
  {
   "cell_type": "code",
   "execution_count": null,
   "metadata": {},
   "outputs": [],
   "source": []
  },
  {
   "cell_type": "code",
   "execution_count": null,
   "metadata": {},
   "outputs": [],
   "source": []
  },
  {
   "cell_type": "code",
   "execution_count": null,
   "metadata": {},
   "outputs": [],
   "source": []
  },
  {
   "cell_type": "code",
   "execution_count": null,
   "metadata": {},
   "outputs": [],
   "source": []
  },
  {
   "cell_type": "code",
   "execution_count": null,
   "metadata": {},
   "outputs": [],
   "source": []
  },
  {
   "cell_type": "code",
   "execution_count": null,
   "metadata": {},
   "outputs": [],
   "source": [
    "# How many songs were played from the most played artist?\n",
    "\n",
    "user_log.filter(user_log.page == 'NextSong') \\\n",
    "    .select('Artist') \\\n",
    "    .groupBy('Artist') \\\n",
    "    .agg({'Artist':'count'}) \\\n",
    "    .withColumnRenamed('count(Artist)', 'Artistcount') \\\n",
    "    .sort(desc('Artistcount')) \\\n",
    "    .show(1)"
   ]
  },
  {
   "cell_type": "code",
   "execution_count": null,
   "metadata": {},
   "outputs": [],
   "source": [
    "# How many female users do we have in the data set?\n",
    "\n",
    "user_log.filter(user_log.gender == 'F').select('userId', 'gender').dropDuplicates().count()"
   ]
  },
  {
   "cell_type": "code",
   "execution_count": null,
   "metadata": {},
   "outputs": [],
   "source": [
    "# Which page did user id \"\" (empty string) NOT visit?\n",
    "\n",
    "# filter for users with blank user id\n",
    "blank_pages = user_log.filter(user_log.userId == '').select(col('page').alias('blank_pages')).dropDuplicates()\n",
    "\n",
    "# get a list of possible pages that could be visited\n",
    "all_pages = user_log.select('page').dropDuplicates()\n",
    "\n",
    "# find values in all_pages that are not in blank_pages\n",
    "# these are the pages that the blank user did not go to\n",
    "for row in set(all_pages.collect()) - set(blank_pages.collect()):\n",
    "    print(row.page)"
   ]
  },
  {
   "cell_type": "code",
   "execution_count": null,
   "metadata": {},
   "outputs": [],
   "source": []
  },
  {
   "cell_type": "code",
   "execution_count": null,
   "metadata": {},
   "outputs": [],
   "source": []
  },
  {
   "cell_type": "markdown",
   "metadata": {},
   "source": [
    "# Feature Engineering\n",
    "Once you've familiarized yourself with the data, build out the features you find promising to train your model on. To work with the full dataset, you can follow the following steps.\n",
    "- Write a script to extract the necessary features from the smaller subset of data\n",
    "- Ensure that your script is scalable, using the best practices discussed in Lesson 3\n",
    "- Try your script on the full data set, debugging your script if necessary\n",
    "\n",
    "If you are working in the classroom workspace, you can just extract features based on the small subset of data contained here. Be sure to transfer over this work to the larger dataset when you work on your Spark cluster."
   ]
  },
  {
   "cell_type": "code",
   "execution_count": null,
   "metadata": {},
   "outputs": [],
   "source": []
  },
  {
   "cell_type": "code",
   "execution_count": null,
   "metadata": {},
   "outputs": [],
   "source": []
  },
  {
   "cell_type": "code",
   "execution_count": null,
   "metadata": {},
   "outputs": [],
   "source": []
  },
  {
   "cell_type": "code",
   "execution_count": null,
   "metadata": {},
   "outputs": [],
   "source": []
  },
  {
   "cell_type": "code",
   "execution_count": null,
   "metadata": {},
   "outputs": [],
   "source": []
  },
  {
   "cell_type": "code",
   "execution_count": null,
   "metadata": {},
   "outputs": [],
   "source": []
  },
  {
   "cell_type": "code",
   "execution_count": null,
   "metadata": {},
   "outputs": [],
   "source": []
  },
  {
   "cell_type": "markdown",
   "metadata": {},
   "source": [
    "# Modeling\n",
    "Split the full dataset into train, test, and validation sets. Test out several of the machine learning methods you learned. Evaluate the accuracy of the various models, tuning parameters as necessary. Determine your winning model based on test accuracy and report results on the validation set. Since the churned users are a fairly small subset, I suggest using F1 score as the metric to optimize."
   ]
  },
  {
   "cell_type": "code",
   "execution_count": null,
   "metadata": {},
   "outputs": [],
   "source": []
  },
  {
   "cell_type": "markdown",
   "metadata": {},
   "source": [
    "# Final Steps\n",
    "Clean up your code, adding comments and renaming variables to make the code easier to read and maintain. Refer to the Spark Project Overview page and Data Scientist Capstone Project Rubric to make sure you are including all components of the capstone project and meet all expectations. Remember, this includes thorough documentation in a README file in a Github repository, as well as a web app or blog post."
   ]
  },
  {
   "cell_type": "code",
   "execution_count": null,
   "metadata": {},
   "outputs": [],
   "source": [
    "# number of days since registration\n",
    "\n",
    "# for every user find registration event\n",
    "min_ts = user_log_valid.select('userId', 'churned', 'ts') \\\n",
    "    .groupBy('userId', 'churned') \\\n",
    "    .agg({'ts':'min'})\n",
    "\n",
    "# for every user find last event\n",
    "max_ts = user_log_valid.select('userId', 'churned', 'ts') \\\n",
    "    .groupBy('userId') \\\n",
    "    .agg({'ts':'max'})\n",
    "\n",
    "# for every user calculate time from registration event to last event\n",
    "register_duration = min_ts.join(max_ts, on=['userId'], how='inner')\n",
    "\n",
    "udf_convert_ts = F.udf(lambda timestamp: datetime.datetime.fromtimestamp(\n",
    "    timestamp / 1000.0).strftime(\"%Y-%m-%d %H:%M:%S\"))\n",
    "\n",
    "register_duration = register_duration \\\n",
    "    .withColumn('registration', udf_convert_ts('min(ts)')) \\\n",
    "    .withColumn('last_page_event', udf_convert_ts('max(ts)')) \\\n",
    "    .select('userId', 'churned', 'registration', 'last_page_event') \\\n",
    "\n",
    "register_duration_a = register_duration \\\n",
    "    .withColumn('register_duration', F.datediff(F.col('last_page_event'), F.col('registration')))"
   ]
  }
 ],
 "metadata": {
  "kernelspec": {
   "display_name": "Python 3",
   "language": "python",
   "name": "python3"
  },
  "language_info": {
   "codemirror_mode": {
    "name": "ipython",
    "version": 3
   },
   "file_extension": ".py",
   "mimetype": "text/x-python",
   "name": "python",
   "nbconvert_exporter": "python",
   "pygments_lexer": "ipython3",
   "version": "3.8.0"
  }
 },
 "nbformat": 4,
 "nbformat_minor": 2
}
