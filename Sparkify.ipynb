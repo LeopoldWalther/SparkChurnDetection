{
 "cells": [
  {
   "cell_type": "markdown",
   "metadata": {},
   "source": [
    "# Sparkify Project Workspace\n",
    "\n",
    "## Introduction\n",
    "\n",
    "This is the final project of my Udacity Nanodegree as Data Scientist. Goal of the project is to predict user churn of an online music streaming service using machine learning algorithms. \n",
    "\n",
    "Basis of the project is 12 GB dataset containing all information about user interactions with the online streaming service. The data is stored in a AWS Simple Storage Service (S3) bucket in JSON format.\n",
    "Datasets of such a large scale are challenging to process on a single computer and can therefore be referred to as big data. \n",
    "\n",
    "Apache Spark is a popular tool for large scale data processing and will be used to work with the full dataset. It allows to efficiently spread data and computations across a network of distributed computers, called clusters. Each cluster has nodes (computers) that do the computations in parallel.\n",
    "\n",
    "It is best practice to explore the data using a smaller subset to reduce necessary computation. This workspace contains a tiny subset (128MB) of the full dataset available. Functions of the Spark SQL library will serve to find features in the data via descriptive statistics. After finding those features in the dataset needed to predict user churn, the next step is to create a supervised machine learning model with Spark ML first based on the small subset and later the full dataset. \n",
    "\n",
    "The full dataset will be processed in Amazon Web Services (AWS) with an Elastic Map Reduce (EMR) cluster of 3 m5.xlarge machines. \n",
    "\n",
    "The project is structured following CRISP-DM, the Cross Industry Process for Data Mining. These are the steps:\n",
    "\n",
    "- [1. Business Understanding](#BU)\n",
    "- [2. Data Understanding](#DU)\n",
    "- [3. Prepare Data](#prepare)\n",
    "- [4. Data Modeling](#modeling)\n",
    "- [5. Evaluate the Results](#evaluate)\n",
    "- [6. Deploy](#deploy)"
   ]
  },
  {
   "cell_type": "markdown",
   "metadata": {},
   "source": [
    "### Load libraries, create Spark session and import data "
   ]
  },
  {
   "cell_type": "code",
   "execution_count": 1,
   "metadata": {},
   "outputs": [],
   "source": [
    "# import libraries for Spark Session\n",
    "import pyspark\n",
    "from pyspark import SparkConf\n",
    "\n",
    "# import libraries for sql actions\n",
    "from pyspark.sql import SparkSession\n",
    "from pyspark.sql import functions as F\n",
    "from pyspark.sql.window import Window\n",
    "from pyspark.sql.types import IntegerType, StringType, IntegerType, DoubleType\n",
    "\n",
    "# other libraries\n",
    "import datetime\n",
    "import time\n",
    "import re\n",
    "import numpy as np\n",
    "import pandas as pd\n",
    "%matplotlib inline\n",
    "import matplotlib.pyplot as plt\n",
    "import seaborn as sns\n",
    "\n",
    "# Spark ML libraries\n",
    "from pyspark.ml import Pipeline\n",
    "from pyspark.ml.feature import RegexTokenizer, VectorAssembler, Normalizer, StandardScaler, StringIndexer, Normalizer, PCA, MinMaxScaler, OneHotEncoder\n",
    "from pyspark.ml.classification import LogisticRegression, RandomForestClassifier, GBTClassifier\n",
    "from pyspark.ml.evaluation import BinaryClassificationEvaluator\n",
    "from pyspark.ml.evaluation import  MulticlassClassificationEvaluator\n",
    "from pyspark.ml.tuning import CrossValidator, ParamGridBuilder"
   ]
  },
  {
   "cell_type": "code",
   "execution_count": 172,
   "metadata": {},
   "outputs": [],
   "source": [
    "# Set color palette to just one\n",
    "base_color = sns.color_palette()[0]"
   ]
  },
  {
   "cell_type": "code",
   "execution_count": 2,
   "metadata": {},
   "outputs": [],
   "source": [
    "# create a Spark session\n",
    "spark = SparkSession \\\n",
    "    .builder \\\n",
    "    .appName(\"Sparkify\") \\\n",
    "    .getOrCreate()"
   ]
  },
  {
   "cell_type": "code",
   "execution_count": 3,
   "metadata": {},
   "outputs": [
    {
     "data": {
      "text/plain": [
       "[('spark.driver.port', '64878'),\n",
       " ('spark.rdd.compress', 'True'),\n",
       " ('spark.driver.host', 'mbp-dark-leo.fritz.box'),\n",
       " ('spark.app.name', 'Sparkify'),\n",
       " ('spark.serializer.objectStreamReset', '100'),\n",
       " ('spark.master', 'local[*]'),\n",
       " ('spark.submit.pyFiles', ''),\n",
       " ('spark.executor.id', 'driver'),\n",
       " ('spark.submit.deployMode', 'client'),\n",
       " ('spark.ui.showConsoleProgress', 'true'),\n",
       " ('spark.app.id', 'local-1611488883620')]"
      ]
     },
     "execution_count": 3,
     "metadata": {},
     "output_type": "execute_result"
    }
   ],
   "source": [
    "# view information about spark configuration\n",
    "spark.sparkContext.getConf().getAll()"
   ]
  },
  {
   "cell_type": "markdown",
   "metadata": {},
   "source": [
    "In this workspace, the mini-dataset file is `mini_sparkify_event_data.json`."
   ]
  },
  {
   "cell_type": "code",
   "execution_count": 4,
   "metadata": {},
   "outputs": [],
   "source": [
    "# define path and load data\n",
    "path = 'data/mini_sparkify_event_data.json'\n",
    "user_log = spark.read.json(path)"
   ]
  },
  {
   "cell_type": "markdown",
   "metadata": {},
   "source": [
    "<a id='BU'></a>\n",
    "## 1. Business Understanding"
   ]
  },
  {
   "cell_type": "markdown",
   "metadata": {},
   "source": [
    "Sparkify is a (fictional) music streaming service with a business case similar to Spotify. The service can be used on two levels, free tier or premium tier. Both levels of service generate revenue for Sparkify. The free tier service is financed by advertisement in between the songs, the premium tier consists of a monthly or yearly subscription fee to have an advertisement free experience. \n",
    "At any moment the user can decide to downgrade from paid/premium to free, upgrade from free to paid/premium or to cancel from the service completely.\n",
    "    \n",
    "Customer churn is when a customer unsubscribes from a service, ceases to purchase a product or stops engaging with a service [[1](https://www.retentionscience.com/blog/why-measuring-your-customer-churn-rate-increases-revenue/)]. In the case of the music streaming service of this project churn will be defined as when a user lands on the 'Cancellation Confirmation' page, which can happen for both paid and free tier users.\n",
    "\n",
    "Usually it is more expensive for a business to acquire new customers than retaining existing customers. Statistics vary from industry to industry, but research indicates that it may cost up to 5 times more to acquire a new customer than to keep an existing one [[2](https://www.forbes.com/sites/jiawertz/2018/09/12/dont-spend-5-times-more-attracting-new-customers-nurture-the-existing-ones/?sh=36d7a6225a8e)].\n",
    "\n",
    "To prevent churn candidates special discounts or other costly measures are offered to customers. These measures usually lower the revenue per customer. The goal is to identify users who are about to churn ahead of time and only target them with marketing campaigns. \n",
    "\n",
    "Churn prediction is an important classification use case for streaming services such as Netflix, Spotify or Apple Music. Companies that can predict customers who are about to churn ahead of time can implement a more effective customer retention strategy."
   ]
  },
  {
   "cell_type": "markdown",
   "metadata": {},
   "source": [
    "<a id='DU'></a>\n",
    "## 2. Data Understanding"
   ]
  },
  {
   "cell_type": "markdown",
   "metadata": {},
   "source": [
    "First step is to understand the length of the dataset and the available columns of the data subset (128MB):"
   ]
  },
  {
   "cell_type": "code",
   "execution_count": 5,
   "metadata": {},
   "outputs": [
    {
     "name": "stdout",
     "output_type": "stream",
     "text": [
      "root\n",
      " |-- artist: string (nullable = true)\n",
      " |-- auth: string (nullable = true)\n",
      " |-- firstName: string (nullable = true)\n",
      " |-- gender: string (nullable = true)\n",
      " |-- itemInSession: long (nullable = true)\n",
      " |-- lastName: string (nullable = true)\n",
      " |-- length: double (nullable = true)\n",
      " |-- level: string (nullable = true)\n",
      " |-- location: string (nullable = true)\n",
      " |-- method: string (nullable = true)\n",
      " |-- page: string (nullable = true)\n",
      " |-- registration: long (nullable = true)\n",
      " |-- sessionId: long (nullable = true)\n",
      " |-- song: string (nullable = true)\n",
      " |-- status: long (nullable = true)\n",
      " |-- ts: long (nullable = true)\n",
      " |-- userAgent: string (nullable = true)\n",
      " |-- userId: string (nullable = true)\n",
      "\n"
     ]
    }
   ],
   "source": [
    "# check column names and datatypes of object\n",
    "user_log.printSchema()"
   ]
  },
  {
   "cell_type": "code",
   "execution_count": 6,
   "metadata": {},
   "outputs": [
    {
     "data": {
      "text/plain": [
       "[Row(artist='Martha Tilston', auth='Logged In', firstName='Colin', gender='M', itemInSession=50, lastName='Freeman', length=277.89016, level='paid', location='Bakersfield, CA', method='PUT', page='NextSong', registration=1538173362000, sessionId=29, song='Rockpools', status=200, ts=1538352117000, userAgent='Mozilla/5.0 (Windows NT 6.1; WOW64; rv:31.0) Gecko/20100101 Firefox/31.0', userId='30')]"
      ]
     },
     "execution_count": 6,
     "metadata": {},
     "output_type": "execute_result"
    }
   ],
   "source": [
    "# look at first row\n",
    "user_log.head(n=1)"
   ]
  },
  {
   "cell_type": "code",
   "execution_count": 7,
   "metadata": {},
   "outputs": [
    {
     "name": "stdout",
     "output_type": "stream",
     "text": [
      "The dataset contains 286500 rows\n"
     ]
    }
   ],
   "source": [
    "# check length of dataset\n",
    "print('The dataset contains {} rows'.format(user_log.count()))"
   ]
  },
  {
   "cell_type": "markdown",
   "metadata": {},
   "source": [
    "#### Column 'artist'"
   ]
  },
  {
   "cell_type": "code",
   "execution_count": 8,
   "metadata": {},
   "outputs": [
    {
     "name": "stdout",
     "output_type": "stream",
     "text": [
      "There are 17656 unique artists in the dataset.\n"
     ]
    }
   ],
   "source": [
    "# count unique artists in dataset\n",
    "unique_artists = user_log.select('artist').dropDuplicates().count()\n",
    "\n",
    "print('There are {} unique artists in the dataset.'.format(unique_artists))"
   ]
  },
  {
   "cell_type": "code",
   "execution_count": 9,
   "metadata": {},
   "outputs": [
    {
     "name": "stdout",
     "output_type": "stream",
     "text": [
      "+--------------------+-----+\n",
      "|              artist|count|\n",
      "+--------------------+-----+\n",
      "|                null|58392|\n",
      "|       Kings Of Leon| 1841|\n",
      "|            Coldplay| 1813|\n",
      "|Florence + The Ma...| 1236|\n",
      "|       Dwight Yoakam| 1135|\n",
      "|            BjÃÂ¶rk| 1133|\n",
      "|      The Black Keys| 1125|\n",
      "|                Muse| 1090|\n",
      "+--------------------+-----+\n",
      "only showing top 8 rows\n",
      "\n"
     ]
    }
   ],
   "source": [
    "# list artists by occurance\n",
    "user_log.select(['artist', 'song']).groupby('artist').count().orderBy('count', ascending=False).show(n=8)"
   ]
  },
  {
   "cell_type": "markdown",
   "metadata": {},
   "source": [
    "The most common value for the artist column in the dataset is 'null'. If the rows containing 'null' as value are valid has to be investigated further."
   ]
  },
  {
   "cell_type": "markdown",
   "metadata": {},
   "source": [
    "#### Column 'auth'"
   ]
  },
  {
   "cell_type": "code",
   "execution_count": 10,
   "metadata": {},
   "outputs": [
    {
     "name": "stdout",
     "output_type": "stream",
     "text": [
      "+----------+------+\n",
      "|      auth| count|\n",
      "+----------+------+\n",
      "| Logged In|278102|\n",
      "|Logged Out|  8249|\n",
      "|     Guest|    97|\n",
      "| Cancelled|    52|\n",
      "+----------+------+\n",
      "\n"
     ]
    }
   ],
   "source": [
    "# list unique values in authentication column by occurances\n",
    "user_log.select(['auth', 'userId']).groupby('auth').count().orderBy('count', ascending=False).show()"
   ]
  },
  {
   "cell_type": "code",
   "execution_count": 11,
   "metadata": {},
   "outputs": [
    {
     "name": "stdout",
     "output_type": "stream",
     "text": [
      "+------+-----+---------+------+--------+------+------+---------+\n",
      "|artist| auth|firstName|method|    page|status|userId|sessionId|\n",
      "+------+-----+---------+------+--------+------+------+---------+\n",
      "|  null|Guest|     null|   GET|   Error|   404|      |      151|\n",
      "|  null|Guest|     null|   GET|    Home|   200|      |      151|\n",
      "|  null|Guest|     null|   GET|Register|   200|      |      151|\n",
      "|  null|Guest|     null|   GET|    Help|   200|      |      151|\n",
      "|  null|Guest|     null|   GET|    Home|   200|      |      151|\n",
      "+------+-----+---------+------+--------+------+------+---------+\n",
      "only showing top 5 rows\n",
      "\n"
     ]
    }
   ],
   "source": [
    "# look into sample rows of authentication status guest\n",
    "user_log.filter('auth = \"Guest\"').select(\n",
    "    'artist', 'auth', 'firstName', 'method', 'page', 'status', 'userId', 'sessionId').show(n=5)"
   ]
  },
  {
   "cell_type": "markdown",
   "metadata": {},
   "source": [
    "It is possible to interact with Sparkify as a guest. These rows can be dropped, as it is not possible to assign the user interactions of guests to a userId."
   ]
  },
  {
   "cell_type": "code",
   "execution_count": 12,
   "metadata": {},
   "outputs": [
    {
     "name": "stdout",
     "output_type": "stream",
     "text": [
      "+------+---------+---------+------+--------------------+------+------+---------+\n",
      "|artist|     auth|firstName|method|                page|status|userId|sessionId|\n",
      "+------+---------+---------+------+--------------------+------+------+---------+\n",
      "|  null|Cancelled|   Adriel|   GET|Cancellation Conf...|   200|    18|      514|\n",
      "|  null|Cancelled|    Diego|   GET|Cancellation Conf...|   200|    32|      540|\n",
      "|  null|Cancelled|    Mason|   GET|Cancellation Conf...|   200|   125|      174|\n",
      "|  null|Cancelled|Alexander|   GET|Cancellation Conf...|   200|   105|      508|\n",
      "|  null|Cancelled|    Kayla|   GET|Cancellation Conf...|   200|    17|      797|\n",
      "+------+---------+---------+------+--------------------+------+------+---------+\n",
      "only showing top 5 rows\n",
      "\n"
     ]
    }
   ],
   "source": [
    "# look into sample rows of authentication status guest\n",
    "user_log.filter('auth = \"Cancelled\"').select(\n",
    "    'artist', 'auth', 'firstName', 'method', 'page', 'status', 'userId', 'sessionId').show(n=5)"
   ]
  },
  {
   "cell_type": "markdown",
   "metadata": {},
   "source": [
    "The rows with authentication cancelled seem to be valid. It appears as if the authentification status 'cancelled' appears, when a user lands on the 'Cancellation Confirmation' page."
   ]
  },
  {
   "cell_type": "markdown",
   "metadata": {},
   "source": [
    "#### Columns 'gender' and 'userId'"
   ]
  },
  {
   "cell_type": "code",
   "execution_count": 13,
   "metadata": {},
   "outputs": [
    {
     "name": "stdout",
     "output_type": "stream",
     "text": [
      "+------+------+\n",
      "|gender| count|\n",
      "+------+------+\n",
      "|     F|154578|\n",
      "|     M|123576|\n",
      "|  null|  8346|\n",
      "+------+------+\n",
      "\n"
     ]
    }
   ],
   "source": [
    "# show unique possible values of column 'gender' and occurances\n",
    "user_log.select(['gender', 'userId']).groupby('gender').count().orderBy('count', ascending=False).show()"
   ]
  },
  {
   "cell_type": "markdown",
   "metadata": {},
   "source": [
    "The table above shows the count of female/male/null entried in ther gender column for all rows. To see how many users are actually of which gender this table has to be filtered to unique userIds. This will help to answer if the dataset is balanced regarding gender."
   ]
  },
  {
   "cell_type": "code",
   "execution_count": 14,
   "metadata": {},
   "outputs": [
    {
     "name": "stdout",
     "output_type": "stream",
     "text": [
      "+------+-------------+\n",
      "|gender|count(userId)|\n",
      "+------+-------------+\n",
      "|  null|            1|\n",
      "|     F|          104|\n",
      "|     M|          121|\n",
      "+------+-------------+\n",
      "\n"
     ]
    }
   ],
   "source": [
    "user_log.select(['gender', 'userId']) \\\n",
    "    .groupby('gender') \\\n",
    "    .agg(F.countDistinct('userId')) \\\n",
    "    .orderBy('count(userId)').show()\n"
   ]
  },
  {
   "cell_type": "markdown",
   "metadata": {},
   "source": [
    "There are 226 unique userIds (225 valid) in the dataset. \n",
    "Of those users 121 are male and 104 are female users. \n",
    "There are 0 userId's where the gender is not known\n",
    "There is only a slight imbalance regarding gender of users. "
   ]
  },
  {
   "cell_type": "markdown",
   "metadata": {},
   "source": [
    "#### Columns 'itemInSession', 'sessionId', 'song', 'ts'  and 'length'"
   ]
  },
  {
   "cell_type": "code",
   "execution_count": 15,
   "metadata": {},
   "outputs": [
    {
     "name": "stdout",
     "output_type": "stream",
     "text": [
      "+-------------+------+---------+-------------+--------+--------------------+---------+---------+\n",
      "|itemInSession|userId|sessionId|           ts|    page|                song|firstName|   length|\n",
      "+-------------+------+---------+-------------+--------+--------------------+---------+---------+\n",
      "|            0|    18|      242|1538499917000|    Home|                null|   Adriel|     null|\n",
      "|            1|    18|      242|1538499933000|NextSong|A Beggar On A Bea...|   Adriel|275.12118|\n",
      "|            2|    18|      242|1538500208000|NextSong|...slowdance On T...|   Adriel|268.32934|\n",
      "|            3|    18|      242|1538500476000|NextSong|       St. Apollonia|   Adriel|178.72934|\n",
      "|            4|    18|      242|1538500654000|NextSong|      Drunk Stripper|   Adriel|188.76036|\n",
      "|            5|    18|      242|1538500842000|NextSong|In League With Satan|   Adriel|167.91465|\n",
      "|            6|    18|      242|1538500856000|Settings|                null|   Adriel|     null|\n",
      "|            7|    18|      242|1538501009000|NextSong|           The Quest|   Adriel|331.38893|\n",
      "+-------------+------+---------+-------------+--------+--------------------+---------+---------+\n",
      "only showing top 8 rows\n",
      "\n"
     ]
    }
   ],
   "source": [
    "# look at behaviour of values in itemInSession for one user as example\n",
    "user_log.select(['itemInSession', 'userId', 'sessionId', 'ts', 'page', 'song', 'firstName', 'length']) \\\n",
    "    .filter(user_log.userId == \"18\") \\\n",
    "    .show(n=8)"
   ]
  },
  {
   "cell_type": "markdown",
   "metadata": {},
   "source": [
    "The values in column 'itemInSession' counts the interactions which happend for one user during the same sessionId. The value in column 'length' describes the duration of time a song was played and therefore is null for all  page events other than 'NextSong'. The column 'ts' stands for timestamp."
   ]
  },
  {
   "cell_type": "markdown",
   "metadata": {},
   "source": [
    "#### Column 'level'"
   ]
  },
  {
   "cell_type": "code",
   "execution_count": 16,
   "metadata": {},
   "outputs": [
    {
     "name": "stdout",
     "output_type": "stream",
     "text": [
      "+-----+-----+\n",
      "|level|count|\n",
      "+-----+-----+\n",
      "| free|  196|\n",
      "| paid|  166|\n",
      "+-----+-----+\n",
      "\n"
     ]
    }
   ],
   "source": [
    "# show unique possible values of column 'level'\n",
    "user_log.select(['level', 'userId']) \\\n",
    "    .dropDuplicates() \\\n",
    "    .groupby('level').count() \\\n",
    "    .orderBy('count', ascending=False).show()"
   ]
  },
  {
   "cell_type": "markdown",
   "metadata": {},
   "source": [
    "There are 196 unique userIds of free tier and 166 of paid tier users."
   ]
  },
  {
   "cell_type": "markdown",
   "metadata": {},
   "source": [
    "#### Column 'location'"
   ]
  },
  {
   "cell_type": "code",
   "execution_count": 17,
   "metadata": {},
   "outputs": [
    {
     "name": "stdout",
     "output_type": "stream",
     "text": [
      "+------+---------------------------------+\n",
      "|userId|location                         |\n",
      "+------+---------------------------------+\n",
      "|      |null                             |\n",
      "|100011|Albany, OR                       |\n",
      "|73    |Albany-Schenectady-Troy, NY      |\n",
      "|56    |Alexandria, LA                   |\n",
      "|93    |Allentown-Bethlehem-Easton, PA-NJ|\n",
      "|83    |Anchorage, AK                    |\n",
      "|45    |Atlanta-Sandy Springs-Roswell, GA|\n",
      "|300020|Atlanta-Sandy Springs-Roswell, GA|\n",
      "+------+---------------------------------+\n",
      "only showing top 8 rows\n",
      "\n"
     ]
    }
   ],
   "source": [
    "# show unique possible values of column 'location'\n",
    "user_log.select('userId', 'location') \\\n",
    "    .dropDuplicates() \\\n",
    "    .sort('location').show(n=8, truncate=False)"
   ]
  },
  {
   "cell_type": "code",
   "execution_count": 18,
   "metadata": {},
   "outputs": [
    {
     "name": "stdout",
     "output_type": "stream",
     "text": [
      "+------+---------------+\n",
      "|userId|count(location)|\n",
      "+------+---------------+\n",
      "|    54|              1|\n",
      "|    15|              1|\n",
      "|    51|              1|\n",
      "+------+---------------+\n",
      "only showing top 3 rows\n",
      "\n"
     ]
    }
   ],
   "source": [
    "# check the highest count of unique locations per userId\n",
    "user_log.select(['userId', 'location']) \\\n",
    "    .groupby('userId').agg(F.countDistinct('location')) \\\n",
    "    .orderBy('count(location)', ascending=False).show(n=3)"
   ]
  },
  {
   "cell_type": "markdown",
   "metadata": {},
   "source": [
    "In the dataset users always access the streaming service from the same location."
   ]
  },
  {
   "cell_type": "markdown",
   "metadata": {},
   "source": [
    "#### Column 'method'"
   ]
  },
  {
   "cell_type": "code",
   "execution_count": 19,
   "metadata": {},
   "outputs": [
    {
     "name": "stdout",
     "output_type": "stream",
     "text": [
      "+------+------+\n",
      "|method| count|\n",
      "+------+------+\n",
      "|   PUT|261064|\n",
      "|   GET| 25436|\n",
      "+------+------+\n",
      "\n"
     ]
    }
   ],
   "source": [
    "# show unique possible values of column 'method'\n",
    "user_log.select(['method', 'userId']) \\\n",
    "    .groupby('method').count() \\\n",
    "    .orderBy('count', ascending=False).show()"
   ]
  },
  {
   "cell_type": "markdown",
   "metadata": {},
   "source": [
    "#### Column 'page'"
   ]
  },
  {
   "cell_type": "code",
   "execution_count": 20,
   "metadata": {},
   "outputs": [
    {
     "name": "stdout",
     "output_type": "stream",
     "text": [
      "+--------------------+----------------+\n",
      "|                page|page_event_count|\n",
      "+--------------------+----------------+\n",
      "|            NextSong|          228108|\n",
      "|                Home|           14457|\n",
      "|           Thumbs Up|           12551|\n",
      "|     Add to Playlist|            6526|\n",
      "|          Add Friend|            4277|\n",
      "|         Roll Advert|            3933|\n",
      "|               Login|            3241|\n",
      "|              Logout|            3226|\n",
      "|         Thumbs Down|            2546|\n",
      "|           Downgrade|            2055|\n",
      "|                Help|            1726|\n",
      "|            Settings|            1514|\n",
      "|               About|             924|\n",
      "|             Upgrade|             499|\n",
      "|       Save Settings|             310|\n",
      "|               Error|             258|\n",
      "|      Submit Upgrade|             159|\n",
      "|    Submit Downgrade|              63|\n",
      "|Cancellation Conf...|              52|\n",
      "|              Cancel|              52|\n",
      "|            Register|              18|\n",
      "| Submit Registration|               5|\n",
      "+--------------------+----------------+\n",
      "\n"
     ]
    }
   ],
   "source": [
    "# show unique possible values of column 'page'\n",
    "page_events = user_log.select(['page', 'userId']) \\\n",
    "    .groupby('page').count() \\\n",
    "    .withColumnRenamed('count', 'page_event_count') \\\n",
    "    .orderBy('count', ascending=False)\n",
    "\n",
    "page_events.show(n=30)"
   ]
  },
  {
   "cell_type": "code",
   "execution_count": 175,
   "metadata": {},
   "outputs": [
    {
     "data": {
      "image/png": "[encoded data removed]",
      "text/plain": [
       "<Figure size 576x720 with 1 Axes>"
      ]
     },
     "metadata": {
      "needs_background": "light"
     },
     "output_type": "display_data"
    }
   ],
   "source": [
    "# convert pyspark df to pandas df\n",
    "page_events_pd = page_events.toPandas()\n",
    "\n",
    "# plot graph for distribution\n",
    "plt.figure(figsize=(8,10))\n",
    "barplot = sns.barplot(x='page_event_count', y='page', data=page_events_pd, color=base_color)\n",
    "plt.xscale('log')\n",
    "plt.title('Amount of certain Page Events in dataset', size=14)\n",
    "plt.xlabel('Amount of events of this type in dataset', size=10)\n",
    "plt.ylabel('Event Type', size=10)\n",
    "plt.savefig('events_graphic.png')\n",
    "plt.show()"
   ]
  },
  {
   "cell_type": "markdown",
   "metadata": {},
   "source": [
    "The most occured page event is 'NextSong', which is the main function of the streaming service. It seems like the 'NextSong' page get loaded automatically once a song ends. The Home page is the page the user enters when starting a streaming session and the second most common called page event. "
   ]
  },
  {
   "cell_type": "markdown",
   "metadata": {},
   "source": [
    "#### Column 'registration'"
   ]
  },
  {
   "cell_type": "code",
   "execution_count": 22,
   "metadata": {},
   "outputs": [
    {
     "name": "stdout",
     "output_type": "stream",
     "text": [
      "+------+-------------------+\n",
      "|userId|count(registration)|\n",
      "+------+-------------------+\n",
      "|    51|                  1|\n",
      "|   124|                  1|\n",
      "|     7|                  1|\n",
      "+------+-------------------+\n",
      "only showing top 3 rows\n",
      "\n"
     ]
    }
   ],
   "source": [
    "# look at behaviour of values in the column registration for one user as example\n",
    "user_log.select(['userId', 'registration']) \\\n",
    "    .groupby('userId') \\\n",
    "    .agg(F.countDistinct('registration')) \\\n",
    "    .orderBy('count(registration)', ascending=False) \\\n",
    "    .show(n=3)"
   ]
  },
  {
   "cell_type": "markdown",
   "metadata": {},
   "source": [
    "When ordering the amount of registrations per user descending from highest amount per user, it is visible that ther is no userId with more than one registration. Therefore the conclusion is that every userId has exactly one registration."
   ]
  },
  {
   "cell_type": "markdown",
   "metadata": {},
   "source": [
    "#### Column 'userAgent'"
   ]
  },
  {
   "cell_type": "code",
   "execution_count": 23,
   "metadata": {},
   "outputs": [
    {
     "name": "stdout",
     "output_type": "stream",
     "text": [
      "+--------------------------------------------------------------------------------------------------------------------------+\n",
      "|userAgent                                                                                                                 |\n",
      "+--------------------------------------------------------------------------------------------------------------------------+\n",
      "|\"Mozilla/5.0 (Macintosh; Intel Mac OS X 10_8_5) AppleWebKit/537.36 (KHTML, like Gecko) Chrome/36.0.1985.143 Safari/537.36\"|\n",
      "|\"Mozilla/5.0 (Windows NT 5.1) AppleWebKit/537.36 (KHTML, like Gecko) Chrome/36.0.1985.143 Safari/537.36\"                  |\n",
      "|Mozilla/5.0 (X11; Ubuntu; Linux i686; rv:31.0) Gecko/20100101 Firefox/31.0                                                |\n",
      "|\"Mozilla/5.0 (Macintosh; Intel Mac OS X 10_9_4) AppleWebKit/537.36 (KHTML, like Gecko) Chrome/36.0.1985.125 Safari/537.36\"|\n",
      "|\"Mozilla/5.0 (Macintosh; Intel Mac OS X 10_9_4) AppleWebKit/537.36 (KHTML, like Gecko) Chrome/35.0.1916.153 Safari/537.36\"|\n",
      "+--------------------------------------------------------------------------------------------------------------------------+\n",
      "only showing top 5 rows\n",
      "\n"
     ]
    }
   ],
   "source": [
    "# show unique possible values of column 'userAgent'\n",
    "user_log.select('userAgent').dropDuplicates().show(n=5, truncate=False)"
   ]
  },
  {
   "cell_type": "markdown",
   "metadata": {},
   "source": [
    "The column user agent describes the software used to access the streaming service. Examples are Mac OS X with Safari, Windows or Ubuntu."
   ]
  },
  {
   "cell_type": "markdown",
   "metadata": {},
   "source": [
    "#### column ts"
   ]
  },
  {
   "cell_type": "code",
   "execution_count": 24,
   "metadata": {},
   "outputs": [
    {
     "name": "stdout",
     "output_type": "stream",
     "text": [
      "+-------------+-------------------+\n",
      "|      min(ts)|         first_date|\n",
      "+-------------+-------------------+\n",
      "|1538352117000|2018-10-01 02:01:57|\n",
      "+-------------+-------------------+\n",
      "\n",
      "+-------------+-------------------+\n",
      "|      max(ts)|          last_date|\n",
      "+-------------+-------------------+\n",
      "|1543799476000|2018-12-03 02:11:16|\n",
      "+-------------+-------------------+\n",
      "\n"
     ]
    }
   ],
   "source": [
    "udf_convert_ts = F.udf(lambda timestamp: datetime.datetime.fromtimestamp(\n",
    "    timestamp / 1000.0).strftime(\"%Y-%m-%d %H:%M:%S\"))\n",
    "\n",
    "min_ts = user_log.agg({'ts':'min'}) \n",
    "max_ts = user_log.agg({'ts':'max'})\n",
    "\n",
    "min_ts.withColumn('first_date', udf_convert_ts('min(ts)')).show()\n",
    "max_ts.withColumn('last_date', udf_convert_ts('max(ts)')).show()\n"
   ]
  },
  {
   "cell_type": "markdown",
   "metadata": {},
   "source": [
    "The observed time frame is from 2018-10-01 to 2018-12-03."
   ]
  },
  {
   "cell_type": "markdown",
   "metadata": {},
   "source": [
    "<a id='prepare'></a>\n",
    "## 3. Prepare Data\n",
    "\n",
    "After getting a Data Understanding, the next step of the CRISP-DM is to prepare the dataset. \n",
    "The first step of data preparation in this project is cleaning the data from invalid or missing data - for example, records without userids or sessionids. \n",
    "After that an exploratory data analysis will be conducted to find possible features for the customer churn prediction.\n"
   ]
  },
  {
   "cell_type": "markdown",
   "metadata": {},
   "source": [
    "### 3.1 Clean Dataset\n"
   ]
  },
  {
   "cell_type": "code",
   "execution_count": 25,
   "metadata": {},
   "outputs": [],
   "source": [
    "# change format of timestamp to human readable\n",
    "\n",
    "udf_convert_ts_to_datetime = F.udf(lambda timestamp: datetime.datetime.fromtimestamp(\n",
    "    timestamp / 1000.0).strftime('%Y-%m-%d %H:%M:%S'))\n",
    "\n",
    "udf_convert_ts_to_date = F.udf(lambda timestamp: datetime.datetime.fromtimestamp(\n",
    "    timestamp / 1000.0).strftime('%Y-%m-%d'))\n",
    "\n",
    "user_log = user_log.withColumn('datetime', udf_convert_ts_to_datetime(user_log.ts)) \\\n",
    "    .withColumn(\"date\", udf_convert_ts_to_date(user_log.ts))\n"
   ]
  },
  {
   "cell_type": "markdown",
   "metadata": {},
   "source": [
    "Drop any row/record where there is no userId or sessionId."
   ]
  },
  {
   "cell_type": "code",
   "execution_count": 26,
   "metadata": {},
   "outputs": [
    {
     "name": "stdout",
     "output_type": "stream",
     "text": [
      "The dataset contains 286500 rows before cleaning\n",
      "The dataset contains 286500 rows after dropping any NA value in userId and sessionId\n"
     ]
    }
   ],
   "source": [
    "print('The dataset contains {} rows before cleaning'.format(user_log.count()))\n",
    "\n",
    "# drop any record with NANs in user ID OR session ID and save to new object\n",
    "user_log_valid = user_log.dropna(how = 'any', subset = ['userId', 'sessionId'])\n",
    "\n",
    "print('The dataset contains {} rows after dropping any NA value in userId and sessionId'.format(\n",
    "    user_log_valid.count()))"
   ]
  },
  {
   "cell_type": "markdown",
   "metadata": {},
   "source": [
    "It turns out there are no missing values in the userId or sessionId columns."
   ]
  },
  {
   "cell_type": "code",
   "execution_count": 27,
   "metadata": {},
   "outputs": [
    {
     "name": "stdout",
     "output_type": "stream",
     "text": [
      "+------+\n",
      "|userId|\n",
      "+------+\n",
      "|      |\n",
      "|    10|\n",
      "|   100|\n",
      "|100001|\n",
      "|100002|\n",
      "+------+\n",
      "only showing top 5 rows\n",
      "\n"
     ]
    }
   ],
   "source": [
    "# show unique user IDs\n",
    "user_log.select('userId').dropDuplicates().sort('userId').show(n=5)"
   ]
  },
  {
   "cell_type": "markdown",
   "metadata": {},
   "source": [
    "There are userId values that are empty strings. These empty userIds appear for example when a user enters the streaming service without logging in."
   ]
  },
  {
   "cell_type": "code",
   "execution_count": 28,
   "metadata": {},
   "outputs": [
    {
     "name": "stdout",
     "output_type": "stream",
     "text": [
      "The dataset contains 278154 rows after filtering out empty userIds\n"
     ]
    }
   ],
   "source": [
    "# drop empty userIds\n",
    "user_log_valid = user_log_valid.filter(user_log_valid['userId'] != '')\n",
    "\n",
    "print('The dataset contains {} rows after filtering out empty userIds'.format(\n",
    "    user_log_valid.count()))"
   ]
  },
  {
   "cell_type": "code",
   "execution_count": 29,
   "metadata": {},
   "outputs": [
    {
     "name": "stdout",
     "output_type": "stream",
     "text": [
      "+---------+------+\n",
      "|     auth| count|\n",
      "+---------+------+\n",
      "|Logged In|278102|\n",
      "|Cancelled|    52|\n",
      "+---------+------+\n",
      "\n"
     ]
    }
   ],
   "source": [
    "# check if guest entries are dropped all\n",
    "user_log_valid.select(['auth', 'userId']).groupby('auth').count().orderBy('count', ascending=False).show()"
   ]
  },
  {
   "cell_type": "code",
   "execution_count": 30,
   "metadata": {},
   "outputs": [
    {
     "name": "stdout",
     "output_type": "stream",
     "text": [
      "8346 Rows without userId were dropped. This were the users with authentification status \"Logged Out\" (8249) and \"Guest\" (97). Resulting into 278154 rows in the cleaned dataset.\n"
     ]
    }
   ],
   "source": [
    "# calculate amount of users dropped\n",
    "amount_users_dropped = user_log.count() - user_log_valid.count()\n",
    "amount_logged_out = user_log.select('auth').filter('auth = \"Logged Out\"').count()\n",
    "amount_guest = user_log.select('auth').filter('auth = \"Guest\"').count()\n",
    "amount_rows = user_log_valid.count()\n",
    "\n",
    "print('{} Rows without userId were dropped. This were the users with authentification status \"Logged Out\" ({}) \\\n",
    "and \"Guest\" ({}). Resulting into {} rows in the cleaned dataset.'.format(\n",
    "    amount_users_dropped, amount_logged_out, amount_guest, amount_rows))"
   ]
  },
  {
   "cell_type": "markdown",
   "metadata": {},
   "source": [
    "### 3.2 Exploratory Data Analysis\n",
    "\n",
    "Goal of the following exploratory data analysis is to observe differences in the behavior of customers who stayed vs customers who churned. \n",
    "One way is to explore aggregates on these two groups of users, observing how much of a specific action they experienced per a certain time unit or number of songs played."
   ]
  },
  {
   "cell_type": "markdown",
   "metadata": {},
   "source": [
    "#### Define Churn\n",
    "\n",
    "First a column 'churned' will be created to use as label to differentiate between customers who churned and those who stayed with the service. \n",
    "This column will be used later by the supervised machine learning model as label to train.\n",
    "The 'Cancellation Confirmation' events serve to define the exact moment of churn, which happens for both paid and free users. "
   ]
  },
  {
   "cell_type": "code",
   "execution_count": 31,
   "metadata": {},
   "outputs": [
    {
     "name": "stdout",
     "output_type": "stream",
     "text": [
      "+---------+---------+------+-------------+-----+--------------------+------+\n",
      "|     auth|firstName|gender|itemInSession|level|            location|userId|\n",
      "+---------+---------+------+-------------+-----+--------------------+------+\n",
      "|Cancelled|   Adriel|     M|          104| paid|  Kansas City, MO-KS|    18|\n",
      "|Cancelled|    Diego|     M|           56| paid|Phoenix-Mesa-Scot...|    32|\n",
      "|Cancelled|    Mason|     M|           10| free|  Corpus Christi, TX|   125|\n",
      "|Cancelled|Alexander|     M|          332| paid|Indianapolis-Carm...|   105|\n",
      "|Cancelled|    Kayla|     F|          273| paid|Philadelphia-Camd...|    17|\n",
      "+---------+---------+------+-------------+-----+--------------------+------+\n",
      "only showing top 5 rows\n",
      "\n"
     ]
    }
   ],
   "source": [
    "# show records where Cancellation was confirmed (churn)\n",
    "user_log_valid.filter(\"page = 'Cancellation Confirmation'\") \\\n",
    "    .select('auth', 'firstName', 'gender', 'itemInSession', 'level', 'location', 'userId') \\\n",
    "    .show(n=5)"
   ]
  },
  {
   "cell_type": "code",
   "execution_count": 32,
   "metadata": {},
   "outputs": [
    {
     "name": "stdout",
     "output_type": "stream",
     "text": [
      "+------+\n",
      "|userID|\n",
      "+------+\n",
      "|    18|\n",
      "|    32|\n",
      "+------+\n",
      "only showing top 2 rows\n",
      "\n"
     ]
    }
   ],
   "source": [
    "# Find users who had event 'Cancellation Confirmation'\n",
    "user_log_valid.select('userID').where(user_log.page == 'Cancellation Confirmation').show(n=2)"
   ]
  },
  {
   "cell_type": "code",
   "execution_count": 33,
   "metadata": {
    "scrolled": true
   },
   "outputs": [
    {
     "data": {
      "text/plain": [
       "[Row(firstName='Adriel', gender='M', page='NextSong', artist='Tonic'),\n",
       " Row(firstName='Adriel', gender='M', page='NextSong', artist='Arch Enemy'),\n",
       " Row(firstName='Adriel', gender='M', page='NextSong', artist='Les Ogres De Barback'),\n",
       " Row(firstName='Adriel', gender='M', page='NextSong', artist='The Notorious B.I.G.'),\n",
       " Row(firstName='Adriel', gender='M', page='NextSong', artist='Nickelback'),\n",
       " Row(firstName='Adriel', gender='M', page='Downgrade', artist=None),\n",
       " Row(firstName='Adriel', gender='M', page='Cancel', artist=None),\n",
       " Row(firstName='Adriel', gender='M', page='Cancellation Confirmation', artist=None)]"
      ]
     },
     "execution_count": 33,
     "metadata": {},
     "output_type": "execute_result"
    }
   ],
   "source": [
    "# inspect example funnel with event 'Cancellation Confirmation' (without most common event NextSong event)\n",
    "user_log_valid.select(['firstName', 'gender', 'page', 'artist']) \\\n",
    "    .where((user_log_valid.userId == '18') ) \\\n",
    "    .tail(num=8)\n"
   ]
  },
  {
   "cell_type": "code",
   "execution_count": 34,
   "metadata": {},
   "outputs": [],
   "source": [
    "# user defined function to flag the events page='Cancellation Confirmation' with extra column\n",
    "flag_cancellation_event = F.udf(\n",
    "    lambda cancellation_event: 1 if cancellation_event=='Cancellation Confirmation' else 0, IntegerType())\n",
    "\n",
    "# create extra column 'Cancellation Confirmation'\n",
    "user_log_valid = user_log_valid.withColumn('cancellation_event', flag_cancellation_event('page'))"
   ]
  },
  {
   "cell_type": "code",
   "execution_count": 35,
   "metadata": {},
   "outputs": [
    {
     "data": {
      "text/plain": [
       "[Row(userId='18', level='paid', sessionId=514, page='Downgrade', cancellation_event=0),\n",
       " Row(userId='18', level='paid', sessionId=514, page='Cancel', cancellation_event=0),\n",
       " Row(userId='18', level='paid', sessionId=514, page='Cancellation Confirmation', cancellation_event=1)]"
      ]
     },
     "execution_count": 35,
     "metadata": {},
     "output_type": "execute_result"
    }
   ],
   "source": [
    "# check if column 'cancellation_event' is created correctly\n",
    "user_log_valid.select(['userId', 'level', 'sessionId', 'page', 'cancellation_event']) \\\n",
    "    .where((user_log_valid.userId == '18') & (user_log_valid.page != 'NextSong')) \\\n",
    "    .tail(num=3)"
   ]
  },
  {
   "cell_type": "markdown",
   "metadata": {},
   "source": [
    "The new column 'cancellation_event' was created to mark the exact event of cancellation confirmation. As the goal of this project is to predict users who eventually churn, it is important to find the features which describe best the differences between users who churn and those who not.\n",
    "There is another column necessary to compare all user intereactions made by users who eventually churned to users who did not churn. The values of the new column 'churned users' are true if the user will eventually churn and false if not:"
   ]
  },
  {
   "cell_type": "code",
   "execution_count": 36,
   "metadata": {},
   "outputs": [],
   "source": [
    "# create column with churned users = true\n",
    "churned_users = user_log_valid.select('userId') \\\n",
    "    .filter(user_log.page == 'Cancellation Confirmation') \\\n",
    "    .dropDuplicates().collect()\n",
    "\n",
    "userid_churn = []\n",
    "for i in churned_users:\n",
    "    userid_churn.append(i[0])\n",
    "    \n",
    "user_log_valid = user_log_valid \\\n",
    "    .withColumn('churned',user_log_valid['userId'].isin(userid_churn))"
   ]
  },
  {
   "cell_type": "code",
   "execution_count": 37,
   "metadata": {},
   "outputs": [
    {
     "data": {
      "text/plain": [
       "[Row(userId='18', level='paid', page='Downgrade', cancellation_event=0, churned=True),\n",
       " Row(userId='18', level='paid', page='Cancel', cancellation_event=0, churned=True),\n",
       " Row(userId='18', level='paid', page='Cancellation Confirmation', cancellation_event=1, churned=True)]"
      ]
     },
     "execution_count": 37,
     "metadata": {},
     "output_type": "execute_result"
    }
   ],
   "source": [
    "# check if column 'churned' is filled correctly\n",
    "user_log_valid.select(['userId', 'level', 'page', 'cancellation_event', 'churned']) \\\n",
    "    .where((user_log_valid.userId == '18') & (user_log_valid.page != 'NextSong')) \\\n",
    "    .tail(num=3)"
   ]
  },
  {
   "cell_type": "markdown",
   "metadata": {},
   "source": [
    "With the new column 'churned' it is possible to check, if the dataset it balanced regarding the number of users who eventually churn and those who stay. The churn rate for ther observed period can be calculated."
   ]
  },
  {
   "cell_type": "code",
   "execution_count": 38,
   "metadata": {},
   "outputs": [
    {
     "name": "stdout",
     "output_type": "stream",
     "text": [
      "Of total 225 users, 173 users stayed with the streaming service during the observed time and 52 users eventually churned (churn rate: 23.11% ).\n"
     ]
    }
   ],
   "source": [
    "# check if dataset is balanced regarding churned users\n",
    "users = user_log_valid.select('userId').dropDuplicates().count()\n",
    "churned_users = user_log_valid.filter('churned = True').select('userId').dropDuplicates().count()\n",
    "stayed_users = user_log_valid.filter('churned = False').select('userId').dropDuplicates().count()\n",
    "\n",
    "print('Of total {} users, {} users stayed with the streaming service during the observed time and \\\n",
    "{} users eventually churned (churn rate: {:2.2f}% ).'.format(users, stayed_users, churned_users, \n",
    "                                                         churned_users/users*100))"
   ]
  },
  {
   "cell_type": "markdown",
   "metadata": {},
   "source": [
    "There is a imbalance in the dataset regarding the amount of users who churned versus those who stayed. Next step is to check how this imbalance in amount of users scales on the amount of interactions."
   ]
  },
  {
   "cell_type": "code",
   "execution_count": 39,
   "metadata": {},
   "outputs": [
    {
     "name": "stdout",
     "output_type": "stream",
     "text": [
      "Of total 278154 user interactions, 44864 user interactions were recorderd of useres who stayed with the streaming service during the observed timer and 233290 user interactions were recorded of users who eventually churned (16.13% of user interaction are by churned customers).\n"
     ]
    }
   ],
   "source": [
    "user_interactions = user_log_valid.count()\n",
    "churned_users_interactions = user_log_valid.filter('churned = True').count()\n",
    "stayed_users_interactions = user_log_valid.filter('churned = False').count()\n",
    "\n",
    "print('Of total {} user interactions, {} user interactions were recorderd of useres who stayed with the \\\n",
    "streaming service during the observed timer and {} user interactions were recorded of users who eventually \\\n",
    "churned ({:2.2f}% of user interaction are by churned customers).'.format(user_interactions, churned_users_interactions, stayed_users_interactions,\n",
    "                                    churned_users_interactions/user_interactions*100))"
   ]
  },
  {
   "cell_type": "markdown",
   "metadata": {},
   "source": [
    "The amount of data available regarding interactions to analyze the difference in behaviour for users who stayed versus users who churned is clearly imbalanced. \n",
    "\n",
    "Imbalance in the training data can lead to naive behaviour in the prediction of the supervised machine learning model. With 76.89% of users not churning a prediction accuracy of 76.89% can be achieved by simply always predicting 'no churn' [3](https://towardsdatascience.com/handling-imbalanced-datasets-in-machine-learning-7a0e84220f28).\n",
    "\n",
    "There are different ways to handle imbalanced data before feeding it to machine learning algorithms. \n",
    "One way would be to manipulate the input data by eiter undersampling data of loyal users, oversampling the data of churned users or generating synthetic data.\n",
    "In this project the way to handle the imbalance in data of interaction with the service by churned users will be creating additional features."
   ]
  },
  {
   "cell_type": "markdown",
   "metadata": {},
   "source": [
    "#### Calculate days since registration"
   ]
  },
  {
   "cell_type": "code",
   "execution_count": 40,
   "metadata": {},
   "outputs": [],
   "source": [
    "# calculate total number of days since registration\n",
    "user_log_valid = user_log_valid.withColumn('days_since_registration', F.ceil(\n",
    "    (user_log_valid.ts - user_log_valid.registration)/(1000*60*60*24)))"
   ]
  },
  {
   "cell_type": "markdown",
   "metadata": {},
   "source": [
    "#### Calculating Statistics by Hour\n",
    "\n",
    "In the next few cells will be calculated if there amount of songs played by users differs during the hours of a day:"
   ]
  },
  {
   "cell_type": "code",
   "execution_count": 41,
   "metadata": {},
   "outputs": [],
   "source": [
    "# create user defined function to convert the ts column into hour format\n",
    "get_hour = F.udf(lambda timestamp: datetime.datetime.fromtimestamp(timestamp / 1000.0). hour)\n",
    "\n",
    "# create new column \"hour\" by applying udf get_hour\n",
    "user_log_valid = user_log_valid.withColumn('hour', get_hour(user_log_valid.ts))\n",
    "\n",
    "# take only amount of action \"NextSong\" and group it by hour of day\n",
    "songs_in_hour = user_log_valid.filter(user_log_valid.page == 'NextSong').groupby(\n",
    "    'hour').count().orderBy(user_log_valid.hour.cast('float'))"
   ]
  },
  {
   "cell_type": "code",
   "execution_count": 42,
   "metadata": {},
   "outputs": [
    {
     "data": {
      "image/png": "[encoded data removed]",
      "text/plain": [
       "<Figure size 432x288 with 1 Axes>"
      ]
     },
     "metadata": {
      "needs_background": "light"
     },
     "output_type": "display_data"
    }
   ],
   "source": [
    "# convert spark object ot pandas dataframe\n",
    "songs_in_hour_pd = songs_in_hour.toPandas()\n",
    "songs_in_hour_pd.hour = pd.to_numeric(songs_in_hour_pd.hour)\n",
    "\n",
    "# plot the amount of songs played over hours of day\n",
    "plt.scatter(songs_in_hour_pd['hour'], songs_in_hour_pd['count'])\n",
    "plt.xlim(-1, 24);\n",
    "plt.ylim(0, 1.2 * max(songs_in_hour_pd['count']))\n",
    "plt.xlabel('Hour')\n",
    "plt.ylabel('Songs played');"
   ]
  },
  {
   "cell_type": "markdown",
   "metadata": {},
   "source": [
    "#### Total Amount of Page Events per UserId\n",
    "\n",
    "How many page events happen per userId for the observed time period in total comparing churned with loyal users."
   ]
  },
  {
   "cell_type": "code",
   "execution_count": 43,
   "metadata": {},
   "outputs": [
    {
     "name": "stdout",
     "output_type": "stream",
     "text": [
      "+------+-------+-----------------+\n",
      "|userId|churned|total_page_events|\n",
      "+------+-------+-----------------+\n",
      "|    39|  false|             9632|\n",
      "|    92|  false|             7230|\n",
      "|   140|  false|             6880|\n",
      "|300011|  false|             5732|\n",
      "|   124|  false|             4825|\n",
      "+------+-------+-----------------+\n",
      "only showing top 5 rows\n",
      "\n"
     ]
    }
   ],
   "source": [
    "# total amount of page events per userId\n",
    "page_event_per_user = user_log_valid.select('page','userId', 'churned') \\\n",
    "    .groupby('userId', 'churned').count() \\\n",
    "    .withColumnRenamed('count', 'total_page_events') \\\n",
    "\n",
    "page_event_per_user.orderBy('total_page_events', ascending=False).show(n=5)"
   ]
  },
  {
   "cell_type": "code",
   "execution_count": 44,
   "metadata": {},
   "outputs": [
    {
     "name": "stdout",
     "output_type": "stream",
     "text": [
      "+-------+----------------------+\n",
      "|churned|avg(total_page_events)|\n",
      "+-------+----------------------+\n",
      "|   true|     862.7692307692307|\n",
      "|  false|    1348.4971098265896|\n",
      "+-------+----------------------+\n",
      "\n"
     ]
    }
   ],
   "source": [
    "# mean of page events per user\n",
    "page_event_per_user.groupby('churned').mean().show()"
   ]
  },
  {
   "cell_type": "code",
   "execution_count": 45,
   "metadata": {},
   "outputs": [
    {
     "data": {
      "image/png": "[encoded data removed]",
      "text/plain": [
       "<Figure size 432x288 with 1 Axes>"
      ]
     },
     "metadata": {
      "needs_background": "light"
     },
     "output_type": "display_data"
    }
   ],
   "source": [
    "# convert spark object to pandas dataframe\n",
    "page_event_per_user_pd = page_event_per_user.toPandas()\n",
    "\n",
    "# Plot\n",
    "ax = sns.violinplot(data=page_event_per_user_pd, y='churned', x='total_page_events', orient='h')\n",
    "plt.xlabel('Page Events')\n",
    "plt.ylabel('Customer Evantually Churned')\n",
    "plt.title('Page Events per User Churned versus Loyal')\n",
    "sns.despine(ax=ax);\n"
   ]
  },
  {
   "cell_type": "markdown",
   "metadata": {},
   "source": [
    "Comparing users who churned with those who stayed, there is clearly a difference in mean page events per user. It seems plausible that, in average, users who do not churn might stay longer with the service and therfore as well have more page events. \n",
    "More interesting would be if users have more page events per time period.\n",
    "In the following cells will be investigated if there is a difference in page events per session as well. "
   ]
  },
  {
   "cell_type": "markdown",
   "metadata": {},
   "source": [
    "#### Functions to create Features "
   ]
  },
  {
   "cell_type": "code",
   "execution_count": 96,
   "metadata": {},
   "outputs": [],
   "source": [
    "def create_statistic_per_userId_streamingTime(pyspark_df, event_type):\n",
    "    '''\n",
    "    Function to calculate amount of certain events per userId.\n",
    "    \n",
    "    args:\n",
    "        pyspark_df - (pyspark dataframe) user_log of Sparkify\n",
    "        event - (string) page event\n",
    "    return:\n",
    "    '''\n",
    "    streaming_time_df = pyspark_df.filter(pyspark_df.page == 'NextSong') \\\n",
    "        .groupBy('userId', 'churned') \\\n",
    "        .agg((F.sum('length')/3600).alias('streamingTime_h'))\n",
    "        #(F.count('length').alias('streamingTime_h')))\n",
    "        #\n",
    "\n",
    "    event_statistics_df = pyspark_df.filter(pyspark_df.page == event_type) \\\n",
    "        .groupBy('userId') \\\n",
    "        .agg(F.count('userId').alias(event_type))\n",
    "\n",
    "    feature_df = streaming_time_df.join(event_statistics_df, on=['userId'], how='inner')\n",
    "\n",
    "    feature_df = feature_df.withColumn(\n",
    "        event_type+'_per_streamingTime', feature_df[event_type]/feature_df.streamingTime_h)\n",
    "\n",
    "    return feature_df"
   ]
  },
  {
   "cell_type": "code",
   "execution_count": null,
   "metadata": {},
   "outputs": [],
   "source": [
    "def plot_events_per_userStreaming(feature_pyspark_df, event_type):\n",
    "    '''\n",
    "    Function to create boxplot of pyspark dataframe created with 'count_events_per_user' function.\n",
    "    \n",
    "    args:\n",
    "        count_pysparkdf - (pyspark dataframe) created with 'count_events_per_user'\n",
    "        event - (string) page event\n",
    "    \n",
    "    return:\n",
    "    '''\n",
    "    feature_pyspark_pd = feature_pyspark_df.toPandas()\n",
    "    \n",
    "    ax = sns.violinplot(data=feature_pyspark_pd, y='churned', x=event_type, orient='h')\n",
    "    plt.xlabel(event_type + ' per UserId')\n",
    "    plt.ylabel('Customers Churned')\n",
    "    plt.title(event_type + ' per UserId per StreamingTime churned/not churned')\n",
    "    sns.despine(ax=ax);\n",
    "    \n",
    "    return "
   ]
  },
  {
   "cell_type": "code",
   "execution_count": null,
   "metadata": {},
   "outputs": [],
   "source": [
    "def plot_events_per_user(feature_pyspark_df, event_type):\n",
    "    '''\n",
    "    Function to create boxplot of pyspark dataframe created with 'count_events_per_user' function.\n",
    "    \n",
    "    args:\n",
    "        count_pysparkdf - (pyspark dataframe) created with 'count_events_per_user'\n",
    "        event - (string) page event\n",
    "    \n",
    "    return:\n",
    "    '''\n",
    "    feature_pyspark_pd = feature_pyspark_df.toPandas()\n",
    "    \n",
    "    ax = sns.violinplot(data=feature_pyspark_pd, y='churned', x=event_type, orient='h')\n",
    "    plt.xlabel(event_type)\n",
    "    plt.ylabel('Customers Churned')\n",
    "    plt.title(event_type + ' per UserId churned/not churned')\n",
    "    sns.despine(ax=ax);\n",
    "    \n",
    "    return "
   ]
  },
  {
   "cell_type": "code",
   "execution_count": null,
   "metadata": {},
   "outputs": [],
   "source": [
    "def calculate_avg_events_lastXsessions(pyspark_df, amount_sessions):\n",
    "    '''\n",
    "    Function to calculate mean of all events per userId for last x sessionIds.\n",
    "    \n",
    "    args:\n",
    "        pyspark_df - (pyspark dataframe) user_log of Sparkify\n",
    "        amount_sessions - amount of last sessions from which mean is calculated\n",
    "        event_type - (string) page event\n",
    "    return:\n",
    "    '''\n",
    "    \n",
    "    user_window = Window \\\n",
    "        .partitionBy('userID') \\\n",
    "        .orderBy(F.desc('max(ts)')) \n",
    "\n",
    "    pyspark_df = pyspark_df.select('userId', 'churned', 'sessionId', 'page', 'ts') \\\n",
    "        .groupBy('userId', 'churned', 'sessionId') \\\n",
    "        .agg(F.max('ts'), F.count('page')) \\\n",
    "        .withColumn('session_number', F.row_number().over(user_window))\n",
    "    \n",
    "    pyspark_df = pyspark_df.filter(pyspark_df.session_number <= amount_sessions) \\\n",
    "        .groupBy('userId', 'churned') \\\n",
    "        .agg(F.avg('count(page)')) \\\n",
    "        .withColumnRenamed('avg(count(page))', 'average_amount_songs_lastXsessions')\n",
    "    \n",
    "    return pyspark_df\n",
    "\n",
    "def find_optimal_amount_sessions_for_max_diff(pySpark_df):\n",
    "    '''\n",
    "    Function to find amount of sessions with highest difference in mean.\n",
    "    \n",
    "    args:\n",
    "        pyspark_df - (pyspark dataframe) user_log of Sparkify\n",
    "        event_type - (string) page event\n",
    "    return:\n",
    "    '''\n",
    "    for i in range(1,10):\n",
    "        avg_amount_songs_lastXsessions = calculate_avg_events_lastXsessions(pySpark_df, i)\n",
    "\n",
    "        diff_pd = avg_amount_songs_lastXsessions.groupBy('churned').mean() \\\n",
    "            .select('avg(average_amount_songs_lastXsessions)').toPandas()\n",
    "\n",
    "        print('Difference in average events for last {} sessions is {}'.format(\n",
    "            i, diff_pd.values[1][0] - diff_pd.values[0][0]))\n",
    "          "
   ]
  },
  {
   "cell_type": "code",
   "execution_count": null,
   "metadata": {},
   "outputs": [],
   "source": [
    "def calculate_avg_page_event_lastXsessions(pyspark_df, amount_sessions, event_type):\n",
    "    '''\n",
    "    Function to calculate mean of certain events per userId for last x sessionIds.\n",
    "    \n",
    "    args:\n",
    "        pyspark_df - (pyspark dataframe) user_log of Sparkify\n",
    "        amount_sessions - amount of last sessions from which mean is calculated\n",
    "        event_type - (string) page event\n",
    "    return:\n",
    "    '''\n",
    "    \n",
    "    user_window = Window \\\n",
    "        .partitionBy('userID') \\\n",
    "        .orderBy(F.desc('max(ts)')) \n",
    "\n",
    "    pyspark_df = pyspark_df.select('userId', 'churned', 'sessionId', 'page', 'ts') \\\n",
    "        .filter(pyspark_df.page == event_type) \\\n",
    "        .groupBy('userId', 'churned', 'sessionId') \\\n",
    "        .agg(F.max('ts'), F.count('page')) \\\n",
    "        .withColumn('session_number', F.row_number().over(user_window))\n",
    "    \n",
    "    pyspark_df = pyspark_df.filter(pyspark_df.session_number <= amount_sessions) \\\n",
    "        .groupBy('userId', 'churned') \\\n",
    "        .agg(F.avg('count(page)')) \\\n",
    "        .withColumnRenamed('avg(count(page))', 'average_amount_songs_lastXsessions')\n",
    "    \n",
    "    return pyspark_df\n"
   ]
  },
  {
   "cell_type": "code",
   "execution_count": null,
   "metadata": {},
   "outputs": [],
   "source": [
    "def find_amount_sessions_for_max_diff(pySpark_df, event_type):\n",
    "    '''\n",
    "    Function to find amount of sessions with highest difference in mean.\n",
    "    \n",
    "    args:\n",
    "        pyspark_df - (pyspark dataframe) user_log of Sparkify\n",
    "        event_type - (string) page event\n",
    "    return:\n",
    "    '''\n",
    "    for i in range(1,10):\n",
    "        avg_amount_songs_lastXsessions = calculate_avg_page_event_lastXsessions(pySpark_df, i, event_type)\n",
    "\n",
    "        diff_pd = avg_amount_songs_lastXsessions.groupBy('churned').mean() \\\n",
    "            .select('avg(average_amount_songs_lastXsessions)').toPandas()\n",
    "\n",
    "        print('Difference in average {} events for last {} sessions is {}'.format(\n",
    "            event_type, i, diff_pd.values[1][0] - diff_pd.values[0][0]))\n",
    "          "
   ]
  },
  {
   "cell_type": "markdown",
   "metadata": {},
   "source": [
    "#### Thumbs Up Events per UserId per StreamingTime"
   ]
  },
  {
   "cell_type": "code",
   "execution_count": null,
   "metadata": {},
   "outputs": [],
   "source": [
    "# calculate events per user and streaming time\n",
    "thumbsUp_per_streamingTime = create_statistic_per_userId_streamingTime(user_log_valid, 'Thumbs Up')\n",
    "\n",
    "# show table with mean of churned/stayed\n",
    "thumbsUp_per_streamingTime.groupBy('churned').mean() \\\n",
    "    .select('churned', 'avg(Thumbs Up_per_streamingTime)').show()\n",
    "\n",
    "# create plot \n",
    "plot_events_per_userStreaming(thumbsUp_per_streamingTime, 'Thumbs Up')"
   ]
  },
  {
   "cell_type": "markdown",
   "metadata": {},
   "source": [
    "Users who eventually churn give in average 37.18 Thumbs Up during usage of the service, users who stay with the service 62.98. To eliminate the influence of average longer registration duration for customers who did not churn, the graphic above shows Thumbs Up Events per UserIs per total streaming time of the user. There is only a slight difference in mean."
   ]
  },
  {
   "cell_type": "markdown",
   "metadata": {},
   "source": [
    "#### Thumbs Down Events per UserId per StreamingTime"
   ]
  },
  {
   "cell_type": "code",
   "execution_count": null,
   "metadata": {},
   "outputs": [],
   "source": [
    "# calculate events per user and streaming time\n",
    "thumbsDown_per_streamingTime = create_statistic_per_userId_streamingTime(user_log_valid, 'Thumbs Down')\n",
    "\n",
    "# show table with mean of churned/stayed\n",
    "thumbsDown_per_streamingTime.groupBy('churned').mean() \\\n",
    "    .select('churned', 'avg(Thumbs Down_per_streamingTime)').show()\n",
    "\n",
    "# create plot \n",
    "plot_events_per_userStreaming(thumbsDown_per_streamingTime, 'Thumbs Down')"
   ]
  },
  {
   "cell_type": "markdown",
   "metadata": {},
   "source": [
    "The graphic above shows Thumbs Down Events per UserIs per total streaming time of the user. The difference in mean of Thumbs Down Events is higher than for Thumbs Up Events."
   ]
  },
  {
   "cell_type": "markdown",
   "metadata": {},
   "source": [
    "#### Roll Advert Events per UserId per StreamingTime"
   ]
  },
  {
   "cell_type": "code",
   "execution_count": null,
   "metadata": {},
   "outputs": [],
   "source": [
    "# calculate events per user and streaming time\n",
    "rollAdvert_per_streamingTime = create_statistic_per_userId_streamingTime(user_log_valid, 'Roll Advert')\n",
    "\n",
    "# show table with mean of churned/stayed\n",
    "rollAdvert_per_streamingTime.groupBy('churned').mean() \\\n",
    "    .select('churned', 'avg(Roll Advert_per_streamingTime)').show()\n",
    "\n",
    "# create plot \n",
    "plot_events_per_userStreaming(rollAdvert_per_streamingTime, 'Roll Advert')"
   ]
  },
  {
   "cell_type": "markdown",
   "metadata": {},
   "source": [
    "In the dataset analyzed the average amount of adverts users experience is significantly higher for those who eventually churn, than for those who stay with the service. It is possible that this is due to a higher percentage of users using the free tier among those who churn."
   ]
  },
  {
   "cell_type": "code",
   "execution_count": null,
   "metadata": {},
   "outputs": [],
   "source": [
    "user_log_valid.groupBy('churned','level') \\\n",
    "    .agg(F.count('userId')).show()"
   ]
  },
  {
   "cell_type": "code",
   "execution_count": null,
   "metadata": {},
   "outputs": [],
   "source": [
    "print('There are {:2.2f}% free tier users among those who churned and {:2.2f}% free tier users among those who \\\n",
    "    stayed'.format(12388/(32476+12388)*100,43333/(189957+43333)*100))"
   ]
  },
  {
   "cell_type": "markdown",
   "metadata": {},
   "source": [
    "#### Downgrade Events per UserId per StreamingTime"
   ]
  },
  {
   "cell_type": "code",
   "execution_count": null,
   "metadata": {},
   "outputs": [],
   "source": [
    "# calculate events per user and streaming time\n",
    "downgrade_per_streamingTime = create_statistic_per_userId_streamingTime(user_log_valid, 'Downgrade')\n",
    "\n",
    "# show table with mean of churned/stayed\n",
    "downgrade_per_streamingTime.groupBy('churned').mean() \\\n",
    "    .select('churned', 'avg(Downgrade_per_streamingTime)').show()\n",
    "\n",
    "# create plot \n",
    "plot_events_per_userStreaming(downgrade_per_streamingTime, 'Downgrade')"
   ]
  },
  {
   "cell_type": "markdown",
   "metadata": {},
   "source": [
    "There is a small difference in mean amount of Downgrade Page visits among User who churned versus not chunred relative to the his/her total streaming time."
   ]
  },
  {
   "cell_type": "markdown",
   "metadata": {},
   "source": [
    "#### Downgrades per UserId in last x sessions"
   ]
  },
  {
   "cell_type": "code",
   "execution_count": null,
   "metadata": {},
   "outputs": [],
   "source": [
    "# find amount of sessions with highest difference in mean\n",
    "find_amount_sessions_for_max_diff(user_log_valid, 'Downgrade')"
   ]
  },
  {
   "cell_type": "code",
   "execution_count": null,
   "metadata": {},
   "outputs": [],
   "source": [
    "# average songs played for the last three sessionIds per userId\n",
    "\n",
    "avg_amount_songs_lastXsessions = calculate_avg_page_event_lastXsessions(user_log_valid, 3, 'Downgrade')\n",
    "\n",
    "avg_amount_songs_lastXsessions.groupBy('churned').mean().show()\n",
    "\n",
    "plot_events_per_user(avg_amount_songs_lastXsessions, 'average_amount_songs_lastXsessions')"
   ]
  },
  {
   "cell_type": "markdown",
   "metadata": {},
   "source": [
    "Now comparing the average amount of Downgrade events in the last observed sessionId for users who churned versus users who did stay with the service, the results seem more intuitive. Still, it is not clear if this feature helps to predict users who eventually churn."
   ]
  },
  {
   "cell_type": "markdown",
   "metadata": {},
   "source": [
    "#### Number of days from registration date to last observed event"
   ]
  },
  {
   "cell_type": "code",
   "execution_count": null,
   "metadata": {},
   "outputs": [],
   "source": [
    "# log entry with max amount days since registration\n",
    "days_since_registration = user_log_valid.groupBy('userId', 'churned') \\\n",
    "        .agg(F.max('days_since_registration').alias('days_since_registration'))"
   ]
  },
  {
   "cell_type": "code",
   "execution_count": null,
   "metadata": {
    "scrolled": true
   },
   "outputs": [],
   "source": [
    "# compare difference in mean\n",
    "days_since_registration.groupBy('churned').mean().show()\n",
    "\n",
    "# convert to pandas df to plot\n",
    "days_since_registration_pd = days_since_registration.toPandas()\n",
    "\n",
    "# plot\n",
    "ax = sns.violinplot(data=days_since_registration_pd, y='churned', x='days_since_registration', orient='h')\n",
    "plt.xlabel('Number of days from registration date to last observed event')\n",
    "plt.ylabel('Customers Churned')\n",
    "plt.title('Number of days from registration date to last observed event churned/not churned')\n",
    "sns.despine(ax=ax);"
   ]
  },
  {
   "cell_type": "markdown",
   "metadata": {},
   "source": [
    "There is a significant difference in registration duration comparing churned customers with those who stayed with the service. The mean duration from registration to last interaction with the streaming service is 57.8 days for users who eventually churn and 87.1 days for users who stay with the service. Therefore the time passed since a user registered to the streaming service is feature that can be useful to predict users who are prone to churn. There are some outliers visible where churned is false, these are the users who registered to the streaming service and stopped using it without cancelling the service.\n",
    "The observed time period is about 2 months.\n",
    "A user could be inactive for two month and use the service again.\n",
    "Therefore in this analysis those users who are just inactivte, but do not cancel from the service, will be defined as not churned."
   ]
  },
  {
   "cell_type": "markdown",
   "metadata": {},
   "source": [
    "#### Average amount songs played between visiting home"
   ]
  },
  {
   "cell_type": "code",
   "execution_count": null,
   "metadata": {},
   "outputs": [],
   "source": [
    "# How many songs do users listen to on average between visiting our home page? Please round your answer to the closest integer.\n",
    "\n",
    "udf_homevisit = F.udf(lambda ishome : int(ishome == 'Home'), IntegerType())\n",
    "\n",
    "user_window = Window \\\n",
    "    .partitionBy('userID') \\\n",
    "    .orderBy(F.desc('ts')) \\\n",
    "    .rangeBetween(Window.unboundedPreceding, 0)\n",
    "\n",
    "songs_per_homevisit = user_log_valid.filter((user_log_valid.page == \"NextSong\") | (user_log_valid.page == 'Home')) \\\n",
    "    .select('userID', 'churned', 'page', 'ts') \\\n",
    "    .withColumn('homevisit', udf_homevisit(F.col('page'))) \\\n",
    "    .withColumn('period', F.sum('homevisit').over(user_window))\n",
    "\n",
    "songs_per_homevisit = songs_per_homevisit.filter((songs_per_homevisit.page == 'NextSong')) \\\n",
    "    .groupBy('userID', 'churned', 'period') \\\n",
    "    .agg({'period':'count'}) \\\n",
    "    .groupBy('userID', 'churned').mean() \\\n",
    "    .withColumnRenamed('avg(count(period))', 'avg_songs_between_home') \\\n",
    "    .select('userID', 'churned', 'avg_songs_between_home')\n",
    "\n",
    "\n",
    "songs_per_homevisit.groupBy('churned') \\\n",
    "    .agg({'avg_songs_between_home':'avg'}).show()"
   ]
  },
  {
   "cell_type": "code",
   "execution_count": null,
   "metadata": {},
   "outputs": [],
   "source": [
    "# show lowest values of average songs between home visit for userIds\n",
    "songs_per_homevisit.orderBy('avg_songs_between_home', ascending=True).show(n=8)"
   ]
  },
  {
   "cell_type": "code",
   "execution_count": null,
   "metadata": {},
   "outputs": [],
   "source": [
    "# convert spark object ot pandas dataframe\n",
    "songs_per_homevisit_pd = songs_per_homevisit.toPandas()\n",
    "\n",
    "# Plot\n",
    "ax = sns.violinplot(data=songs_per_homevisit_pd, y='churned', x='avg_songs_between_home', orient='h')\n",
    "plt.xlabel('Average amount of songs played between visiting the Home Page')\n",
    "plt.ylabel('Customer Evantually Churned')\n",
    "plt.title('Average Amount Songs played per userId between visiting Home Page')\n",
    "sns.despine(ax=ax);"
   ]
  },
  {
   "cell_type": "markdown",
   "metadata": {},
   "source": [
    "Users who evantually churned did in average play about two songs less between visiting the Home page than users who stayed with the service. Churned users played in average 20.16 songs between visiting the Home page, loyal users played in average 22.316 songs."
   ]
  },
  {
   "cell_type": "markdown",
   "metadata": {},
   "source": [
    "#### Average Amount Songs played per Session"
   ]
  },
  {
   "cell_type": "code",
   "execution_count": null,
   "metadata": {},
   "outputs": [],
   "source": [
    "avg_amount_songs_played_per_session = user_log_valid.select('userId', 'sessionId', 'churned', 'page') \\\n",
    "    .filter('page = \"NextSong\"') \\\n",
    "    .groupby('userId', 'sessionId', 'churned').count() \\\n",
    "    .select('userId', 'churned', 'count') \\\n",
    "    .groupby('userId', 'churned').mean() \\\n",
    "    .withColumnRenamed('avg(count)', 'avg_amount_songs_played_per_session') \\\n",
    "\n",
    "avg_amount_songs_played_per_session.groupBy('churned').mean().show()\n",
    "\n",
    "plot_events_per_user(avg_amount_songs_played_per_session, 'avg_amount_songs_played_per_session')"
   ]
  },
  {
   "cell_type": "markdown",
   "metadata": {},
   "source": [
    "#### Page Events per SessionId per UserId"
   ]
  },
  {
   "cell_type": "code",
   "execution_count": null,
   "metadata": {},
   "outputs": [],
   "source": [
    "find_optimal_amount_sessions_for_max_diff(user_log_valid)"
   ]
  },
  {
   "cell_type": "code",
   "execution_count": null,
   "metadata": {},
   "outputs": [],
   "source": [
    "# average songs played for the last three sessionIds per userId\n",
    "\n",
    "avg_amount_songs_lastXsessions = calculate_avg_events_lastXsessions(user_log_valid, 3)\n",
    "\n",
    "avg_amount_songs_lastXsessions.groupBy('churned').mean().show()\n",
    "\n",
    "plot_events_per_user(avg_amount_songs_lastXsessions, 'average_amount_songs_lastXsessions')"
   ]
  },
  {
   "cell_type": "markdown",
   "metadata": {},
   "source": [
    "#### Average amount songs played in last x sessions\n"
   ]
  },
  {
   "cell_type": "code",
   "execution_count": null,
   "metadata": {},
   "outputs": [],
   "source": [
    "# count sessionIds per userId\n",
    "\n",
    "user_log_valid.select('userId', 'sessionId') \\\n",
    "    .groupBy('userId').count() \\\n",
    "    .orderBy('count') \\\n",
    "    .show(n=5)"
   ]
  },
  {
   "cell_type": "markdown",
   "metadata": {},
   "source": [
    "There is no user in the dataset with less than 6 sessions.\n",
    "Next step is to define a function to reuse for calculating average occurances of certain events for a defined amount of sessions per user."
   ]
  },
  {
   "cell_type": "code",
   "execution_count": null,
   "metadata": {},
   "outputs": [],
   "source": [
    "# find amount of sessions with highest difference in mean\n",
    "find_amount_sessions_for_max_diff(user_log_valid, 'NextSong')"
   ]
  },
  {
   "cell_type": "markdown",
   "metadata": {},
   "source": [
    "The difference in average songs played comparing churned users with those who stayed is maximal when taking the average songs played for the last three sessionIds."
   ]
  },
  {
   "cell_type": "code",
   "execution_count": null,
   "metadata": {},
   "outputs": [],
   "source": [
    "# average songs played for the last three sessionIds per userId\n",
    "\n",
    "avg_amount_songs_lastXsessions = calculate_avg_page_event_lastXsessions(user_log_valid, 3, 'NextSong')\n",
    "\n",
    "avg_amount_songs_lastXsessions.groupBy('churned').mean().show()\n",
    "\n",
    "plot_events_per_user(avg_amount_songs_lastXsessions, 'average_amount_songs_lastXsessions')"
   ]
  },
  {
   "cell_type": "markdown",
   "metadata": {},
   "source": [
    "#### Percentage of days since registration where user was active"
   ]
  },
  {
   "cell_type": "code",
   "execution_count": null,
   "metadata": {},
   "outputs": [],
   "source": [
    "activity_df = user_log_valid.groupBy('userId', 'churned') \\\n",
    "    .agg(F.max('days_since_registration').alias('days_since_registration'), \n",
    "         F.countDistinct('date').alias('days_active'))\n",
    "\n",
    "activity_df = activity_df.filter('days_since_registration >= 1')\n",
    "    \n",
    "activity_df = activity_df \\\n",
    "    .withColumn('percentage_active_days', activity_df.days_active/activity_df.days_since_registration)"
   ]
  },
  {
   "cell_type": "code",
   "execution_count": null,
   "metadata": {},
   "outputs": [],
   "source": [
    "# compare difference in mean\n",
    "activity_df.groupBy('churned').mean().show()\n",
    "\n",
    "# convert to pandas df to plot\n",
    "activity_pd = activity_df.toPandas()\n",
    "\n",
    "# plot\n",
    "ax = sns.violinplot(data=activity_pd, y='churned', x='percentage_active_days', orient='h')\n",
    "plt.xlabel('Percentage of days since registration where user was active')\n",
    "plt.ylabel('Customers Churned')\n",
    "plt.title('Percentage of days since registration where user was active churned/not churned')\n",
    "sns.despine(ax=ax);"
   ]
  },
  {
   "cell_type": "markdown",
   "metadata": {},
   "source": [
    "#### Streaming time per active day"
   ]
  },
  {
   "cell_type": "code",
   "execution_count": null,
   "metadata": {},
   "outputs": [],
   "source": [
    "streaming_df = user_log_valid.filter(user_log_valid.page == 'NextSong') \\\n",
    "    .groupBy('userId', 'churned') \\\n",
    "    .agg((F.sum('length')/3600).alias('streamingTime_h'),\n",
    "         F.countDistinct('date').alias('days_active'))\n",
    "    \n",
    "streaming_df = streaming_df \\\n",
    "    .withColumn('streaming_per_active_day', streaming_df.streamingTime_h/streaming_df.days_active)"
   ]
  },
  {
   "cell_type": "code",
   "execution_count": 186,
   "metadata": {},
   "outputs": [
    {
     "ename": "NameError",
     "evalue": "name 'streaming_df' is not defined",
     "output_type": "error",
     "traceback": [
      "\u001b[0;31m---------------------------------------------------------------------------\u001b[0m",
      "\u001b[0;31mNameError\u001b[0m                                 Traceback (most recent call last)",
      "\u001b[0;32m<ipython-input-186-fcdf189fed7a>\u001b[0m in \u001b[0;36m<module>\u001b[0;34m\u001b[0m\n\u001b[1;32m      1\u001b[0m \u001b[0;31m# compare difference in mean\u001b[0m\u001b[0;34m\u001b[0m\u001b[0;34m\u001b[0m\u001b[0;34m\u001b[0m\u001b[0m\n\u001b[0;32m----> 2\u001b[0;31m \u001b[0mstreaming_df\u001b[0m\u001b[0;34m.\u001b[0m\u001b[0mgroupBy\u001b[0m\u001b[0;34m(\u001b[0m\u001b[0;34m'churned'\u001b[0m\u001b[0;34m)\u001b[0m\u001b[0;34m.\u001b[0m\u001b[0mmean\u001b[0m\u001b[0;34m(\u001b[0m\u001b[0;34m)\u001b[0m\u001b[0;34m.\u001b[0m\u001b[0mshow\u001b[0m\u001b[0;34m(\u001b[0m\u001b[0;34m)\u001b[0m\u001b[0;34m\u001b[0m\u001b[0;34m\u001b[0m\u001b[0m\n\u001b[0m\u001b[1;32m      3\u001b[0m \u001b[0;34m\u001b[0m\u001b[0m\n\u001b[1;32m      4\u001b[0m \u001b[0;31m# convert to pandas df to plot\u001b[0m\u001b[0;34m\u001b[0m\u001b[0;34m\u001b[0m\u001b[0;34m\u001b[0m\u001b[0m\n\u001b[1;32m      5\u001b[0m \u001b[0mstreaming_pd\u001b[0m \u001b[0;34m=\u001b[0m \u001b[0mstreaming_df\u001b[0m\u001b[0;34m.\u001b[0m\u001b[0mtoPandas\u001b[0m\u001b[0;34m(\u001b[0m\u001b[0;34m)\u001b[0m\u001b[0;34m\u001b[0m\u001b[0;34m\u001b[0m\u001b[0m\n",
      "\u001b[0;31mNameError\u001b[0m: name 'streaming_df' is not defined"
     ]
    }
   ],
   "source": [
    "# compare difference in mean\n",
    "streaming_df.groupBy('churned').mean().show()\n",
    "\n",
    "# convert to pandas df to plot\n",
    "streaming_pd = streaming_df.toPandas()\n",
    "\n",
    "# plot\n",
    "ax = sns.violinplot(data=streaming_pd, y='churned', x='streaming_per_active_day', orient='h')\n",
    "plt.xlabel('Streaming hours per active day')\n",
    "plt.ylabel('Customers Churned')\n",
    "plt.title('Streaming hours per active day churned/not churned')\n",
    "sns.despine(ax=ax);"
   ]
  },
  {
   "cell_type": "markdown",
   "metadata": {},
   "source": [
    "### 3.3 Feature Creation"
   ]
  },
  {
   "cell_type": "markdown",
   "metadata": {},
   "source": [
    "After exploring possible features for a prediction model, the next step is to select the features which should be used for the machine learning model to decide if a user will churn or not.\n",
    "If the model will be based on algorithms like Logistic Regression or Linear Regression, the features have to be checked for Multicollinearity. \n",
    "When the features have high correlation and one feature can be predicted from other features there might be Multicollinearity. This can lead to misleading results in the prediction of the label. \n",
    "Decision trees and boosted trees algorithms are immune to multicollinearity. When they decide to split, the tree will choose only one of the perfectly correlated features.\n",
    " [3](https://towardsdatascience.com/why-feature-correlation-matters-a-lot-847e8ba439c4)"
   ]
  },
  {
   "cell_type": "code",
   "execution_count": 49,
   "metadata": {},
   "outputs": [],
   "source": [
    "# function to clean dataframe\n",
    "\n",
    "def clean_dataset(user_log_df):\n",
    "    '''\n",
    "    Function to clean user_log datase from userIds and sessionIds from NA and empty values.\n",
    "    '''\n",
    "\n",
    "    user_log_clean_df = user_log_df.dropna(how = 'any', subset = ['userId', 'sessionId'])\n",
    "    user_log_clean_df = user_log_clean_df.filter(user_log_clean_df['userId'] != '')\n",
    "\n",
    "    print('The dataset originally contained {} rows. \\nAfter cleaning there are {} rows left.'\n",
    "          .format(user_log_df.count(), user_log_clean_df.count()))\n",
    "    \n",
    "    return user_log_clean_df"
   ]
  },
  {
   "cell_type": "code",
   "execution_count": 50,
   "metadata": {},
   "outputs": [],
   "source": [
    "# create labeled dataframe\n",
    "\n",
    "def create_churn_label(user_log_clean_df):\n",
    "    '''\n",
    "    Function to create dataframe with numeric labels for churn, gender and level per userId from user_log.\n",
    "    '''\n",
    "    \n",
    "    user_log_flagged_df = flag_cancellation_events(user_log_clean_df)\n",
    "    labeled_data = create_labeled_userIds(user_log_flagged_df)\n",
    "    \n",
    "    return labeled_data\n",
    "     \n",
    "    \n",
    "def flag_cancellation_events(user_log_clean_df):\n",
    "    '''\n",
    "    Function to create new column in user_log where cancellation events are lagged with 1.\n",
    "    '''\n",
    "    \n",
    "    flag_cancellation_event = F.udf(\n",
    "        lambda cancellation_event: 1 if cancellation_event=='Cancellation Confirmation' else 0, IntegerType())\n",
    "    \n",
    "    user_log_flagged_df = user_log_clean_df.withColumn('cancellation_event', flag_cancellation_event('page'))\n",
    "\n",
    "    return user_log_flagged_df\n",
    "\n",
    "\n",
    "def create_labeled_userIds(user_log_flagged_df):\n",
    "    '''\n",
    "    Function to convert user_log to dataframe with one line per userId.\n",
    "    '''\n",
    "    \n",
    "    window_timeOrdered = Window.partitionBy('userId').orderBy(F.desc('ts'), F.desc('itemInSession'))\n",
    "    user_log_flagged_df = user_log_flagged_df.withColumn('rank', F.rank().over(window_timeOrdered))\n",
    "    labeled_df = user_log_flagged_df.select('userId', 'cancellation_event', 'gender', 'level') \\\n",
    "        .filter(user_log_flagged_df.rank == 1)\n",
    "    \n",
    "    labeled_df = labeled_df.withColumnRenamed('cancellation_event', 'label')\n",
    "    \n",
    "    return labeled_df\n",
    "    \n",
    "    \n",
    "def convert_to_numeric(labeled_data, categegorical_column):  \n",
    "    '''\n",
    "    Function to convert a categorical dataframe to a numerical dataframe.\n",
    "    '''\n",
    "    \n",
    "    indexer = StringIndexer(inputCol=categegorical_column, outputCol=categegorical_column+'Numeric')\n",
    "    indexed_df = indexer.fit(labeled_data).transform(labeled_data).drop(categegorical_column)\n",
    "\n",
    "    return indexed_df\n",
    "\n"
   ]
  },
  {
   "cell_type": "code",
   "execution_count": 125,
   "metadata": {},
   "outputs": [],
   "source": [
    "# create features dataframe\n",
    "\n",
    "def create_features(user_log_clean):\n",
    "    '''\n",
    "    Function to create features for ML model to predict churn.\n",
    "    '''\n",
    "    feature_df = create_features_per_songs_played(user_log_clean)\n",
    "    days_registrated = calculate_days_since_registrations(user_log_clean)  \n",
    "    songs_per_homevisit = calculate_songs_per_homevisit(user_log_clean)    \n",
    "    activity = calculate_activity(user_log_clean)   \n",
    "    streaming_h_per_activeDay = calculate_streaming_per_active_day(user_log_clean)  \n",
    "    \n",
    "    feature_df = feature_df.join(days_registrated, on=['userId'], how='full') \\\n",
    "        .join(songs_per_homevisit, on=['userId'], how='full') \\\n",
    "        .join(streaming_h_per_activeDay, on=['userId'], how='full') \\\n",
    "        .join(activity, on=['userId'], how='full') \n",
    "\n",
    "    feature_df = feature_df.na.fill(0)\n",
    "    \n",
    "    return feature_df\n",
    "\n",
    "\n",
    "def create_features_per_songs_played(user_log_clean):\n",
    "    '''\n",
    "    Function to create all columns with events per songs_played\n",
    "    '''\n",
    "    home_per_songs_played = calculate_event_per_songs_played(user_log_clean, 'Home')\n",
    "    feature_df = home_per_songs_played\n",
    "    \n",
    "    events = ['Thumbs Up', 'Add to Playlist', 'Add Friend', 'Roll Advert', 'Thumbs Down', \n",
    "              'Downgrade', 'Help', 'About', 'Upgrade', 'Error',  'Submit Upgrade', 'Submit Downgrade']\n",
    "    \n",
    "    for event in events:\n",
    "        new_feature = calculate_event_per_songs_played(user_log_clean, event)\n",
    "        feature_df = feature_df.join(new_feature, on=['userId'], how='full') \n",
    "    \n",
    "    return feature_df\n",
    "    \n",
    "\n",
    "def calculate_event_per_songs_played(user_log_clean, event_type):\n",
    "    '''\n",
    "    Function to calculate amount of certain events per userId.\n",
    "    '''\n",
    "    event_name = event_type.replace(' ', '_')\n",
    "    \n",
    "    songs_played_df = user_log_clean.filter(user_log_clean.page == 'NextSong') \\\n",
    "        .groupBy('userId').agg(F.count('userId').alias('songs_played'))\n",
    "\n",
    "    event_statistics_df = user_log_clean.filter(user_log_clean.page == event_type) \\\n",
    "        .groupBy('userId').agg(F.count('userId').alias(event_type))\n",
    "\n",
    "    print('{}: {}'.format(event_type, event_statistics_df.count()))\n",
    "    \n",
    "    feature_df = songs_played_df.join(event_statistics_df, on=['userId'], how='full')\n",
    "    \n",
    "    \n",
    "    feature_df = feature_df.withColumn(\n",
    "        event_name+'_per_songs_played', feature_df[event_type]/feature_df.songs_played) \\\n",
    "        .drop(event_type, 'songs_played')\n",
    "\n",
    "    return feature_df\n",
    "\n",
    "\n",
    "def calculate_avg_event_lastXsessions(user_log_clean, amount_sessions, event_type):\n",
    "    '''\n",
    "    Function to calculate mean of certain events per userId for last x sessionIds.\n",
    "    '''\n",
    "    \n",
    "    user_window = Window \\\n",
    "        .partitionBy('userID') \\\n",
    "        .orderBy(F.desc('max(ts)')) \n",
    "\n",
    "    user_log_clean = user_log_clean.select('userId', 'sessionId', 'page', 'ts') \\\n",
    "        .filter(user_log_clean.page == event_type) \\\n",
    "        .groupBy('userId', 'sessionId') \\\n",
    "        .agg(F.max('ts'), F.count('page')) \\\n",
    "        .withColumn('session_number', F.row_number().over(user_window))\n",
    "    \n",
    "    avg_event_lastXsessions = user_log_clean.filter(user_log_clean.session_number <= amount_sessions) \\\n",
    "        .groupBy('userId') \\\n",
    "        .agg(F.avg('count(page)')) \\\n",
    "        .withColumnRenamed('avg(count(page))', 'avg_'+event_type+'_lastXsessions')\n",
    "    \n",
    "    return avg_event_lastXsessions\n",
    "\n",
    "\n",
    "def calculate_days_since_registrations(user_log_clean):\n",
    "    '''\n",
    "    Function to create a dataframe with days since registration per userId\n",
    "    '''\n",
    "    \n",
    "    user_log_clean = add_days_since_registration(user_log_clean)\n",
    "    \n",
    "    days_registrated = user_log_clean.groupBy('userId') \\\n",
    "        .agg(F.max('days_since_registration').alias('days_registrated'))\n",
    "    \n",
    "    return days_registrated\n",
    "\n",
    "\n",
    "def add_days_since_registration(user_log_clean):\n",
    "    '''\n",
    "    Function to add column with days since registration for each user\n",
    "    '''\n",
    "    user_log_clean = user_log_clean.withColumn('days_since_registration', (F.ceil(\n",
    "        (user_log_clean.ts - user_log_clean.registration)/(1000*60*60*24)).cast('double'))) \n",
    "    \n",
    "    return user_log_clean\n",
    "\n",
    "\n",
    "def calculate_songs_per_homevisit(user_log_clean):\n",
    "    '''\n",
    "    Function to create dataframe with mean amount of songs between two home visits'''\n",
    "    \n",
    "    udf_homevisit = F.udf(lambda ishome : int(ishome == 'Home'), IntegerType())\n",
    "\n",
    "    user_window = Window \\\n",
    "        .partitionBy('userID') \\\n",
    "        .orderBy(F.desc('ts')) \\\n",
    "        .rangeBetween(Window.unboundedPreceding, 0)\n",
    "\n",
    "    songs_per_homevisit = user_log_clean.filter((user_log_clean.page == \"NextSong\") | (user_log_clean.page == 'Home')) \\\n",
    "        .select('userID', 'page', 'ts') \\\n",
    "        .withColumn('homevisit', udf_homevisit(F.col('page'))) \\\n",
    "        .withColumn('period', F.sum('homevisit').over(user_window))\n",
    "\n",
    "    songs_per_homevisit = songs_per_homevisit.filter((songs_per_homevisit.page == 'NextSong')) \\\n",
    "        .groupBy('userID', 'period') \\\n",
    "        .agg({'period':'count'}) \\\n",
    "        .groupBy('userID').mean() \\\n",
    "        .withColumnRenamed('avg(count(period))', 'songs_per_homevisit') \\\n",
    "        .drop('avg(period)')\n",
    "    \n",
    "    return songs_per_homevisit\n",
    "\n",
    "\n",
    "def calculate_avg_songs_per_session(user_log_clean):\n",
    "    '''\n",
    "    Function to create dataframe with mean amount of songs played per session for each user.\n",
    "    '''\n",
    "    avg_amount_songs_played_per_session = user_log_clean.select('userId', 'sessionId', 'page') \\\n",
    "        .filter('page = \"NextSong\"') \\\n",
    "        .groupby('userId', 'sessionId').count() \\\n",
    "        .select('userId', 'count') \\\n",
    "        .groupby('userId').mean() \\\n",
    "        .withColumnRenamed('avg(count)', 'avg_songs_per_session') \\\n",
    "    \n",
    "    return avg_amount_songs_played_per_session\n",
    "\n",
    "\n",
    "def calculate_activity(user_log_clean):\n",
    "\n",
    "    user_log_clean = add_days_since_registration(user_log_clean)\n",
    "    \n",
    "    user_log_clean = create_date_column(user_log_clean)\n",
    "\n",
    "    activity_df = user_log_clean.groupBy('userId') \\\n",
    "        .agg(F.max('days_since_registration').alias('days_since_registration'), \n",
    "             F.countDistinct('date').alias('days_active'))\n",
    "\n",
    "    activity_df = activity_df.filter('days_since_registration >= 1')\n",
    "    \n",
    "    activity_df = activity_df \\\n",
    "        .withColumn('percentage_active_days', activity_df.days_active/activity_df.days_since_registration) \\\n",
    "        .drop('days_since_registration', 'days_active')\n",
    "    \n",
    "    return activity_df\n",
    "\n",
    "\n",
    "def create_date_column(user_log_clean):\n",
    "    '''\n",
    "    Function to change format of timestamp to human readable format.\n",
    "    '''\n",
    "    \n",
    "    udf_convert_ts_to_date = F.udf(lambda timestamp: datetime.datetime.fromtimestamp(\n",
    "        timestamp / 1000.0).strftime('%Y-%m-%d'))\n",
    "\n",
    "    user_log_clean = user_log_clean \\\n",
    "        .withColumn('date', udf_convert_ts_to_date(user_log.ts))\n",
    "    \n",
    "    return user_log_clean\n",
    "\n",
    "\n",
    "def calculate_streaming_per_active_day(user_log_clean):\n",
    "    '''\n",
    "    Function to create a dataframe contatining a column with hours of streaming per active day\n",
    "    '''\n",
    "    user_log_clean = create_date_column(user_log_clean)\n",
    "    \n",
    "    streaming_df = user_log_clean.filter(user_log_clean.page == 'NextSong') \\\n",
    "        .groupBy('userId') \\\n",
    "        .agg((F.sum('length')/3600).alias('streamingTime_h'),\n",
    "             F.countDistinct('date').alias('days_active'))\n",
    "    \n",
    "    streaming_df = streaming_df \\\n",
    "        .withColumn('streaming_per_active_day', streaming_df.streamingTime_h/streaming_df.days_active) \\\n",
    "        .drop('streamingTime_h', 'days_active')\n",
    "    \n",
    "    return streaming_df"
   ]
  },
  {
   "cell_type": "code",
   "execution_count": 126,
   "metadata": {},
   "outputs": [],
   "source": [
    "def label_data(feature_df, labeled_df):\n",
    "    '''\n",
    "    Function to label users as churned/not churned\n",
    "    '''\n",
    "    data_df = feature_df.join(labeled_df, on=['userId'], how='inner') \n",
    "    \n",
    "    return data_df"
   ]
  },
  {
   "cell_type": "code",
   "execution_count": 127,
   "metadata": {},
   "outputs": [],
   "source": [
    "def create_correlation_graphic(data_raw):\n",
    "    '''\n",
    "    Function to visualize correlation of features.\n",
    "    '''\n",
    "\n",
    "    data_pd = data_raw.toPandas()\n",
    "    corrMatrix = data_pd.corr()\n",
    "\n",
    "    mask = np.triu(np.ones_like(corrMatrix, dtype=np.bool))\n",
    "\n",
    "    cmap = sns.diverging_palette(240, 20, n=10)\n",
    "    plt.figure(figsize=(18,18))\n",
    "    sns.heatmap(corrMatrix, annot=True, cmap=cmap, mask=mask)\n",
    "    plt.title('Correlation Matrix For Created Features')\n",
    "    plt.savefig('correlation_graphic.png')\n",
    "    plt.show()"
   ]
  },
  {
   "cell_type": "markdown",
   "metadata": {},
   "source": [
    "## 4. Data Modeling"
   ]
  },
  {
   "cell_type": "markdown",
   "metadata": {},
   "source": [
    "\n",
    "### 4.1 Vector Assembler and Feature Scaling\n",
    "\n",
    "Combine created features into a single vector and scale them usign Normalizer or Standard Scaler."
   ]
  },
  {
   "cell_type": "code",
   "execution_count": 131,
   "metadata": {},
   "outputs": [],
   "source": [
    "def find_numerical_columns(data_raw):\n",
    "    '''\n",
    "    Function to create array with column names of numeric columns\n",
    "    \n",
    "    args:\n",
    "        data_raw (spark dataframe): dataframe containing the features one column per feature for every userId\n",
    "        \n",
    "    returns:\n",
    "        numerical_columns (array): array containing the names of the numerical columns\n",
    "    '''\n",
    "    \n",
    "    numerical_columns = [f.name for f in data_raw.schema.fields if isinstance(f.dataType, (DoubleType))]\n",
    "    \n",
    "    return numerical_columns"
   ]
  },
  {
   "cell_type": "code",
   "execution_count": 182,
   "metadata": {},
   "outputs": [],
   "source": [
    "def create_preprocessing_pipeline(data_raw):\n",
    "    '''\n",
    "    Function to create a preprocessing pipeline for a given datafrane\n",
    "    \n",
    "    args:\n",
    "        data_raw (spark dataframe): dataframe containing the features one column per feature for every userId\n",
    "        \n",
    "    returns:\n",
    "        preprocess_pipeline (pyspark pipeline): a pipeline to process numerical and categorical featues into a feature vector\n",
    "        \n",
    "    '''\n",
    "\n",
    "    # differentiate between numerical and categorical columns\n",
    "    numerical_columns = find_numerical_columns(data_raw)\n",
    "\n",
    "    # index categorical columns\n",
    "    indexer_gender = StringIndexer(inputCol='gender', outputCol='gender_indexed')\n",
    "    indexer_level = StringIndexer(inputCol='level', outputCol='level_indexed')\n",
    "    assembler_categorical = VectorAssembler(inputCols = ['gender_indexed', 'level_indexed'],\n",
    "                                        outputCol = 'categorical_vectorized')\n",
    "\n",
    "    # assemble and scale numerical columns\n",
    "    assembler_numerical = VectorAssembler(inputCols = numerical_columns, outputCol = 'numerical_vectorized')\n",
    "    scaler = StandardScaler(inputCol = 'numerical_vectorized', outputCol = 'numerical_scaled', withStd = True, withMean = True)\n",
    "\n",
    "    # assemble all coulumns\n",
    "    assembler = VectorAssembler(inputCols = ['categorical_vectorized'] + ['numerical_scaled'], outputCol = \"features\")\n",
    "\n",
    "\n",
    "    preprocess_pipeline = Pipeline(stages=[indexer_gender, indexer_level, assembler_categorical, \n",
    "                                           assembler_numerical, scaler, assembler]) \n",
    "    \n",
    "    return preprocess_pipeline"
   ]
  },
  {
   "cell_type": "markdown",
   "metadata": {},
   "source": [
    "### 4.2 Split data into training and test data."
   ]
  },
  {
   "cell_type": "code",
   "execution_count": 136,
   "metadata": {},
   "outputs": [],
   "source": [
    "def create_train_test_split(data_processed, percentage_train):\n",
    "    ''' \n",
    "    Function to split data into training and test data.\n",
    "    '''\n",
    "\n",
    "    data_scaled = data_processed.select('label', 'features')\n",
    "    data_training, data_test = data_scaled.randomSplit([percentage_train, 1 - percentage_train], seed=42)\n",
    "    \n",
    "    return data_training, data_test"
   ]
  },
  {
   "cell_type": "code",
   "execution_count": 141,
   "metadata": {},
   "outputs": [],
   "source": [
    "def data_preparation(user_log):\n",
    "    ''' \n",
    "    Function to clean user_log, create features and assemble to vector.\n",
    "    \n",
    "    args:\n",
    "        \n",
    "    '''\n",
    "\n",
    "    user_log_clean = clean_dataset(user_log)\n",
    "    feature_df = create_features(user_log_clean)\n",
    "    labeled_df = create_churn_label(user_log_clean)\n",
    "    data_raw = label_data(feature_df, labeled_df)\n",
    "    create_correlation_graphic(data_raw)\n",
    "    preprocess_pipeline = create_preprocessing_pipeline(data_raw)\n",
    "    data_processed = preprocess_pipeline.fit(data_raw).transform(data_raw)\n",
    "    data_training, data_test = create_train_test_split(data_processed, 0.8)\n",
    "    \n",
    "    print('The training data contains {} observations, the test data contains {} observations'.format(\n",
    "        data_training.count(), data_test.count()))\n",
    "    \n",
    "    # check if the data is balanced\n",
    "    data_processed.groupBy('label').count().show()\n",
    "\n",
    "    return data_training, data_test"
   ]
  },
  {
   "cell_type": "code",
   "execution_count": null,
   "metadata": {},
   "outputs": [],
   "source": [
    "# runt the complete process from preparing data to training and test data\n",
    "data_training, data_test = data_preparation(user_log)"
   ]
  },
  {
   "cell_type": "markdown",
   "metadata": {},
   "source": [
    "### 4.3 Create Models"
   ]
  },
  {
   "cell_type": "code",
   "execution_count": 142,
   "metadata": {},
   "outputs": [],
   "source": [
    "def evaluate_model(results):\n",
    "    '''\n",
    "    Function to evaluate prediction of model using F1 score and area under ROC\n",
    "    \n",
    "    args:\n",
    "        results (pyspark dataframe): Results from predicting classes with trained model on test data\n",
    "        \n",
    "    returns:\n",
    "        prints out F1-Score and Area under ROC for given results\n",
    "    '''\n",
    "\n",
    "    f1_evaluator = MulticlassClassificationEvaluator(metricName='f1')\n",
    "    f1_score = f1_evaluator.evaluate(results.select(F.col('label'), F.col('prediction')))\n",
    "    \n",
    "    print('F1-score = {:.4%}'.format(f1_score)) \n",
    "    \n",
    "    auc_evaluator = BinaryClassificationEvaluator()\n",
    "    auc_score = auc_evaluator.evaluate(results, {auc_evaluator.metricName: 'areaUnderROC'})\n",
    "    \n",
    "    print('Area under ROC = {:.4%}'.format(auc_score))"
   ]
  },
  {
   "cell_type": "code",
   "execution_count": 143,
   "metadata": {},
   "outputs": [],
   "source": [
    "def train_test_model(model, data_training, data_test):\n",
    "    ''' \n",
    "    Function to train and test instantiated model and evaluate prediction regarding F1-Score and Area under ROC\n",
    "    '''\n",
    "    start = time.time()\n",
    "\n",
    "    clf = model.fit(data_training)\n",
    "    results = clf.transform(data_test)\n",
    "\n",
    "    end = time.time()\n",
    "    print('Time spent for training and predicting: {}'.format(round(end-start,2)))\n",
    "\n",
    "    evaluate_model(results)"
   ]
  },
  {
   "cell_type": "markdown",
   "metadata": {},
   "source": [
    "## 5. Evaluate the Results"
   ]
  },
  {
   "cell_type": "markdown",
   "metadata": {},
   "source": [
    "#### Logistic Regression"
   ]
  },
  {
   "cell_type": "code",
   "execution_count": 144,
   "metadata": {},
   "outputs": [
    {
     "name": "stdout",
     "output_type": "stream",
     "text": [
      "Time spent for training and predicting: 104.84\n",
      "F1-score = 64.6319%\n",
      "Area under ROC = 48.1481%\n"
     ]
    }
   ],
   "source": [
    "lr = LogisticRegression()\n",
    "train_test_model(lr, data_training, data_test)"
   ]
  },
  {
   "cell_type": "markdown",
   "metadata": {},
   "source": [
    "#### Random Forest Classifier"
   ]
  },
  {
   "cell_type": "code",
   "execution_count": 145,
   "metadata": {},
   "outputs": [
    {
     "name": "stdout",
     "output_type": "stream",
     "text": [
      "Time spent for training and predicting: 148.48\n",
      "F1-score = 60.2317%\n",
      "Area under ROC = 67.4074%\n"
     ]
    }
   ],
   "source": [
    "rf = RandomForestClassifier()\n",
    "train_test_model(rf, data_training, data_test)"
   ]
  },
  {
   "cell_type": "markdown",
   "metadata": {},
   "source": [
    "#### GBT Classifier"
   ]
  },
  {
   "cell_type": "code",
   "execution_count": 146,
   "metadata": {},
   "outputs": [
    {
     "name": "stdout",
     "output_type": "stream",
     "text": [
      "Time spent for training and predicting: 163.42\n",
      "F1-score = 66.5750%\n",
      "Area under ROC = 69.6296%\n"
     ]
    }
   ],
   "source": [
    "gbt = GBTClassifier()\n",
    "train_test_model(gbt, data_training, data_test)"
   ]
  },
  {
   "cell_type": "markdown",
   "metadata": {},
   "source": [
    "#### Parameter tuning"
   ]
  },
  {
   "cell_type": "code",
   "execution_count": 72,
   "metadata": {},
   "outputs": [],
   "source": [
    "def find_best_model_paramters(model, data_training, data_test, paramGrid):\n",
    "    '''\n",
    "    Function to find best parameters in grid for given model\n",
    "    '''\n",
    "    \n",
    "    crossval = CrossValidator(estimator = Pipeline(stages=[model]),\n",
    "                          estimatorParamMaps = paramGrid,\n",
    "                          evaluator = MulticlassClassificationEvaluator(metricName='f1'),\n",
    "                          numFolds = 4)\n",
    "\n",
    "    cvModel = crossval.fit(data_training)\n",
    "    predictions = cvModel.transform(data_test)\n",
    "    evaluate_model(predictions)\n",
    "    bestPipeline = cvModel.bestModel\n",
    "\n",
    "return bestPipeline"
   ]
  },
  {
   "cell_type": "code",
   "execution_count": 180,
   "metadata": {},
   "outputs": [],
   "source": [
    "def create_feature_importance_df(numerical_columns, bestPipeline):\n",
    "    '''\n",
    "    Function to create a dataframe with feature importance calculated via RandomForestClassifier\n",
    "    '''\n",
    "    \n",
    "    feature_names = ['gender', 'level'] + numerical_columns\n",
    "    feature_importance = []\n",
    "\n",
    "    for i in range(len(bestPipeline.stages[0].featureImportances)):    \n",
    "        feature_importance.append(round(bestPipeline.stages[0].featureImportances[i],5))\n",
    "\n",
    "            \n",
    "    importance = {'names':feature_names, 'importance': feature_importance}\n",
    "    importance_df = pd.DataFrame(importance)\n",
    "    importance_df.sort_values('importance', ascending=False, inplace=True)\n",
    "\n",
    "    return importance_df"
   ]
  },
  {
   "cell_type": "code",
   "execution_count": 177,
   "metadata": {},
   "outputs": [],
   "source": [
    "def plot_feature_importance(feature_importance_df, model_type):\n",
    "    '''\n",
    "    Function to plot the feature importance.\n",
    "    \n",
    "    args:\n",
    "        feature_importance_df (pandas dataframe): dataframe with columns names and importance\n",
    "        model_type (string): name of the model used to determine the feature importance\n",
    "    '''\n",
    "    plt.figure(figsize=(8,8))\n",
    "    barplot = sns.barplot(x='importance', y='names', data=feature_importance_df, color=base_color)\n",
    "    plt.title('Feature Importance of the'+model_type, size=14)\n",
    "    plt.ylabel('Feature Names', size=10)\n",
    "    plt.xlabel('Feature Importance in Percentage', size=10)\n",
    "    plt.savefig('feature_importance '+'.png')\n",
    "    plt.show()"
   ]
  },
  {
   "cell_type": "code",
   "execution_count": 185,
   "metadata": {},
   "outputs": [
    {
     "name": "stdout",
     "output_type": "stream",
     "text": [
      "F1-score = 58.8492%\n",
      "Area under ROC = 52.5926%\n"
     ]
    }
   ],
   "source": [
    "# find best parameter tuning for logistic regression optimizing for f1\n",
    "lr = LogisticRegression()\n",
    "    \n",
    "paramGrid_lr = ParamGridBuilder() \\\n",
    "        .addGrid(lr.regParam, [0, 0.01, 0.1]) \\\n",
    "        .addGrid(lr.elasticNetParam, [0, .5, 1]) \\\n",
    "        .addGrid(lr.maxIter, [1, 100, 150]) \\\n",
    "        .build()  \n",
    "\n",
    "bestPipeline_lr = find_best_model_paramters(lr, data_training, data_test, paramGrid_lr)"
   ]
  },
  {
   "cell_type": "code",
   "execution_count": 155,
   "metadata": {},
   "outputs": [
    {
     "name": "stdout",
     "output_type": "stream",
     "text": [
      "F1-score = 70.5225%\n",
      "Area under ROC = 71.6667%\n"
     ]
    }
   ],
   "source": [
    "# find best parameter tuning for random forest optimizing for f1\n",
    "rf = RandomForestClassifier()\n",
    "    \n",
    "paramGrid_rf = ParamGridBuilder() \\\n",
    "    .addGrid(rf.numTrees, [25, 50, 75]) \\\n",
    "    .addGrid(rf.maxBins, [16, 48]) \\\n",
    "    .addGrid(rf.maxDepth, [10, 15, 30]) \\\n",
    "    .build()   \n",
    "    \n",
    "bestPipeline_rf = find_best_model_paramters(rf, data_training, data_test, paramGrid_rf)"
   ]
  },
  {
   "cell_type": "code",
   "execution_count": 181,
   "metadata": {},
   "outputs": [
    {
     "data": {
      "image/png": "[encoded data removed]",
      "text/plain": [
       "<Figure size 576x576 with 1 Axes>"
      ]
     },
     "metadata": {
      "needs_background": "light"
     },
     "output_type": "display_data"
    }
   ],
   "source": [
    "importance_rf_df = create_feature_importance_df(numerical_columns, bestPipeline_rf)\n",
    "plot_feature_importance(importance_rf_df, 'Random Forest Classifier')"
   ]
  },
  {
   "cell_type": "code",
   "execution_count": 152,
   "metadata": {},
   "outputs": [
    {
     "name": "stdout",
     "output_type": "stream",
     "text": [
      "F1-score = 72.6523%\n",
      "Area under ROC = 57.7778%\n"
     ]
    }
   ],
   "source": [
    "gbt = GBTClassifier()\n",
    "    \n",
    "paramGrid_gbt = ParamGridBuilder() \\\n",
    "        .addGrid(gbt.maxDepth, [3, 5, 10]) \\\n",
    "        .addGrid(gbt.maxBins, [16, 32, 48]) \\\n",
    "        .addGrid(gbt.maxIter, [10, 20, 30]) \\\n",
    "        .build()  \n",
    "    \n",
    "bestPipeline_gbt = find_best_model_paramters(gbt, data_training, data_test, paramGrid_gbt)"
   ]
  },
  {
   "cell_type": "code",
   "execution_count": 153,
   "metadata": {},
   "outputs": [
    {
     "data": {
      "text/html": [
       "<div>\n",
       "<style scoped>\n",
       "    .dataframe tbody tr th:only-of-type {\n",
       "        vertical-align: middle;\n",
       "    }\n",
       "\n",
       "    .dataframe tbody tr th {\n",
       "        vertical-align: top;\n",
       "    }\n",
       "\n",
       "    .dataframe thead th {\n",
       "        text-align: right;\n",
       "    }\n",
       "</style>\n",
       "<table border=\"1\" class=\"dataframe\">\n",
       "  <thead>\n",
       "    <tr style=\"text-align: right;\">\n",
       "      <th></th>\n",
       "      <th>names</th>\n",
       "      <th>importance</th>\n",
       "    </tr>\n",
       "  </thead>\n",
       "  <tbody>\n",
       "    <tr>\n",
       "      <th>15</th>\n",
       "      <td>days_registrated</td>\n",
       "      <td>0.14256</td>\n",
       "    </tr>\n",
       "    <tr>\n",
       "      <th>10</th>\n",
       "      <td>About_per_songs_played</td>\n",
       "      <td>0.14176</td>\n",
       "    </tr>\n",
       "    <tr>\n",
       "      <th>17</th>\n",
       "      <td>streaming_per_active_day</td>\n",
       "      <td>0.11955</td>\n",
       "    </tr>\n",
       "    <tr>\n",
       "      <th>4</th>\n",
       "      <td>Add_to_Playlist_per_songs_played</td>\n",
       "      <td>0.11085</td>\n",
       "    </tr>\n",
       "    <tr>\n",
       "      <th>7</th>\n",
       "      <td>Thumbs_Down_per_songs_played</td>\n",
       "      <td>0.09853</td>\n",
       "    </tr>\n",
       "    <tr>\n",
       "      <th>18</th>\n",
       "      <td>percentage_active_days</td>\n",
       "      <td>0.08335</td>\n",
       "    </tr>\n",
       "    <tr>\n",
       "      <th>3</th>\n",
       "      <td>Thumbs_Up_per_songs_played</td>\n",
       "      <td>0.07466</td>\n",
       "    </tr>\n",
       "    <tr>\n",
       "      <th>6</th>\n",
       "      <td>Roll_Advert_per_songs_played</td>\n",
       "      <td>0.05968</td>\n",
       "    </tr>\n",
       "    <tr>\n",
       "      <th>8</th>\n",
       "      <td>Downgrade_per_songs_played</td>\n",
       "      <td>0.04368</td>\n",
       "    </tr>\n",
       "    <tr>\n",
       "      <th>5</th>\n",
       "      <td>Add_Friend_per_songs_played</td>\n",
       "      <td>0.03606</td>\n",
       "    </tr>\n",
       "    <tr>\n",
       "      <th>9</th>\n",
       "      <td>Help_per_songs_played</td>\n",
       "      <td>0.02837</td>\n",
       "    </tr>\n",
       "    <tr>\n",
       "      <th>16</th>\n",
       "      <td>songs_per_homevisit</td>\n",
       "      <td>0.01787</td>\n",
       "    </tr>\n",
       "    <tr>\n",
       "      <th>2</th>\n",
       "      <td>Home_per_songs_played</td>\n",
       "      <td>0.01422</td>\n",
       "    </tr>\n",
       "    <tr>\n",
       "      <th>12</th>\n",
       "      <td>Error_per_songs_played</td>\n",
       "      <td>0.01271</td>\n",
       "    </tr>\n",
       "    <tr>\n",
       "      <th>13</th>\n",
       "      <td>Submit_Upgrade_per_songs_played</td>\n",
       "      <td>0.00741</td>\n",
       "    </tr>\n",
       "    <tr>\n",
       "      <th>0</th>\n",
       "      <td>gender</td>\n",
       "      <td>0.00731</td>\n",
       "    </tr>\n",
       "    <tr>\n",
       "      <th>1</th>\n",
       "      <td>level</td>\n",
       "      <td>0.00141</td>\n",
       "    </tr>\n",
       "    <tr>\n",
       "      <th>11</th>\n",
       "      <td>Upgrade_per_songs_played</td>\n",
       "      <td>0.00000</td>\n",
       "    </tr>\n",
       "    <tr>\n",
       "      <th>14</th>\n",
       "      <td>Submit_Downgrade_per_songs_played</td>\n",
       "      <td>0.00000</td>\n",
       "    </tr>\n",
       "  </tbody>\n",
       "</table>\n",
       "</div>"
      ],
      "text/plain": [
       "                                names  importance\n",
       "15                   days_registrated     0.14256\n",
       "10             About_per_songs_played     0.14176\n",
       "17           streaming_per_active_day     0.11955\n",
       "4    Add_to_Playlist_per_songs_played     0.11085\n",
       "7        Thumbs_Down_per_songs_played     0.09853\n",
       "18             percentage_active_days     0.08335\n",
       "3          Thumbs_Up_per_songs_played     0.07466\n",
       "6        Roll_Advert_per_songs_played     0.05968\n",
       "8          Downgrade_per_songs_played     0.04368\n",
       "5         Add_Friend_per_songs_played     0.03606\n",
       "9               Help_per_songs_played     0.02837\n",
       "16                songs_per_homevisit     0.01787\n",
       "2               Home_per_songs_played     0.01422\n",
       "12             Error_per_songs_played     0.01271\n",
       "13    Submit_Upgrade_per_songs_played     0.00741\n",
       "0                              gender     0.00731\n",
       "1                               level     0.00141\n",
       "11           Upgrade_per_songs_played     0.00000\n",
       "14  Submit_Downgrade_per_songs_played     0.00000"
      ]
     },
     "execution_count": 153,
     "metadata": {},
     "output_type": "execute_result"
    }
   ],
   "source": [
    "importance_gbt_df = create_feature_importance_df(numerical_columns, bestPipeline_gbt)\n",
    "plot_feature_importance(importance_gbt_df, 'Gradient-Boosted Tree Classifier')"
   ]
  },
  {
   "cell_type": "markdown",
   "metadata": {},
   "source": [
    "## 6. Deploy"
   ]
  },
  {
   "cell_type": "code",
   "execution_count": null,
   "metadata": {},
   "outputs": [],
   "source": [
    "# model won't be deployed"
   ]
  },
  {
   "cell_type": "code",
   "execution_count": null,
   "metadata": {},
   "outputs": [],
   "source": [
    "# Write a script to extract the necessary features from the smaller subset of data\n",
    "# Ensure that your script is scalable, using the best practices discussed in Lesson 3\n",
    "# Try your script on the full data set, debugging your script if necessary"
   ]
  }
 ],
 "metadata": {
  "kernelspec": {
   "display_name": "Python 3",
   "language": "python",
   "name": "python3"
  },
  "language_info": {
   "codemirror_mode": {
    "name": "ipython",
    "version": 3
   },
   "file_extension": ".py",
   "mimetype": "text/x-python",
   "name": "python",
   "nbconvert_exporter": "python",
   "pygments_lexer": "ipython3",
   "version": "3.8.0"
  }
 },
 "nbformat": 4,
 "nbformat_minor": 2
}
